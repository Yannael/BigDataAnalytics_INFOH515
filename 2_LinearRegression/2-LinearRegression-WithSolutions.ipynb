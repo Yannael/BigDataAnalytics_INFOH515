{
 "cells": [
  {
   "cell_type": "markdown",
   "metadata": {},
   "source": [
    "# [INFO-H515 - Big Data Scalable Analytics](https://uv.ulb.ac.be/course/view.php?id=85246?username=guest)\n",
    "\n",
    "## TP 2 - Linear Regression with Map Reduce\n",
    "\n",
    "*Materials orignally developed by Yann-Aël Le Borgne, Jacopo De Stefani and Gianluca Bontempi*\n",
    "\n",
    "#### *Jacopo De Stefani, Theo Verhelst and Gianluca Bontempi*\n",
    "\n",
    "####  22/04/2020"
   ]
  },
  {
   "cell_type": "markdown",
   "metadata": {},
   "source": [
    "This class aims at implementing from scratch map-reduce solutions to linear regression problems. Linear regression consists in approximating an output (response) variable $y$ by a linear combination of a set of inputs (dependent variables) $x_i$.\n",
    "\n",
    "![](./img/ExampleLinReg.png)\n",
    "\n",
    "The two main approaches to solve linear regression problems are the Ordinary Least Squares (OLS), and the Gradient Descent (GD). \n",
    "\n",
    "### Class objectives:\n",
    "\n",
    "* Review the solving of a linear regression problem using the standard ML sklearn Python toolbox\n",
    "* Review the ordinary least square (OLS) solution. Implement it from scratch using numpy\n",
    "* Implement the Map/Reduce OLS solution using Spark\n",
    "* Review the Gradient Descent (GD) solution. Implement it from scratch using numpy\n",
    "* Implement the Map/Reduce GD solution using Spark\n",
    "* Solve the problem using Spark ML library - LinearRegression, and its OLS and gradient descent implementations\n",
    "* Interpret Spark optimisation plan and algorithm distribution in the Spark user interface\n",
    "\n"
   ]
  },
  {
   "cell_type": "markdown",
   "metadata": {},
   "source": [
    "# Linear regression - Background theory\n",
    "\n",
    "* Linear regression is a widely used method in predictive analytics.\n",
    "* It consists in approximating an output by a weighted sum of the inputs, in such a way that the mean square error between the predicted and true outputs is minimized.\n",
    "\n",
    "### Notations\n",
    "* Let $(x_i,y_i)$, $1 \\le i \\le N$, be a set of $N$ observations, with $x_i \\in \\mathbb{R}^n$ and $y_i \\in \\mathbb{R}$. $x_i$ are the inputs, and $y_i$ the outputs.\n",
    "* Let $X$ be the matrix of inputs with rows $x_i$, of size $N \\times n$ ($N$ observations, (rows) and $n$ features (columns)). \n",
    "* Let $Y \\in \\mathbb{R}^N$ be the vector of outputs $y_i$.\n",
    "* Let $\\theta \\in \\mathbb{R}^n$ be the parameters of a linear model $\\hat{y_i}=\\theta x_i^T$.\n",
    "* Let $L(y_i, \\hat{y}_i)=\\frac{1}{2}(y_i-\\hat{y}_i)^2$ be the mean squared loss function.\n",
    "\n"
   ]
  },
  {
   "cell_type": "markdown",
   "metadata": {},
   "source": [
    "\n",
    "### Solutions to the regression problems\n",
    "\n",
    "#### Ordinary least squares\n",
    "\n",
    "[It can be shown](https://theclevermachine.wordpress.com/2012/09/01/derivation-of-ols-normal-equations/) that the set of parameters $\\hat{\\theta}$ which minimize the loss function $L$ over the whole set of observations $(X,Y)$ is given by\n",
    "\n",
    "$$\n",
    "\\hat{\\theta}^T = (X^T X)^{-1} (X^T Y)\n",
    "$$\n",
    "\n",
    "This is the **Ordinary Least Square** solution, which is the closed form solution.\n",
    "\n",
    "#### Gradient descent \n",
    "\n",
    "The closed form solution (OLS) requires a matrix inversion, which is not possible if $X^T X$ is singular (which happens if $n>N$ or if a feature is a linear combination of others). An alternative to the OLS method is the  Gradient Descent (GD) method. The linear regression weights are first drawn at random. They are then iteratively updated by summing and averaging the gradients for all $x_i$ in $X$.    \n",
    "\n",
    "``` \n",
    "GD(X,Y,T,η)\n",
    "N<-nrow(X)\n",
    "theta_0 <- random initialization\n",
    "for t = 1 to T do\n",
    "    sum_gradient=0\n",
    "    for i = 1 to N\n",
    "        sum_gradient=sum_gradient − ηL'(x_i,y_i)\n",
    "    end_for\n",
    "    theta_t ← theta_(t−1)+sum_gradient/N\n",
    "end_for\n",
    "return theta_t\n",
    "``` \n",
    "$L'$ is the derivative of $L$. For the squared loss, we have $L'(y_i, \\hat{y}_i)=(x_i \\theta^T-y_i)x_i$.\n",
    "\n",
    "Note that the GD approach requires two hyperparameters: The number of iteration $T$, and the learning rate $η$, which controls how 'fast' the linear weights are updated. Tuning $T$ and $η$ to efficiently solve the problem is in practice often difficult. "
   ]
  },
  {
   "cell_type": "markdown",
   "metadata": {},
   "source": [
    "### Map/Reduce\n",
    "\n",
    "If X and Y do not fit in memory, Map/Reduce can be used to solve the linear regression problem in a distributed way. Two cases can be distinguished:\n",
    "\n",
    "* ** $N$ large and $n$ 'small' ** : $X^TX$ and $X^TY$ are of size $n \\times n$ and $n \\times 1$, respectively, and can be assumed to be 'small' enough to fit in the memory of a single machine. Only the matrix products $X^TX$ and $X^TY$ are computed with Map/Reduce in a distributed way. The matrix inversion $(X^TX)^{-1}$ and resulting product $\\hat{\\theta}^T = (X^T X)^{-1} (X^T Y)$ are then computed on a single machine.\n",
    "\n",
    "* ** $n$ 'large' ** : The matrix product $X^TX$ has size $n^2$ which can become too large to fit on a single machine. The risk that $X^TX$ is singular and that the inverse cannot be computed is also increased. The Map/Reduce GD method must be used.\n",
    "\n"
   ]
  },
  {
   "cell_type": "markdown",
   "metadata": {},
   "source": [
    "# General imports"
   ]
  },
  {
   "cell_type": "code",
   "execution_count": 1,
   "metadata": {},
   "outputs": [],
   "source": [
    "import time\n",
    "import os \n",
    "import numpy as np\n",
    "\n",
    "%matplotlib notebook  \n",
    "import matplotlib as mpl\n",
    "import matplotlib.pyplot as plt\n",
    "from mpl_toolkits.mplot3d import Axes3D\n"
   ]
  },
  {
   "cell_type": "markdown",
   "metadata": {},
   "source": [
    "We will be using mostly numpy and Spark RDD libraries. For reference, you can look up the details of the relevant Spark methods in [Spark's Python API](https://spark.apache.org/docs/latest/api/python/pyspark.html#pyspark.RDD) and the relevant [NumPy](https://docs.scipy.org/doc/numpy/reference/index.html) methods in the NumPy Reference."
   ]
  },
  {
   "cell_type": "markdown",
   "metadata": {},
   "source": [
    "# 1) Dataset generation\n",
    "\n",
    "Let us first generate an artificial dataset of $N$ observations where the output $y$ is a linear combination of $n$ inputs plus gaussian noise."
   ]
  },
  {
   "cell_type": "code",
   "execution_count": 2,
   "metadata": {},
   "outputs": [],
   "source": [
    "def genData(N,n,random_seed):\n",
    "    \n",
    "    start = time.time()\n",
    "\n",
    "    np.random.seed(0)   \n",
    "\n",
    "    #Inputs and the weights of the linear combination are drawn at random\n",
    "    X=np.random.rand(N,n)\n",
    "    theta=np.random.rand(n)\n",
    "    #noise=np.random.rand(N)\n",
    "\n",
    "    Y=np.dot(X,theta)#+noise\n",
    "    Y=Y[:,np.newaxis]\n",
    "    Z=np.concatenate((X,Y),axis=1)\n",
    "\n",
    "    print(\"Number of observations :\",N)\n",
    "    print(\"Number of features :\",n)\n",
    "\n",
    "    print(\"Dimension of X :\",X.shape)\n",
    "    print(\"Dimension of theta :\",theta.shape)\n",
    "    print(\"Dimension of Y :\",Y.shape)\n",
    "\n",
    "    end = time.time()\n",
    "    print(\"Time to create artificial data: \",round(end - start,2),\"seconds\")\n",
    "    \n",
    "    return (X,Y,Z,theta)"
   ]
  },
  {
   "cell_type": "code",
   "execution_count": 3,
   "metadata": {
    "scrolled": true
   },
   "outputs": [
    {
     "name": "stdout",
     "output_type": "stream",
     "text": [
      "Number of observations : 100\n",
      "Number of features : 2\n",
      "Dimension of X : (100, 2)\n",
      "Dimension of theta : (2,)\n",
      "Dimension of Y : (100, 1)\n",
      "Time to create artificial data:  0.12 seconds\n"
     ]
    }
   ],
   "source": [
    "#Let us generate the dataset\n",
    "N=100\n",
    "n=2\n",
    "(X,Y,Z,theta)=genData(N,n,0)"
   ]
  },
  {
   "cell_type": "code",
   "execution_count": 4,
   "metadata": {},
   "outputs": [
    {
     "data": {
      "application/javascript": [
       "/* Put everything inside the global mpl namespace */\n",
       "window.mpl = {};\n",
       "\n",
       "\n",
       "mpl.get_websocket_type = function() {\n",
       "    if (typeof(WebSocket) !== 'undefined') {\n",
       "        return WebSocket;\n",
       "    } else if (typeof(MozWebSocket) !== 'undefined') {\n",
       "        return MozWebSocket;\n",
       "    } else {\n",
       "        alert('Your browser does not have WebSocket support. ' +\n",
       "              'Please try Chrome, Safari or Firefox ≥ 6. ' +\n",
       "              'Firefox 4 and 5 are also supported but you ' +\n",
       "              'have to enable WebSockets in about:config.');\n",
       "    };\n",
       "}\n",
       "\n",
       "mpl.figure = function(figure_id, websocket, ondownload, parent_element) {\n",
       "    this.id = figure_id;\n",
       "\n",
       "    this.ws = websocket;\n",
       "\n",
       "    this.supports_binary = (this.ws.binaryType != undefined);\n",
       "\n",
       "    if (!this.supports_binary) {\n",
       "        var warnings = document.getElementById(\"mpl-warnings\");\n",
       "        if (warnings) {\n",
       "            warnings.style.display = 'block';\n",
       "            warnings.textContent = (\n",
       "                \"This browser does not support binary websocket messages. \" +\n",
       "                    \"Performance may be slow.\");\n",
       "        }\n",
       "    }\n",
       "\n",
       "    this.imageObj = new Image();\n",
       "\n",
       "    this.context = undefined;\n",
       "    this.message = undefined;\n",
       "    this.canvas = undefined;\n",
       "    this.rubberband_canvas = undefined;\n",
       "    this.rubberband_context = undefined;\n",
       "    this.format_dropdown = undefined;\n",
       "\n",
       "    this.image_mode = 'full';\n",
       "\n",
       "    this.root = $('<div/>');\n",
       "    this._root_extra_style(this.root)\n",
       "    this.root.attr('style', 'display: inline-block');\n",
       "\n",
       "    $(parent_element).append(this.root);\n",
       "\n",
       "    this._init_header(this);\n",
       "    this._init_canvas(this);\n",
       "    this._init_toolbar(this);\n",
       "\n",
       "    var fig = this;\n",
       "\n",
       "    this.waiting = false;\n",
       "\n",
       "    this.ws.onopen =  function () {\n",
       "            fig.send_message(\"supports_binary\", {value: fig.supports_binary});\n",
       "            fig.send_message(\"send_image_mode\", {});\n",
       "            if (mpl.ratio != 1) {\n",
       "                fig.send_message(\"set_dpi_ratio\", {'dpi_ratio': mpl.ratio});\n",
       "            }\n",
       "            fig.send_message(\"refresh\", {});\n",
       "        }\n",
       "\n",
       "    this.imageObj.onload = function() {\n",
       "            if (fig.image_mode == 'full') {\n",
       "                // Full images could contain transparency (where diff images\n",
       "                // almost always do), so we need to clear the canvas so that\n",
       "                // there is no ghosting.\n",
       "                fig.context.clearRect(0, 0, fig.canvas.width, fig.canvas.height);\n",
       "            }\n",
       "            fig.context.drawImage(fig.imageObj, 0, 0);\n",
       "        };\n",
       "\n",
       "    this.imageObj.onunload = function() {\n",
       "        fig.ws.close();\n",
       "    }\n",
       "\n",
       "    this.ws.onmessage = this._make_on_message_function(this);\n",
       "\n",
       "    this.ondownload = ondownload;\n",
       "}\n",
       "\n",
       "mpl.figure.prototype._init_header = function() {\n",
       "    var titlebar = $(\n",
       "        '<div class=\"ui-dialog-titlebar ui-widget-header ui-corner-all ' +\n",
       "        'ui-helper-clearfix\"/>');\n",
       "    var titletext = $(\n",
       "        '<div class=\"ui-dialog-title\" style=\"width: 100%; ' +\n",
       "        'text-align: center; padding: 3px;\"/>');\n",
       "    titlebar.append(titletext)\n",
       "    this.root.append(titlebar);\n",
       "    this.header = titletext[0];\n",
       "}\n",
       "\n",
       "\n",
       "\n",
       "mpl.figure.prototype._canvas_extra_style = function(canvas_div) {\n",
       "\n",
       "}\n",
       "\n",
       "\n",
       "mpl.figure.prototype._root_extra_style = function(canvas_div) {\n",
       "\n",
       "}\n",
       "\n",
       "mpl.figure.prototype._init_canvas = function() {\n",
       "    var fig = this;\n",
       "\n",
       "    var canvas_div = $('<div/>');\n",
       "\n",
       "    canvas_div.attr('style', 'position: relative; clear: both; outline: 0');\n",
       "\n",
       "    function canvas_keyboard_event(event) {\n",
       "        return fig.key_event(event, event['data']);\n",
       "    }\n",
       "\n",
       "    canvas_div.keydown('key_press', canvas_keyboard_event);\n",
       "    canvas_div.keyup('key_release', canvas_keyboard_event);\n",
       "    this.canvas_div = canvas_div\n",
       "    this._canvas_extra_style(canvas_div)\n",
       "    this.root.append(canvas_div);\n",
       "\n",
       "    var canvas = $('<canvas/>');\n",
       "    canvas.addClass('mpl-canvas');\n",
       "    canvas.attr('style', \"left: 0; top: 0; z-index: 0; outline: 0\")\n",
       "\n",
       "    this.canvas = canvas[0];\n",
       "    this.context = canvas[0].getContext(\"2d\");\n",
       "\n",
       "    var backingStore = this.context.backingStorePixelRatio ||\n",
       "\tthis.context.webkitBackingStorePixelRatio ||\n",
       "\tthis.context.mozBackingStorePixelRatio ||\n",
       "\tthis.context.msBackingStorePixelRatio ||\n",
       "\tthis.context.oBackingStorePixelRatio ||\n",
       "\tthis.context.backingStorePixelRatio || 1;\n",
       "\n",
       "    mpl.ratio = (window.devicePixelRatio || 1) / backingStore;\n",
       "\n",
       "    var rubberband = $('<canvas/>');\n",
       "    rubberband.attr('style', \"position: absolute; left: 0; top: 0; z-index: 1;\")\n",
       "\n",
       "    var pass_mouse_events = true;\n",
       "\n",
       "    canvas_div.resizable({\n",
       "        start: function(event, ui) {\n",
       "            pass_mouse_events = false;\n",
       "        },\n",
       "        resize: function(event, ui) {\n",
       "            fig.request_resize(ui.size.width, ui.size.height);\n",
       "        },\n",
       "        stop: function(event, ui) {\n",
       "            pass_mouse_events = true;\n",
       "            fig.request_resize(ui.size.width, ui.size.height);\n",
       "        },\n",
       "    });\n",
       "\n",
       "    function mouse_event_fn(event) {\n",
       "        if (pass_mouse_events)\n",
       "            return fig.mouse_event(event, event['data']);\n",
       "    }\n",
       "\n",
       "    rubberband.mousedown('button_press', mouse_event_fn);\n",
       "    rubberband.mouseup('button_release', mouse_event_fn);\n",
       "    // Throttle sequential mouse events to 1 every 20ms.\n",
       "    rubberband.mousemove('motion_notify', mouse_event_fn);\n",
       "\n",
       "    rubberband.mouseenter('figure_enter', mouse_event_fn);\n",
       "    rubberband.mouseleave('figure_leave', mouse_event_fn);\n",
       "\n",
       "    canvas_div.on(\"wheel\", function (event) {\n",
       "        event = event.originalEvent;\n",
       "        event['data'] = 'scroll'\n",
       "        if (event.deltaY < 0) {\n",
       "            event.step = 1;\n",
       "        } else {\n",
       "            event.step = -1;\n",
       "        }\n",
       "        mouse_event_fn(event);\n",
       "    });\n",
       "\n",
       "    canvas_div.append(canvas);\n",
       "    canvas_div.append(rubberband);\n",
       "\n",
       "    this.rubberband = rubberband;\n",
       "    this.rubberband_canvas = rubberband[0];\n",
       "    this.rubberband_context = rubberband[0].getContext(\"2d\");\n",
       "    this.rubberband_context.strokeStyle = \"#000000\";\n",
       "\n",
       "    this._resize_canvas = function(width, height) {\n",
       "        // Keep the size of the canvas, canvas container, and rubber band\n",
       "        // canvas in synch.\n",
       "        canvas_div.css('width', width)\n",
       "        canvas_div.css('height', height)\n",
       "\n",
       "        canvas.attr('width', width * mpl.ratio);\n",
       "        canvas.attr('height', height * mpl.ratio);\n",
       "        canvas.attr('style', 'width: ' + width + 'px; height: ' + height + 'px;');\n",
       "\n",
       "        rubberband.attr('width', width);\n",
       "        rubberband.attr('height', height);\n",
       "    }\n",
       "\n",
       "    // Set the figure to an initial 600x600px, this will subsequently be updated\n",
       "    // upon first draw.\n",
       "    this._resize_canvas(600, 600);\n",
       "\n",
       "    // Disable right mouse context menu.\n",
       "    $(this.rubberband_canvas).bind(\"contextmenu\",function(e){\n",
       "        return false;\n",
       "    });\n",
       "\n",
       "    function set_focus () {\n",
       "        canvas.focus();\n",
       "        canvas_div.focus();\n",
       "    }\n",
       "\n",
       "    window.setTimeout(set_focus, 100);\n",
       "}\n",
       "\n",
       "mpl.figure.prototype._init_toolbar = function() {\n",
       "    var fig = this;\n",
       "\n",
       "    var nav_element = $('<div/>');\n",
       "    nav_element.attr('style', 'width: 100%');\n",
       "    this.root.append(nav_element);\n",
       "\n",
       "    // Define a callback function for later on.\n",
       "    function toolbar_event(event) {\n",
       "        return fig.toolbar_button_onclick(event['data']);\n",
       "    }\n",
       "    function toolbar_mouse_event(event) {\n",
       "        return fig.toolbar_button_onmouseover(event['data']);\n",
       "    }\n",
       "\n",
       "    for(var toolbar_ind in mpl.toolbar_items) {\n",
       "        var name = mpl.toolbar_items[toolbar_ind][0];\n",
       "        var tooltip = mpl.toolbar_items[toolbar_ind][1];\n",
       "        var image = mpl.toolbar_items[toolbar_ind][2];\n",
       "        var method_name = mpl.toolbar_items[toolbar_ind][3];\n",
       "\n",
       "        if (!name) {\n",
       "            // put a spacer in here.\n",
       "            continue;\n",
       "        }\n",
       "        var button = $('<button/>');\n",
       "        button.addClass('ui-button ui-widget ui-state-default ui-corner-all ' +\n",
       "                        'ui-button-icon-only');\n",
       "        button.attr('role', 'button');\n",
       "        button.attr('aria-disabled', 'false');\n",
       "        button.click(method_name, toolbar_event);\n",
       "        button.mouseover(tooltip, toolbar_mouse_event);\n",
       "\n",
       "        var icon_img = $('<span/>');\n",
       "        icon_img.addClass('ui-button-icon-primary ui-icon');\n",
       "        icon_img.addClass(image);\n",
       "        icon_img.addClass('ui-corner-all');\n",
       "\n",
       "        var tooltip_span = $('<span/>');\n",
       "        tooltip_span.addClass('ui-button-text');\n",
       "        tooltip_span.html(tooltip);\n",
       "\n",
       "        button.append(icon_img);\n",
       "        button.append(tooltip_span);\n",
       "\n",
       "        nav_element.append(button);\n",
       "    }\n",
       "\n",
       "    var fmt_picker_span = $('<span/>');\n",
       "\n",
       "    var fmt_picker = $('<select/>');\n",
       "    fmt_picker.addClass('mpl-toolbar-option ui-widget ui-widget-content');\n",
       "    fmt_picker_span.append(fmt_picker);\n",
       "    nav_element.append(fmt_picker_span);\n",
       "    this.format_dropdown = fmt_picker[0];\n",
       "\n",
       "    for (var ind in mpl.extensions) {\n",
       "        var fmt = mpl.extensions[ind];\n",
       "        var option = $(\n",
       "            '<option/>', {selected: fmt === mpl.default_extension}).html(fmt);\n",
       "        fmt_picker.append(option);\n",
       "    }\n",
       "\n",
       "    // Add hover states to the ui-buttons\n",
       "    $( \".ui-button\" ).hover(\n",
       "        function() { $(this).addClass(\"ui-state-hover\");},\n",
       "        function() { $(this).removeClass(\"ui-state-hover\");}\n",
       "    );\n",
       "\n",
       "    var status_bar = $('<span class=\"mpl-message\"/>');\n",
       "    nav_element.append(status_bar);\n",
       "    this.message = status_bar[0];\n",
       "}\n",
       "\n",
       "mpl.figure.prototype.request_resize = function(x_pixels, y_pixels) {\n",
       "    // Request matplotlib to resize the figure. Matplotlib will then trigger a resize in the client,\n",
       "    // which will in turn request a refresh of the image.\n",
       "    this.send_message('resize', {'width': x_pixels, 'height': y_pixels});\n",
       "}\n",
       "\n",
       "mpl.figure.prototype.send_message = function(type, properties) {\n",
       "    properties['type'] = type;\n",
       "    properties['figure_id'] = this.id;\n",
       "    this.ws.send(JSON.stringify(properties));\n",
       "}\n",
       "\n",
       "mpl.figure.prototype.send_draw_message = function() {\n",
       "    if (!this.waiting) {\n",
       "        this.waiting = true;\n",
       "        this.ws.send(JSON.stringify({type: \"draw\", figure_id: this.id}));\n",
       "    }\n",
       "}\n",
       "\n",
       "\n",
       "mpl.figure.prototype.handle_save = function(fig, msg) {\n",
       "    var format_dropdown = fig.format_dropdown;\n",
       "    var format = format_dropdown.options[format_dropdown.selectedIndex].value;\n",
       "    fig.ondownload(fig, format);\n",
       "}\n",
       "\n",
       "\n",
       "mpl.figure.prototype.handle_resize = function(fig, msg) {\n",
       "    var size = msg['size'];\n",
       "    if (size[0] != fig.canvas.width || size[1] != fig.canvas.height) {\n",
       "        fig._resize_canvas(size[0], size[1]);\n",
       "        fig.send_message(\"refresh\", {});\n",
       "    };\n",
       "}\n",
       "\n",
       "mpl.figure.prototype.handle_rubberband = function(fig, msg) {\n",
       "    var x0 = msg['x0'] / mpl.ratio;\n",
       "    var y0 = (fig.canvas.height - msg['y0']) / mpl.ratio;\n",
       "    var x1 = msg['x1'] / mpl.ratio;\n",
       "    var y1 = (fig.canvas.height - msg['y1']) / mpl.ratio;\n",
       "    x0 = Math.floor(x0) + 0.5;\n",
       "    y0 = Math.floor(y0) + 0.5;\n",
       "    x1 = Math.floor(x1) + 0.5;\n",
       "    y1 = Math.floor(y1) + 0.5;\n",
       "    var min_x = Math.min(x0, x1);\n",
       "    var min_y = Math.min(y0, y1);\n",
       "    var width = Math.abs(x1 - x0);\n",
       "    var height = Math.abs(y1 - y0);\n",
       "\n",
       "    fig.rubberband_context.clearRect(\n",
       "        0, 0, fig.canvas.width, fig.canvas.height);\n",
       "\n",
       "    fig.rubberband_context.strokeRect(min_x, min_y, width, height);\n",
       "}\n",
       "\n",
       "mpl.figure.prototype.handle_figure_label = function(fig, msg) {\n",
       "    // Updates the figure title.\n",
       "    fig.header.textContent = msg['label'];\n",
       "}\n",
       "\n",
       "mpl.figure.prototype.handle_cursor = function(fig, msg) {\n",
       "    var cursor = msg['cursor'];\n",
       "    switch(cursor)\n",
       "    {\n",
       "    case 0:\n",
       "        cursor = 'pointer';\n",
       "        break;\n",
       "    case 1:\n",
       "        cursor = 'default';\n",
       "        break;\n",
       "    case 2:\n",
       "        cursor = 'crosshair';\n",
       "        break;\n",
       "    case 3:\n",
       "        cursor = 'move';\n",
       "        break;\n",
       "    }\n",
       "    fig.rubberband_canvas.style.cursor = cursor;\n",
       "}\n",
       "\n",
       "mpl.figure.prototype.handle_message = function(fig, msg) {\n",
       "    fig.message.textContent = msg['message'];\n",
       "}\n",
       "\n",
       "mpl.figure.prototype.handle_draw = function(fig, msg) {\n",
       "    // Request the server to send over a new figure.\n",
       "    fig.send_draw_message();\n",
       "}\n",
       "\n",
       "mpl.figure.prototype.handle_image_mode = function(fig, msg) {\n",
       "    fig.image_mode = msg['mode'];\n",
       "}\n",
       "\n",
       "mpl.figure.prototype.updated_canvas_event = function() {\n",
       "    // Called whenever the canvas gets updated.\n",
       "    this.send_message(\"ack\", {});\n",
       "}\n",
       "\n",
       "// A function to construct a web socket function for onmessage handling.\n",
       "// Called in the figure constructor.\n",
       "mpl.figure.prototype._make_on_message_function = function(fig) {\n",
       "    return function socket_on_message(evt) {\n",
       "        if (evt.data instanceof Blob) {\n",
       "            /* FIXME: We get \"Resource interpreted as Image but\n",
       "             * transferred with MIME type text/plain:\" errors on\n",
       "             * Chrome.  But how to set the MIME type?  It doesn't seem\n",
       "             * to be part of the websocket stream */\n",
       "            evt.data.type = \"image/png\";\n",
       "\n",
       "            /* Free the memory for the previous frames */\n",
       "            if (fig.imageObj.src) {\n",
       "                (window.URL || window.webkitURL).revokeObjectURL(\n",
       "                    fig.imageObj.src);\n",
       "            }\n",
       "\n",
       "            fig.imageObj.src = (window.URL || window.webkitURL).createObjectURL(\n",
       "                evt.data);\n",
       "            fig.updated_canvas_event();\n",
       "            fig.waiting = false;\n",
       "            return;\n",
       "        }\n",
       "        else if (typeof evt.data === 'string' && evt.data.slice(0, 21) == \"data:image/png;base64\") {\n",
       "            fig.imageObj.src = evt.data;\n",
       "            fig.updated_canvas_event();\n",
       "            fig.waiting = false;\n",
       "            return;\n",
       "        }\n",
       "\n",
       "        var msg = JSON.parse(evt.data);\n",
       "        var msg_type = msg['type'];\n",
       "\n",
       "        // Call the  \"handle_{type}\" callback, which takes\n",
       "        // the figure and JSON message as its only arguments.\n",
       "        try {\n",
       "            var callback = fig[\"handle_\" + msg_type];\n",
       "        } catch (e) {\n",
       "            console.log(\"No handler for the '\" + msg_type + \"' message type: \", msg);\n",
       "            return;\n",
       "        }\n",
       "\n",
       "        if (callback) {\n",
       "            try {\n",
       "                // console.log(\"Handling '\" + msg_type + \"' message: \", msg);\n",
       "                callback(fig, msg);\n",
       "            } catch (e) {\n",
       "                console.log(\"Exception inside the 'handler_\" + msg_type + \"' callback:\", e, e.stack, msg);\n",
       "            }\n",
       "        }\n",
       "    };\n",
       "}\n",
       "\n",
       "// from http://stackoverflow.com/questions/1114465/getting-mouse-location-in-canvas\n",
       "mpl.findpos = function(e) {\n",
       "    //this section is from http://www.quirksmode.org/js/events_properties.html\n",
       "    var targ;\n",
       "    if (!e)\n",
       "        e = window.event;\n",
       "    if (e.target)\n",
       "        targ = e.target;\n",
       "    else if (e.srcElement)\n",
       "        targ = e.srcElement;\n",
       "    if (targ.nodeType == 3) // defeat Safari bug\n",
       "        targ = targ.parentNode;\n",
       "\n",
       "    // jQuery normalizes the pageX and pageY\n",
       "    // pageX,Y are the mouse positions relative to the document\n",
       "    // offset() returns the position of the element relative to the document\n",
       "    var x = e.pageX - $(targ).offset().left;\n",
       "    var y = e.pageY - $(targ).offset().top;\n",
       "\n",
       "    return {\"x\": x, \"y\": y};\n",
       "};\n",
       "\n",
       "/*\n",
       " * return a copy of an object with only non-object keys\n",
       " * we need this to avoid circular references\n",
       " * http://stackoverflow.com/a/24161582/3208463\n",
       " */\n",
       "function simpleKeys (original) {\n",
       "  return Object.keys(original).reduce(function (obj, key) {\n",
       "    if (typeof original[key] !== 'object')\n",
       "        obj[key] = original[key]\n",
       "    return obj;\n",
       "  }, {});\n",
       "}\n",
       "\n",
       "mpl.figure.prototype.mouse_event = function(event, name) {\n",
       "    var canvas_pos = mpl.findpos(event)\n",
       "\n",
       "    if (name === 'button_press')\n",
       "    {\n",
       "        this.canvas.focus();\n",
       "        this.canvas_div.focus();\n",
       "    }\n",
       "\n",
       "    var x = canvas_pos.x * mpl.ratio;\n",
       "    var y = canvas_pos.y * mpl.ratio;\n",
       "\n",
       "    this.send_message(name, {x: x, y: y, button: event.button,\n",
       "                             step: event.step,\n",
       "                             guiEvent: simpleKeys(event)});\n",
       "\n",
       "    /* This prevents the web browser from automatically changing to\n",
       "     * the text insertion cursor when the button is pressed.  We want\n",
       "     * to control all of the cursor setting manually through the\n",
       "     * 'cursor' event from matplotlib */\n",
       "    event.preventDefault();\n",
       "    return false;\n",
       "}\n",
       "\n",
       "mpl.figure.prototype._key_event_extra = function(event, name) {\n",
       "    // Handle any extra behaviour associated with a key event\n",
       "}\n",
       "\n",
       "mpl.figure.prototype.key_event = function(event, name) {\n",
       "\n",
       "    // Prevent repeat events\n",
       "    if (name == 'key_press')\n",
       "    {\n",
       "        if (event.which === this._key)\n",
       "            return;\n",
       "        else\n",
       "            this._key = event.which;\n",
       "    }\n",
       "    if (name == 'key_release')\n",
       "        this._key = null;\n",
       "\n",
       "    var value = '';\n",
       "    if (event.ctrlKey && event.which != 17)\n",
       "        value += \"ctrl+\";\n",
       "    if (event.altKey && event.which != 18)\n",
       "        value += \"alt+\";\n",
       "    if (event.shiftKey && event.which != 16)\n",
       "        value += \"shift+\";\n",
       "\n",
       "    value += 'k';\n",
       "    value += event.which.toString();\n",
       "\n",
       "    this._key_event_extra(event, name);\n",
       "\n",
       "    this.send_message(name, {key: value,\n",
       "                             guiEvent: simpleKeys(event)});\n",
       "    return false;\n",
       "}\n",
       "\n",
       "mpl.figure.prototype.toolbar_button_onclick = function(name) {\n",
       "    if (name == 'download') {\n",
       "        this.handle_save(this, null);\n",
       "    } else {\n",
       "        this.send_message(\"toolbar_button\", {name: name});\n",
       "    }\n",
       "};\n",
       "\n",
       "mpl.figure.prototype.toolbar_button_onmouseover = function(tooltip) {\n",
       "    this.message.textContent = tooltip;\n",
       "};\n",
       "mpl.toolbar_items = [[\"Home\", \"Reset original view\", \"fa fa-home icon-home\", \"home\"], [\"Back\", \"Back to previous view\", \"fa fa-arrow-left icon-arrow-left\", \"back\"], [\"Forward\", \"Forward to next view\", \"fa fa-arrow-right icon-arrow-right\", \"forward\"], [\"\", \"\", \"\", \"\"], [\"Pan\", \"Pan axes with left mouse, zoom with right\", \"fa fa-arrows icon-move\", \"pan\"], [\"Zoom\", \"Zoom to rectangle\", \"fa fa-square-o icon-check-empty\", \"zoom\"], [\"\", \"\", \"\", \"\"], [\"Download\", \"Download plot\", \"fa fa-floppy-o icon-save\", \"download\"]];\n",
       "\n",
       "mpl.extensions = [\"eps\", \"jpeg\", \"pdf\", \"png\", \"ps\", \"raw\", \"svg\", \"tif\"];\n",
       "\n",
       "mpl.default_extension = \"png\";var comm_websocket_adapter = function(comm) {\n",
       "    // Create a \"websocket\"-like object which calls the given IPython comm\n",
       "    // object with the appropriate methods. Currently this is a non binary\n",
       "    // socket, so there is still some room for performance tuning.\n",
       "    var ws = {};\n",
       "\n",
       "    ws.close = function() {\n",
       "        comm.close()\n",
       "    };\n",
       "    ws.send = function(m) {\n",
       "        //console.log('sending', m);\n",
       "        comm.send(m);\n",
       "    };\n",
       "    // Register the callback with on_msg.\n",
       "    comm.on_msg(function(msg) {\n",
       "        //console.log('receiving', msg['content']['data'], msg);\n",
       "        // Pass the mpl event to the overridden (by mpl) onmessage function.\n",
       "        ws.onmessage(msg['content']['data'])\n",
       "    });\n",
       "    return ws;\n",
       "}\n",
       "\n",
       "mpl.mpl_figure_comm = function(comm, msg) {\n",
       "    // This is the function which gets called when the mpl process\n",
       "    // starts-up an IPython Comm through the \"matplotlib\" channel.\n",
       "\n",
       "    var id = msg.content.data.id;\n",
       "    // Get hold of the div created by the display call when the Comm\n",
       "    // socket was opened in Python.\n",
       "    var element = $(\"#\" + id);\n",
       "    var ws_proxy = comm_websocket_adapter(comm)\n",
       "\n",
       "    function ondownload(figure, format) {\n",
       "        window.open(figure.imageObj.src);\n",
       "    }\n",
       "\n",
       "    var fig = new mpl.figure(id, ws_proxy,\n",
       "                           ondownload,\n",
       "                           element.get(0));\n",
       "\n",
       "    // Call onopen now - mpl needs it, as it is assuming we've passed it a real\n",
       "    // web socket which is closed, not our websocket->open comm proxy.\n",
       "    ws_proxy.onopen();\n",
       "\n",
       "    fig.parent_element = element.get(0);\n",
       "    fig.cell_info = mpl.find_output_cell(\"<div id='\" + id + \"'></div>\");\n",
       "    if (!fig.cell_info) {\n",
       "        console.error(\"Failed to find cell for figure\", id, fig);\n",
       "        return;\n",
       "    }\n",
       "\n",
       "    var output_index = fig.cell_info[2]\n",
       "    var cell = fig.cell_info[0];\n",
       "\n",
       "};\n",
       "\n",
       "mpl.figure.prototype.handle_close = function(fig, msg) {\n",
       "    var width = fig.canvas.width/mpl.ratio\n",
       "    fig.root.unbind('remove')\n",
       "\n",
       "    // Update the output cell to use the data from the current canvas.\n",
       "    fig.push_to_output();\n",
       "    var dataURL = fig.canvas.toDataURL();\n",
       "    // Re-enable the keyboard manager in IPython - without this line, in FF,\n",
       "    // the notebook keyboard shortcuts fail.\n",
       "    IPython.keyboard_manager.enable()\n",
       "    $(fig.parent_element).html('<img src=\"' + dataURL + '\" width=\"' + width + '\">');\n",
       "    fig.close_ws(fig, msg);\n",
       "}\n",
       "\n",
       "mpl.figure.prototype.close_ws = function(fig, msg){\n",
       "    fig.send_message('closing', msg);\n",
       "    // fig.ws.close()\n",
       "}\n",
       "\n",
       "mpl.figure.prototype.push_to_output = function(remove_interactive) {\n",
       "    // Turn the data on the canvas into data in the output cell.\n",
       "    var width = this.canvas.width/mpl.ratio\n",
       "    var dataURL = this.canvas.toDataURL();\n",
       "    this.cell_info[1]['text/html'] = '<img src=\"' + dataURL + '\" width=\"' + width + '\">';\n",
       "}\n",
       "\n",
       "mpl.figure.prototype.updated_canvas_event = function() {\n",
       "    // Tell IPython that the notebook contents must change.\n",
       "    IPython.notebook.set_dirty(true);\n",
       "    this.send_message(\"ack\", {});\n",
       "    var fig = this;\n",
       "    // Wait a second, then push the new image to the DOM so\n",
       "    // that it is saved nicely (might be nice to debounce this).\n",
       "    setTimeout(function () { fig.push_to_output() }, 1000);\n",
       "}\n",
       "\n",
       "mpl.figure.prototype._init_toolbar = function() {\n",
       "    var fig = this;\n",
       "\n",
       "    var nav_element = $('<div/>');\n",
       "    nav_element.attr('style', 'width: 100%');\n",
       "    this.root.append(nav_element);\n",
       "\n",
       "    // Define a callback function for later on.\n",
       "    function toolbar_event(event) {\n",
       "        return fig.toolbar_button_onclick(event['data']);\n",
       "    }\n",
       "    function toolbar_mouse_event(event) {\n",
       "        return fig.toolbar_button_onmouseover(event['data']);\n",
       "    }\n",
       "\n",
       "    for(var toolbar_ind in mpl.toolbar_items){\n",
       "        var name = mpl.toolbar_items[toolbar_ind][0];\n",
       "        var tooltip = mpl.toolbar_items[toolbar_ind][1];\n",
       "        var image = mpl.toolbar_items[toolbar_ind][2];\n",
       "        var method_name = mpl.toolbar_items[toolbar_ind][3];\n",
       "\n",
       "        if (!name) { continue; };\n",
       "\n",
       "        var button = $('<button class=\"btn btn-default\" href=\"#\" title=\"' + name + '\"><i class=\"fa ' + image + ' fa-lg\"></i></button>');\n",
       "        button.click(method_name, toolbar_event);\n",
       "        button.mouseover(tooltip, toolbar_mouse_event);\n",
       "        nav_element.append(button);\n",
       "    }\n",
       "\n",
       "    // Add the status bar.\n",
       "    var status_bar = $('<span class=\"mpl-message\" style=\"text-align:right; float: right;\"/>');\n",
       "    nav_element.append(status_bar);\n",
       "    this.message = status_bar[0];\n",
       "\n",
       "    // Add the close button to the window.\n",
       "    var buttongrp = $('<div class=\"btn-group inline pull-right\"></div>');\n",
       "    var button = $('<button class=\"btn btn-mini btn-primary\" href=\"#\" title=\"Stop Interaction\"><i class=\"fa fa-power-off icon-remove icon-large\"></i></button>');\n",
       "    button.click(function (evt) { fig.handle_close(fig, {}); } );\n",
       "    button.mouseover('Stop Interaction', toolbar_mouse_event);\n",
       "    buttongrp.append(button);\n",
       "    var titlebar = this.root.find($('.ui-dialog-titlebar'));\n",
       "    titlebar.prepend(buttongrp);\n",
       "}\n",
       "\n",
       "mpl.figure.prototype._root_extra_style = function(el){\n",
       "    var fig = this\n",
       "    el.on(\"remove\", function(){\n",
       "\tfig.close_ws(fig, {});\n",
       "    });\n",
       "}\n",
       "\n",
       "mpl.figure.prototype._canvas_extra_style = function(el){\n",
       "    // this is important to make the div 'focusable\n",
       "    el.attr('tabindex', 0)\n",
       "    // reach out to IPython and tell the keyboard manager to turn it's self\n",
       "    // off when our div gets focus\n",
       "\n",
       "    // location in version 3\n",
       "    if (IPython.notebook.keyboard_manager) {\n",
       "        IPython.notebook.keyboard_manager.register_events(el);\n",
       "    }\n",
       "    else {\n",
       "        // location in version 2\n",
       "        IPython.keyboard_manager.register_events(el);\n",
       "    }\n",
       "\n",
       "}\n",
       "\n",
       "mpl.figure.prototype._key_event_extra = function(event, name) {\n",
       "    var manager = IPython.notebook.keyboard_manager;\n",
       "    if (!manager)\n",
       "        manager = IPython.keyboard_manager;\n",
       "\n",
       "    // Check for shift+enter\n",
       "    if (event.shiftKey && event.which == 13) {\n",
       "        this.canvas_div.blur();\n",
       "        event.shiftKey = false;\n",
       "        // Send a \"J\" for go to next cell\n",
       "        event.which = 74;\n",
       "        event.keyCode = 74;\n",
       "        manager.command_mode();\n",
       "        manager.handle_keydown(event);\n",
       "    }\n",
       "}\n",
       "\n",
       "mpl.figure.prototype.handle_save = function(fig, msg) {\n",
       "    fig.ondownload(fig, null);\n",
       "}\n",
       "\n",
       "\n",
       "mpl.find_output_cell = function(html_output) {\n",
       "    // Return the cell and output element which can be found *uniquely* in the notebook.\n",
       "    // Note - this is a bit hacky, but it is done because the \"notebook_saving.Notebook\"\n",
       "    // IPython event is triggered only after the cells have been serialised, which for\n",
       "    // our purposes (turning an active figure into a static one), is too late.\n",
       "    var cells = IPython.notebook.get_cells();\n",
       "    var ncells = cells.length;\n",
       "    for (var i=0; i<ncells; i++) {\n",
       "        var cell = cells[i];\n",
       "        if (cell.cell_type === 'code'){\n",
       "            for (var j=0; j<cell.output_area.outputs.length; j++) {\n",
       "                var data = cell.output_area.outputs[j];\n",
       "                if (data.data) {\n",
       "                    // IPython >= 3 moved mimebundle to data attribute of output\n",
       "                    data = data.data;\n",
       "                }\n",
       "                if (data['text/html'] == html_output) {\n",
       "                    return [cell, data, j];\n",
       "                }\n",
       "            }\n",
       "        }\n",
       "    }\n",
       "}\n",
       "\n",
       "// Register the function which deals with the matplotlib target/channel.\n",
       "// The kernel may be null if the page has been refreshed.\n",
       "if (IPython.notebook.kernel != null) {\n",
       "    IPython.notebook.kernel.comm_manager.register_target('matplotlib', mpl.mpl_figure_comm);\n",
       "}\n"
      ],
      "text/plain": [
       "<IPython.core.display.Javascript object>"
      ]
     },
     "metadata": {},
     "output_type": "display_data"
    },
    {
     "data": {
      "text/html": [
       "<img src=\"data:image/png;base64,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\" width=\"639.8000000000001\">"
      ],
      "text/plain": [
       "<IPython.core.display.HTML object>"
      ]
     },
     "metadata": {},
     "output_type": "display_data"
    },
    {
     "data": {
      "text/plain": [
       "Text(0.5, 0, 'Y')"
      ]
     },
     "execution_count": 4,
     "metadata": {},
     "output_type": "execute_result"
    }
   ],
   "source": [
    "#Warning: Do not plot if N>1000 !\n",
    "fig = plt.figure()\n",
    "ax = fig.add_subplot(111, projection='3d')\n",
    "ax.scatter(X[0:N,0],X[0:N,1],Y[0:N])\n",
    "ax.set_xlabel('X1')\n",
    "ax.set_ylabel('X2')\n",
    "ax.set_zlabel('Y')\n"
   ]
  },
  {
   "cell_type": "code",
   "execution_count": 5,
   "metadata": {},
   "outputs": [
    {
     "data": {
      "text/plain": [
       "array([0.31179588, 0.69634349])"
      ]
     },
     "execution_count": 5,
     "metadata": {},
     "output_type": "execute_result"
    }
   ],
   "source": [
    "#Check theta values\n",
    "theta"
   ]
  },
  {
   "cell_type": "markdown",
   "metadata": {},
   "source": [
    "# 2) Ordinary Least Squares\n",
    "\n",
    "Let us first solve the linear regression using standard approaches:\n",
    "\n",
    "* Using Python sklearn and the sklearn.linear_model function\n",
    "* Using the least mean square equation with numpy"
   ]
  },
  {
   "cell_type": "markdown",
   "metadata": {},
   "source": [
    "## 2.1) Centralised approach"
   ]
  },
  {
   "cell_type": "markdown",
   "metadata": {},
   "source": [
    "### 2.1.1) Parameter identification using sklearn\n",
    "\n",
    "Let us compute the model coefficients with the [sklearn.linear_model](http://scikit-learn.org/stable/modules/generated/sklearn.linear_model.LinearRegression.html) function"
   ]
  },
  {
   "cell_type": "code",
   "execution_count": 6,
   "metadata": {},
   "outputs": [
    {
     "name": "stdout",
     "output_type": "stream",
     "text": [
      "Regression coefficient found with sklearn: [[0.31179588 0.69634349]]\n",
      "Time to fit linear model with sklearn:  0.2448 seconds\n"
     ]
    }
   ],
   "source": [
    "from sklearn import linear_model\n",
    "\n",
    "start = time.time()\n",
    "\n",
    "model = linear_model.LinearRegression(fit_intercept=False)\n",
    "model.fit(X,Y)\n",
    "\n",
    "end = time.time()\n",
    "\n",
    "print(\"Regression coefficient found with sklearn:\",model.coef_)\n",
    "print(\"Time to fit linear model with sklearn: \",round(end - start,4),\"seconds\")\n"
   ]
  },
  {
   "cell_type": "code",
   "execution_count": 7,
   "metadata": {
    "solution": "hidden"
   },
   "outputs": [
    {
     "data": {
      "text/plain": [
       "array([0.31179588, 0.69634349])"
      ]
     },
     "execution_count": 7,
     "metadata": {},
     "output_type": "execute_result"
    }
   ],
   "source": [
    "theta"
   ]
  },
  {
   "cell_type": "markdown",
   "metadata": {},
   "source": [
    "### 2.1.2) Parameter identification using numpy\n",
    "\n",
    "Let us compute the model coefficients using the OLS solution, with numpy [`dot`](https://docs.scipy.org/doc/numpy/reference/generated/numpy.dot.html), [`transpose`](https://docs.scipy.org/doc/numpy/reference/generated/numpy.transpose.html), and [`linalg.inv`](https://docs.scipy.org/doc/numpy/reference/generated/numpy.linalg.inv.html) functions.   "
   ]
  },
  {
   "cell_type": "markdown",
   "metadata": {},
   "source": [
    "**Exercise:**\n",
    "\n",
    "* Compute $X^TX$ using the numpy `dot` function, and store result in a variable `XtX`\n",
    "* Compute $X^TY$ using the numpy `dot` function, and store result in a variable `XtY`\n",
    "* Compute the inverse of $X^TX$ using the numpy `linalg.inv` function, and store result in a variable `XtX_inverse`\n",
    "* Compute coefficient $\\hat{\\theta}=(X^T X)^{-1} (X^T Y)$ using the numpy `dot` function and store the result in a variable theta_hat\n",
    "* Check that theta_hat is the same as the result found with `sklearn.linear_model`"
   ]
  },
  {
   "cell_type": "code",
   "execution_count": 8,
   "metadata": {},
   "outputs": [
    {
     "name": "stdout",
     "output_type": "stream",
     "text": [
      "Size of X^T X : (2, 2)\n",
      "Size of X^T Y : (2, 1)\n",
      "Size of (X^T X)^-1 : (2, 2)\n",
      "Size of \\hat{theta} : (2, 1)\n",
      "Regression coefficient found with numpy native implementation: [[0.31179588]\n",
      " [0.69634349]]\n",
      "Time to fit linear model with numpy:  0.3407 seconds\n"
     ]
    }
   ],
   "source": [
    "start = time.time()\n",
    "\n",
    "XtX=np.dot(np.transpose(X),X)\n",
    "XtY=np.dot(np.transpose(X),Y)\n",
    "\n",
    "XtX_inverse=np.linalg.inv(XtX)\n",
    "\n",
    "theta_hat=np.dot(XtX_inverse,XtY)\n",
    "\n",
    "end = time.time()\n",
    "\n",
    "print(\"Size of X^T X :\",XtX.shape)\n",
    "print(\"Size of X^T Y :\",XtY.shape)\n",
    "print(\"Size of (X^T X)^-1 :\",XtX_inverse.shape)\n",
    "print(\"Size of \\hat{theta} :\",theta_hat.shape)\n",
    "\n",
    "print(\"Regression coefficient found with numpy native implementation:\",theta_hat)\n",
    "print(\"Time to fit linear model with numpy: \",round(end - start,4),\"seconds\")\n"
   ]
  },
  {
   "cell_type": "markdown",
   "metadata": {},
   "source": [
    "## 2.2) Map/Reduce approach for OLS\n",
    "\n",
    "Summary of the approach:\n",
    "\n",
    "* $X^T X$ and $X^T Y$ are computed in a distributed way.\n",
    "* $X^T X$ and $X^T Y$ have size $n \\times n$ and $n$, with $n$ small. $(X^T X)^{-1} (X^T Y)$ can be computed locally (no need to distribute the computation of the matrix inverse).\n",
    "\n",
    "#### Distribution of the computation of $X^T X$ and $X^T Y$\n",
    "\n",
    "* Let $Z=[X|Y]$ be the $X$ matrix augmented with $Y$ as the last column.\n",
    "* Let $Z$ be partitioned into $B$ row blocks $Z_k$ of size $N_B \\times (n+1)$\n",
    "\n",
    "$$Z = \\left[\\begin{array}\n",
    "{r}\n",
    "Z_1  \\\\\n",
    "Z_2  \\\\\n",
    "...\\\\\n",
    "Z_B\n",
    "\\end{array}\\right]\n",
    "$$\n"
   ]
  },
  {
   "cell_type": "markdown",
   "metadata": {},
   "source": [
    "**The distributed implementation will consist in computing $X^TX$ and $X^TY$ in parallel using the block $Z_k$**.\n",
    "\n",
    "* **Stage 1**: Partitioning. Partition $Z$ in $B$ blocks $Z_k$, $1 \\le k \\le B$. This can be done when calling the `parallelize` function to create the Spark Resilient Distributed Dataset (RDDs). \n",
    "* **Stage 2**: Computation of partial $X^TX$ with mapping. For each row of the partition $Z_k$, return `xtx`$= x_k^T x_k$ (size $n \\times n$).\n",
    "* **Stage 3**: Reduce. Sum all `xtx`.\n",
    "* **Stage 4**: Computation of partial $X^TY$ with mapping. For each row of the partition $Z_k$, return `xty`$= x_k^T y_k$ (size $n \\times 1$).\n",
    "* **Stage 5**: Reduce. Sum all `xty`.\n",
    "* **Stage 6**: Collect. Collect the reduced XtX and XtY, and compute $\\hat{\\theta}^T = (X^T X)^{-1} (X^T Y)$.\n"
   ]
  },
  {
   "cell_type": "markdown",
   "metadata": {},
   "source": [
    "### Start Spark session"
   ]
  },
  {
   "cell_type": "code",
   "execution_count": 9,
   "metadata": {},
   "outputs": [],
   "source": [
    "os.environ['PYSPARK_SUBMIT_ARGS'] =\"--conf spark.driver.memory=2g  pyspark-shell\"\n",
    "\n",
    "from pyspark.sql import SparkSession\n",
    "\n",
    "#Start Spark session with local master and 2 cores\n",
    "spark = SparkSession \\\n",
    "    .builder \\\n",
    "    .master(\"local[2]\") \\\n",
    "    .appName(\"LinearRegression\") \\\n",
    "    .getOrCreate()\n",
    "\n",
    "#When dealing with RDDs, we work the sparkContext object. See https://spark.apache.org/docs/latest/api/python/pyspark.html#pyspark.SparkContext\n",
    "sc=spark.sparkContext"
   ]
  },
  {
   "cell_type": "markdown",
   "metadata": {},
   "source": [
    "### Create RDD with B partitions"
   ]
  },
  {
   "cell_type": "code",
   "execution_count": 10,
   "metadata": {},
   "outputs": [],
   "source": [
    "#Let us use 2 partitions\n",
    "B=2\n",
    "Z_RDD=sc.parallelize(Z,B).cache()"
   ]
  },
  {
   "cell_type": "code",
   "execution_count": 11,
   "metadata": {},
   "outputs": [
    {
     "data": {
      "text/plain": [
       "100"
      ]
     },
     "execution_count": 11,
     "metadata": {},
     "output_type": "execute_result"
    }
   ],
   "source": [
    "Z_RDD.count()"
   ]
  },
  {
   "cell_type": "markdown",
   "metadata": {},
   "source": [
    "**Exercise**\n",
    "\n",
    "* Open the Spark UI (yourIP:4040), check the DAG visualisation and event timeline\n",
    "* Change the number to B=5 partitions et reparallelize Z. What change do you expect in the event timeline?"
   ]
  },
  {
   "cell_type": "markdown",
   "metadata": {},
   "source": [
    "### 2.2.1) Approach 1: map function\n",
    "\n",
    "The standard approach for Map/Reduce consists in applying a map function to each row of an RDD using the `map` operator, and reduce the results using the `reduce` operator. Below is an example of the Map/Reduce implementation for computing `XtX`."
   ]
  },
  {
   "cell_type": "code",
   "execution_count": 12,
   "metadata": {},
   "outputs": [],
   "source": [
    "def xtx_row(z):\n",
    "    #x is all columns except the last one (y)\n",
    "    x=z[:-1]\n",
    "    xtx=np.outer(x,x)\n",
    "    return xtx\n",
    "\n",
    "XtX=Z_RDD.map(xtx_row).reduce(lambda x,y:(x+y))\n"
   ]
  },
  {
   "cell_type": "markdown",
   "metadata": {},
   "source": [
    "**Exercise:**\n",
    "    \n",
    "* What is the shape (number of rows/columns) of the resulting RDD?\n",
    "* Check the DAG, event timeline, and number of records/partitions in the Spark UI"
   ]
  },
  {
   "cell_type": "code",
   "execution_count": 13,
   "metadata": {},
   "outputs": [
    {
     "data": {
      "text/plain": [
       "(2, 2)"
      ]
     },
     "execution_count": 13,
     "metadata": {},
     "output_type": "execute_result"
    }
   ],
   "source": [
    "XtX.shape"
   ]
  },
  {
   "cell_type": "markdown",
   "metadata": {},
   "source": [
    "**Exercise:**\n",
    "\n",
    "* Apply the same approach as `xtx_row` for computing `XtY`. Call that function `xty_row`\n",
    "* Compute the coefficients $\\hat{\\theta}=(X^T X)^{-1} (X^T Y)$ using the numpy `dot` and `linalg.inv` functions and store the result in a variable theta_hat\n",
    "* Check that theta_hat is the same as the result found with `sklearn.linear_model` (no map/reduce needed here) "
   ]
  },
  {
   "cell_type": "code",
   "execution_count": 17,
   "metadata": {},
   "outputs": [
    {
     "name": "stdout",
     "output_type": "stream",
     "text": [
      "Size of X^T X : (2, 2)\n",
      "Size of X^T Y : (2,)\n",
      "Size of (X^T X)^-1 : (2, 2)\n",
      "Size of \\hat{theta} : (2,)\n",
      "Regression coefficient found with Spark map function: [ 0.31179588  0.69634349]\n",
      "Time to fit linear model with Spark map function, combined computation of xtx and xty:  0.11 seconds\n"
     ]
    }
   ],
   "source": [
    "def xty_row(z):\n",
    "    x=z[:-1]\n",
    "    #y is the last column\n",
    "    y=z[-1]\n",
    "    xty=x*y\n",
    "    return xty\n",
    "\n",
    "start = time.time()\n",
    "\n",
    "XtY=Z_RDD.map(xty_row).reduce(lambda x,y:(x+y))\n",
    "\n",
    "XtX_inverse=np.linalg.inv(XtX)\n",
    "\n",
    "theta_hat=np.dot(XtX_inverse,XtY)\n",
    "\n",
    "end = time.time()\n",
    "\n",
    "print(\"Size of X^T X :\",XtX.shape)\n",
    "print(\"Size of X^T Y :\",XtY.shape)\n",
    "print(\"Size of (X^T X)^-1 :\",XtX_inverse.shape)\n",
    "print(\"Size of \\hat{theta} :\",theta_hat.shape)\n",
    "\n",
    "print(\"Regression coefficient found with Spark map function:\",theta_hat)\n",
    "print(\"Time to fit linear model with Spark map function, combined computation of xtx and xty: \",round(end - start,2),\"seconds\")\n"
   ]
  },
  {
   "cell_type": "markdown",
   "metadata": {},
   "source": [
    "### 2.2.2) Approach 2 : map function with combined computation of `xtx` and `xty`\n",
    "\n",
    "Instead of using to separate map/reduce for computing `XtX` and `XtY`, both can be computed in a single map/reduce (since x and y are in z)."
   ]
  },
  {
   "cell_type": "markdown",
   "metadata": {},
   "source": [
    "**Exercise:**\n",
    "\n",
    "* Modify the `xtx_row` function in a `xtx_xty_row` function so that `xtx` and `xty` are computed in a single map. The output should be a tuple `(xtx,xty)`\n",
    "* Modify the map/reduce pipeline so the `xtx_xty_row` is applied, and adapt the reduce part so both elements `(xtx,xty)` are summed"
   ]
  },
  {
   "cell_type": "code",
   "execution_count": 14,
   "metadata": {},
   "outputs": [],
   "source": [
    "def xtx_xty_row(z):\n",
    "    x=np.array(z[:-1])\n",
    "    y=z[-1]\n",
    "    xtx=np.outer(x,x)\n",
    "    xty=np.dot(x,y)\n",
    "    return (xtx,xty)"
   ]
  },
  {
   "cell_type": "code",
   "execution_count": 15,
   "metadata": {},
   "outputs": [
    {
     "name": "stdout",
     "output_type": "stream",
     "text": [
      "Size of X^T X : (2, 2)\n",
      "Size of X^T Y : (2,)\n",
      "Size of (X^T X)^-1 : (2, 2)\n",
      "Size of \\hat{theta} : (2,)\n",
      "Regression coefficient found with Spark map function, combined computation of xtx and xty: [0.31179588 0.69634349]\n",
      "Time to fit linear model with Spark map function, combined computation of xtx and xty:  0.27 seconds\n"
     ]
    }
   ],
   "source": [
    "start = time.time()\n",
    "\n",
    "(XtX,XtY)=Z_RDD.cache().map(xtx_xty_row)\\\n",
    ".reduce(lambda xtx_xty0,xtx_xty1:(xtx_xty0[0]+xtx_xty1[0],xtx_xty0[1]+xtx_xty1[1]))\n",
    "\n",
    "XtX_inverse=np.linalg.inv(XtX)\n",
    "\n",
    "theta_hat=np.dot(XtX_inverse,XtY)\n",
    "\n",
    "end = time.time()\n",
    "\n",
    "print(\"Size of X^T X :\",XtX.shape)\n",
    "print(\"Size of X^T Y :\",XtY.shape)\n",
    "print(\"Size of (X^T X)^-1 :\",XtX_inverse.shape)\n",
    "print(\"Size of \\hat{theta} :\",theta_hat.shape)\n",
    "\n",
    "print(\"Regression coefficient found with Spark map function, combined computation of xtx and xty:\",theta_hat)\n",
    "print(\"Time to fit linear model with Spark map function, combined computation of xtx and xty: \",round(end - start,2),\"seconds\")\n"
   ]
  },
  {
   "cell_type": "markdown",
   "metadata": {
    "collapsed": true
   },
   "source": [
    "# 3) Gradient Descent\n",
    "\n"
   ]
  },
  {
   "cell_type": "markdown",
   "metadata": {},
   "source": [
    "## 3.1) Centralised approach\n",
    "\n",
    "``` \n",
    "GD(X,Y,T,η)\n",
    "N<-nrow(X)\n",
    "theta_0 <- random initialization\n",
    "for t = 1 to T do\n",
    "    sum_gradient=0\n",
    "    for i = 1 to N\n",
    "        sum_gradient=sum_gradient − ηL'(x_i,y_i)\n",
    "    end_for\n",
    "    theta_t ← theta_(t−1)+sum_gradient/N \n",
    "end_for\n",
    "return theta_t \n",
    "``` \n",
    "$L'$ is the derivative of $L$. For the squared loss, we have $L'(y_i, \\hat{y}_i)=(x_i \\theta^T-y_i)x_i$.\n",
    "\n",
    "Below is a function that implements this algorithm."
   ]
  },
  {
   "cell_type": "code",
   "execution_count": 16,
   "metadata": {},
   "outputs": [],
   "source": [
    "def GD(Z,T,eta,random_seed=0):\n",
    "    (N,n)=Z.shape\n",
    "    n=n-1\n",
    "\n",
    "    np.random.seed(random_seed)\n",
    "    theta_hat=np.random.rand(n)\n",
    "\n",
    "    for t in range(T):\n",
    "        sum_gradient=0\n",
    "        for i in range(N):\n",
    "            sum_gradient=sum_gradient+getGradient(Z[i,:],eta,theta_hat)\n",
    "        \n",
    "        theta_hat=theta_hat+sum_gradient/N\n",
    "    \n",
    "    return theta_hat"
   ]
  },
  {
   "cell_type": "markdown",
   "metadata": {},
   "source": [
    "**Exercise:**\n",
    "\n",
    "Implement a function `getGradient`, that takes as inputs `z, eta and theta_hat`, and returns the gradient at z using the derivative $L'(y_i, \\hat{y}_i)=(x_i \\theta^T-y_i)x_i$ "
   ]
  },
  {
   "cell_type": "code",
   "execution_count": 17,
   "metadata": {},
   "outputs": [],
   "source": [
    "def getGradient(z,eta,theta_hat):\n",
    "    x=z[:-1]\n",
    "    y=z[-1]\n",
    "    \n",
    "    gradient=-eta*(np.dot(x,theta_hat)-y)*x\n",
    "    \n",
    "    return gradient"
   ]
  },
  {
   "cell_type": "markdown",
   "metadata": {},
   "source": [
    "Run with `T=50`, and `eta=1`:"
   ]
  },
  {
   "cell_type": "code",
   "execution_count": 18,
   "metadata": {},
   "outputs": [],
   "source": [
    "theta_hat=GD(Z,50,1)"
   ]
  },
  {
   "cell_type": "code",
   "execution_count": 19,
   "metadata": {},
   "outputs": [
    {
     "data": {
      "text/plain": [
       "array([0.31294729, 0.69513227])"
      ]
     },
     "execution_count": 19,
     "metadata": {},
     "output_type": "execute_result"
    }
   ],
   "source": [
    "theta_hat"
   ]
  },
  {
   "cell_type": "markdown",
   "metadata": {},
   "source": [
    "## 3.2) Map/Reduce approach\n",
    "\n",
    "Notice that `getGradient` can be applied row-wise to the Z array, and that all gradients can be summed using a reduce action."
   ]
  },
  {
   "cell_type": "markdown",
   "metadata": {},
   "source": [
    "**Exercise:**\n",
    "\n",
    "Write a function `GD_MR` equivalent to `GD`, that implements the gradient descent in a map/reduce way. \n",
    "Tip: Start from `Z_RDD`, map `getGradient`, reduce by summing the results."
   ]
  },
  {
   "cell_type": "code",
   "execution_count": 20,
   "metadata": {},
   "outputs": [],
   "source": [
    "def GD_MR(Z,T,eta,random_seed=0):\n",
    "    (N,n)=Z.shape\n",
    "    n=n-1\n",
    "\n",
    "    np.random.seed(random_seed)\n",
    "    theta_hat=np.random.rand(n)\n",
    "\n",
    "    for t in range(T):\n",
    "        sum_gradient=Z_RDD.map(lambda z: getGradient(z,eta,theta_hat)).reduce(lambda gradient1,gradient2:(gradient1+gradient2))\n",
    "\n",
    "        theta_hat=theta_hat+sum_gradient/N\n",
    "    \n",
    "    return theta_hat\n"
   ]
  },
  {
   "cell_type": "code",
   "execution_count": 21,
   "metadata": {},
   "outputs": [],
   "source": [
    "theta_hat=GD_MR(Z,50,1)"
   ]
  },
  {
   "cell_type": "code",
   "execution_count": 22,
   "metadata": {},
   "outputs": [
    {
     "data": {
      "text/plain": [
       "array([0.31294729, 0.69513227])"
      ]
     },
     "execution_count": 22,
     "metadata": {},
     "output_type": "execute_result"
    }
   ],
   "source": [
    "theta_hat"
   ]
  },
  {
   "cell_type": "markdown",
   "metadata": {},
   "source": [
    "Check in the Spark UI the resulting sequences of Spark jobs."
   ]
  },
  {
   "cell_type": "markdown",
   "metadata": {},
   "source": [
    "# 4) Linear regression with Spark ML\n",
    "\n",
    "The documentation for linear regression in Spark ML can be found at https://spark.apache.org/docs/latest/ml-classification-regression.html#linear-regression. \n",
    "\n",
    "It implements the OLS and gradient descent algorithms, which can be chosen by means of the `solver` parameter:\n",
    "* `solver='normal'` : Ordinary least squares\n",
    "* `solver='l-bfgs'` : Gradient descent approach, using [the limited memory BFGS](https://en.wikipedia.org/wiki/Limited-memory_BFGS) optimisation algorihm (a more efficient version of the vanilla gradient descent we implement in section 3)\n",
    "* `solver='auto'` : Default parameter. It lets Spark choose beteen normal and l-bgfs, depending on the number of input variables (normal if chosen if number of features<=4096). \n",
    "\n",
    "In order to use the LinearRegression interface, let us first format input data in a dataframe with `label` and `features` columns:\n"
   ]
  },
  {
   "cell_type": "code",
   "execution_count": 23,
   "metadata": {},
   "outputs": [
    {
     "name": "stdout",
     "output_type": "stream",
     "text": [
      "+------------------+--------------------+\n",
      "|             label|            features|\n",
      "+------------------+--------------------+\n",
      "|0.6691352490507825|[0.54881350392732...|\n",
      "|0.5673649951209327|[0.60276337607164...|\n",
      "|0.5818579819191105|[0.42365479933890...|\n",
      "|0.7574182130810158|[0.43758721126269...|\n",
      "|0.5674730853311307|[0.96366276050102...|\n",
      "+------------------+--------------------+\n",
      "only showing top 5 rows\n",
      "\n"
     ]
    }
   ],
   "source": [
    "from pyspark.ml.linalg import Vectors\n",
    "\n",
    "Z_RDD_tmp = map(lambda z: (float(z[-1]), Vectors.dense(z[0:-1])), Z)\n",
    "Z_DF = spark.createDataFrame(Z_RDD_tmp,schema=[\"label\", \"features\"])\n",
    "\n",
    "Z_DF.show(5)"
   ]
  },
  {
   "cell_type": "code",
   "execution_count": 24,
   "metadata": {},
   "outputs": [
    {
     "data": {
      "text/plain": [
       "100"
      ]
     },
     "execution_count": 24,
     "metadata": {},
     "output_type": "execute_result"
    }
   ],
   "source": [
    "Z_DF.count()"
   ]
  },
  {
   "cell_type": "markdown",
   "metadata": {},
   "source": [
    "We can now fit the model. "
   ]
  },
  {
   "cell_type": "markdown",
   "metadata": {},
   "source": [
    "**Exercise:**\n",
    "\n",
    "* Fit the model with the normal and l-bgfs algorithms. \n",
    "* Check the Spark UI and compare the different stages\n"
   ]
  },
  {
   "cell_type": "code",
   "execution_count": 25,
   "metadata": {},
   "outputs": [
    {
     "name": "stdout",
     "output_type": "stream",
     "text": [
      "Coefficients: [0.311795882068552,0.6963434890050514]\n",
      "Intercept: -1.3057799286286809e-10\n",
      "numIterations: 5\n",
      "objectiveHistory: [0.4949999999999998, 0.0015133886737815209, 1.0363354415579748e-05, 5.931637812062361e-11, 3.547904925174226e-20]\n",
      "RMSE: 0.000000\n"
     ]
    }
   ],
   "source": [
    "from pyspark.ml.regression import LinearRegression\n",
    "\n",
    "lr = LinearRegression(maxIter=10,solver=\"l-bfgs\")\n",
    "#lr = LinearRegression(solver=\"normal\")\n",
    "\n",
    "# Fit the model\n",
    "lrModel = lr.fit(Z_DF)\n",
    "\n",
    "# Print the coefficients and intercept for linear regression\n",
    "print(\"Coefficients: %s\" % str(lrModel.coefficients))\n",
    "print(\"Intercept: %s\" % str(lrModel.intercept))\n",
    "\n",
    "# Summarize the model over the training set and print out some metrics\n",
    "trainingSummary = lrModel.summary\n",
    "print(\"numIterations: %d\" % trainingSummary.totalIterations)\n",
    "print(\"objectiveHistory: %s\" % str(trainingSummary.objectiveHistory))\n",
    "print(\"RMSE: %f\" % trainingSummary.rootMeanSquaredError)"
   ]
  },
  {
   "cell_type": "code",
   "execution_count": 26,
   "metadata": {},
   "outputs": [
    {
     "data": {
      "text/plain": [
       "array([0.31179588, 0.69634349])"
      ]
     },
     "execution_count": 26,
     "metadata": {},
     "output_type": "execute_result"
    }
   ],
   "source": [
    "theta"
   ]
  },
  {
   "cell_type": "markdown",
   "metadata": {
    "solution": "hidden"
   },
   "source": [
    "## Relevant links\n",
    "\n",
    "* For a more practical application, see https://github.com/spark-mooc/mooc-setup/blob/master/ML_lab3_linear_reg_student.ipynb where regression with Spark ML is used to predict the year of a movie.\n",
    "\n",
    "Research articles on distributed gradient descent:\n",
    "\n",
    "* Zinkevich, M., Weimer, M., Li, L., & Smola, A. J. (2010). Parallelized stochastic gradient descent. In Advances in neural information processing systems (pp. 2595-2603). http://martin.zinkevich.org/publications/nips2010.pdf\n",
    "* Chu, C. T., Kim, S. K., Lin, Y. A., Yu, Y., Bradski, G., Olukotun, K., & Ng, A. Y. (2007). Map-reduce for machine learning on multicore. In Advances in neural information processing systems (pp. 281-288). https://papers.nips.cc/paper/3150-map-reduce-for-machine-learning-on-multicore.pdf\n",
    "\n"
   ]
  }
 ],
 "metadata": {
  "kernelspec": {
   "display_name": "Python 3",
   "language": "python",
   "name": "python3"
  },
  "language_info": {
   "codemirror_mode": {
    "name": "ipython",
    "version": 3
   },
   "file_extension": ".py",
   "mimetype": "text/x-python",
   "name": "python",
   "nbconvert_exporter": "python",
   "pygments_lexer": "ipython3",
   "version": "3.7.3"
  }
 },
 "nbformat": 4,
 "nbformat_minor": 2
}
