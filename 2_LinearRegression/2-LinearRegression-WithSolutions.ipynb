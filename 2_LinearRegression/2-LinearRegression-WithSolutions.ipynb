{
 "cells": [
  {
   "cell_type": "markdown",
   "metadata": {},
   "source": [
    "# [INFO-H515 - Big Data Scalable Analytics](http://uv.ulb.ac.be/course/view.php?id=74317?username=guest)\n",
    "\n",
    "\n",
    "## TP 2 - Linear Regression with Map Reduce\n",
    "\n",
    "#### *Yann-Aël Le Borgne, Jacopo De Stefani and Gianluca Bontempi*\n",
    "\n",
    "####  25/04/2018"
   ]
  },
  {
   "cell_type": "markdown",
   "metadata": {},
   "source": [
    "This class aims at implementing from scratch map-reduce solutions to linear regression problems. Linear regression consists in approximating an output (response) variable $y$ by a linear combination of a set of inputs (dependent variables) $x_i$.\n",
    "\n",
    "![](./img/ExampleLinReg.png)\n",
    "\n",
    "The two main approaches to solve linear regression problems are the Ordinary Least Squares (OLS), and the Gradient Descent (GD). \n",
    "\n",
    "### Class objectives:\n",
    "\n",
    "* Review the solving of a linear regression problem using the standard ML sklearn Python toolbox\n",
    "* Review the ordinary least square (OLS) solution. Implement it from scratch using numpy\n",
    "* Implement the Map/Reduce OLS solution using Spark\n",
    "* Review the Gradient Descent (GD) solution. Implement it from scratch using numpy\n",
    "* Implement the Map/Reduce GD solution using Spark\n",
    "* Solve the problem using Spark ML library - LinearRegression, and its OLS and gradient descent implementations\n",
    "* Interpret Spark optimisation plan and algorithm distribution in the Spark user interface\n",
    "\n"
   ]
  },
  {
   "cell_type": "markdown",
   "metadata": {},
   "source": [
    "# Linear regression - Background theory\n",
    "\n",
    "* Linear regression is a widely used method in predictive analytics.\n",
    "* It consists in approximating an output by a weighted sum of the inputs, in such a way that the mean square error between the predicted and true outputs is minimized.\n",
    "\n",
    "### Notations\n",
    "* Let $(x_i,y_i)$, $1 \\le i \\le N$, be a set of $N$ observations, with $x_i \\in \\mathbb{R}^n$ and $y_i \\in \\mathbb{R}$. $x_i$ are the inputs, and $y_i$ the outputs.\n",
    "* Let $X$ be the matrix of inputs with rows $x_i$, of size $N \\times n$ ($N$ observations, (rows) and $n$ features (columns)). \n",
    "* Let $Y \\in \\mathbb{R}^N$ be the vector of outputs $y_i$.\n",
    "* Let $\\theta \\in \\mathbb{R}^n$ be the parameters of a linear model $\\hat{y_i}=\\theta x_i^T$.\n",
    "* Let $L(y_i, \\hat{y}_i)=\\frac{1}{2}(y_i-\\hat{y}_i)^2$ be the mean squared loss function.\n",
    "\n"
   ]
  },
  {
   "cell_type": "markdown",
   "metadata": {},
   "source": [
    "\n",
    "### Solutions to the regression problems\n",
    "\n",
    "#### Ordinary least squares\n",
    "\n",
    "[It can be shown](https://theclevermachine.wordpress.com/2012/09/01/derivation-of-ols-normal-equations/) that the set of parameters $\\hat{\\theta}$ which minimize the loss function $L$ over the whole set of observations $(X,Y)$ is given by\n",
    "\n",
    "$$\n",
    "\\hat{\\theta}^T = (X^T X)^{-1} (X^T Y)\n",
    "$$\n",
    "\n",
    "This is the **Ordinary Least Square** solution, which is the closed form solution.\n",
    "\n",
    "#### Gradient descent \n",
    "\n",
    "The closed form solution (OLS) requires a matrix inversion, which is not possible if $X^T X$ is singular (which happens if $n>N$ or if a feature is a linear combination of others). An alternative to the OLS method is the  Gradient Descent (GD) method. The linear regression weights are first drawn at random. They are then iteratively updated by summing and averaging the gradients for all $x_i$ in $X$.    \n",
    "\n",
    "``` \n",
    "GD(X,Y,T,η)\n",
    "N<-nrow(X)\n",
    "theta_0 <- random initialization\n",
    "for t = 1 to T do\n",
    "    sum_gradient=0\n",
    "    for i = 1 to N\n",
    "        sum_gradient=sum_gradient − ηL'(x_i,y_i)\n",
    "    end_for\n",
    "    theta_t ← theta_(t−1)+sum_gradient/N\n",
    "end_for\n",
    "return theta_t\n",
    "``` \n",
    "L' is the derivative of L. For the squared loss, we have $L'(y_i, \\hat{y}_i)=(x_i \\theta^T-y_i)x_i$.\n",
    "\n",
    "Note that the GD approach requires two hyperparameters: The number of iteration $T$, and the learning rate $η$, which controls how 'fast' the linear weights are updated. Tuning $T$ and $η$ to efficiently solve the problem is in practice often difficult. "
   ]
  },
  {
   "cell_type": "markdown",
   "metadata": {},
   "source": [
    "### Map/Reduce\n",
    "\n",
    "If X and Y do not fit in memory, Map/Reduce can be used to solve the linear regression problem in a distributed way. Two cases can be distinguished:\n",
    "\n",
    "* ** $N$ large and $n$ 'small' ** : $X^TX$ and $X^TY$ are of size $n \\times n$ and $n \\times 1$, respectively, and can be assumed to be 'small' enough to fit in the memory of a single machine. Only the matrix products $X^TX$ and $X^TY$ are computed with Map/Reduce in a distributed way. The matrix inversion $(X^TX)^{-1}$ and resulting product $\\hat{\\theta}^T = (X^T X)^{-1} (X^T Y)$ are then computed on a single machine.\n",
    "\n",
    "* ** $n$ 'large' ** : The matrix product $X^TX$ has size $n^2$ which can become too large to fit on a single machine. The risk that $X^TX$ is singular and that the inverse cannot be computed is also increased. The Map/Reduce GD method must be used.\n",
    "\n"
   ]
  },
  {
   "cell_type": "markdown",
   "metadata": {},
   "source": [
    "# General imports"
   ]
  },
  {
   "cell_type": "code",
   "execution_count": 2,
   "metadata": {
    "collapsed": true
   },
   "outputs": [],
   "source": [
    "import time\n",
    "import os \n",
    "import numpy as np\n",
    "\n",
    "%matplotlib notebook  \n",
    "import matplotlib as mpl\n",
    "import matplotlib.pyplot as plt\n",
    "from mpl_toolkits.mplot3d import Axes3D\n"
   ]
  },
  {
   "cell_type": "markdown",
   "metadata": {},
   "source": [
    "We will be using mostly numpy and Spark RDD libraries. For reference, you can look up the details of the relevant Spark methods in [Spark's Python API](https://spark.apache.org/docs/latest/api/python/pyspark.html#pyspark.RDD) and the relevant [NumPy](https://docs.scipy.org/doc/numpy/reference/index.html) methods in the NumPy Reference."
   ]
  },
  {
   "cell_type": "markdown",
   "metadata": {},
   "source": [
    "# 1) Dataset generation\n",
    "\n",
    "Let us first generate an artificial dataset of $N$ observations where the output $y$ is a linear combination of $n$ inputs plus gaussian noise."
   ]
  },
  {
   "cell_type": "code",
   "execution_count": 3,
   "metadata": {
    "collapsed": true
   },
   "outputs": [],
   "source": [
    "def genData(N,n,random_seed):\n",
    "    \n",
    "    start = time.time()\n",
    "\n",
    "    np.random.seed(0)   \n",
    "\n",
    "    #Inputs and the weights of the linear combination are drawn at random\n",
    "    X=np.random.rand(N,n)\n",
    "    theta=np.random.rand(n)\n",
    "    #noise=np.random.rand(N)\n",
    "\n",
    "    Y=np.dot(X,theta)#+noise\n",
    "    Y=Y[:,np.newaxis]\n",
    "    Z=np.concatenate((X,Y),axis=1)\n",
    "\n",
    "    print(\"Number of observations :\",N)\n",
    "    print(\"Number of features :\",n)\n",
    "\n",
    "    print(\"Dimension of X :\",X.shape)\n",
    "    print(\"Dimension of theta :\",theta.shape)\n",
    "    print(\"Dimension of Y :\",Y.shape)\n",
    "\n",
    "    end = time.time()\n",
    "    print(\"Time to create artificial data: \",round(end - start,2),\"seconds\")\n",
    "    \n",
    "    return (X,Y,Z,theta)"
   ]
  },
  {
   "cell_type": "code",
   "execution_count": 4,
   "metadata": {
    "scrolled": true
   },
   "outputs": [
    {
     "name": "stdout",
     "output_type": "stream",
     "text": [
      "Number of observations : 100\n",
      "Number of features : 2\n",
      "Dimension of X : (100, 2)\n",
      "Dimension of theta : (2,)\n",
      "Dimension of Y : (100, 1)\n",
      "Time to create artificial data:  0.13 seconds\n"
     ]
    }
   ],
   "source": [
    "#Let us generate the dataset\n",
    "N=100\n",
    "n=2\n",
    "(X,Y,Z,theta)=genData(N,n,0)"
   ]
  },
  {
   "cell_type": "code",
   "execution_count": 5,
   "metadata": {},
   "outputs": [
    {
     "data": {
      "application/javascript": [
       "/* Put everything inside the global mpl namespace */\n",
       "window.mpl = {};\n",
       "\n",
       "\n",
       "mpl.get_websocket_type = function() {\n",
       "    if (typeof(WebSocket) !== 'undefined') {\n",
       "        return WebSocket;\n",
       "    } else if (typeof(MozWebSocket) !== 'undefined') {\n",
       "        return MozWebSocket;\n",
       "    } else {\n",
       "        alert('Your browser does not have WebSocket support.' +\n",
       "              'Please try Chrome, Safari or Firefox ≥ 6. ' +\n",
       "              'Firefox 4 and 5 are also supported but you ' +\n",
       "              'have to enable WebSockets in about:config.');\n",
       "    };\n",
       "}\n",
       "\n",
       "mpl.figure = function(figure_id, websocket, ondownload, parent_element) {\n",
       "    this.id = figure_id;\n",
       "\n",
       "    this.ws = websocket;\n",
       "\n",
       "    this.supports_binary = (this.ws.binaryType != undefined);\n",
       "\n",
       "    if (!this.supports_binary) {\n",
       "        var warnings = document.getElementById(\"mpl-warnings\");\n",
       "        if (warnings) {\n",
       "            warnings.style.display = 'block';\n",
       "            warnings.textContent = (\n",
       "                \"This browser does not support binary websocket messages. \" +\n",
       "                    \"Performance may be slow.\");\n",
       "        }\n",
       "    }\n",
       "\n",
       "    this.imageObj = new Image();\n",
       "\n",
       "    this.context = undefined;\n",
       "    this.message = undefined;\n",
       "    this.canvas = undefined;\n",
       "    this.rubberband_canvas = undefined;\n",
       "    this.rubberband_context = undefined;\n",
       "    this.format_dropdown = undefined;\n",
       "\n",
       "    this.image_mode = 'full';\n",
       "\n",
       "    this.root = $('<div/>');\n",
       "    this._root_extra_style(this.root)\n",
       "    this.root.attr('style', 'display: inline-block');\n",
       "\n",
       "    $(parent_element).append(this.root);\n",
       "\n",
       "    this._init_header(this);\n",
       "    this._init_canvas(this);\n",
       "    this._init_toolbar(this);\n",
       "\n",
       "    var fig = this;\n",
       "\n",
       "    this.waiting = false;\n",
       "\n",
       "    this.ws.onopen =  function () {\n",
       "            fig.send_message(\"supports_binary\", {value: fig.supports_binary});\n",
       "            fig.send_message(\"send_image_mode\", {});\n",
       "            if (mpl.ratio != 1) {\n",
       "                fig.send_message(\"set_dpi_ratio\", {'dpi_ratio': mpl.ratio});\n",
       "            }\n",
       "            fig.send_message(\"refresh\", {});\n",
       "        }\n",
       "\n",
       "    this.imageObj.onload = function() {\n",
       "            if (fig.image_mode == 'full') {\n",
       "                // Full images could contain transparency (where diff images\n",
       "                // almost always do), so we need to clear the canvas so that\n",
       "                // there is no ghosting.\n",
       "                fig.context.clearRect(0, 0, fig.canvas.width, fig.canvas.height);\n",
       "            }\n",
       "            fig.context.drawImage(fig.imageObj, 0, 0);\n",
       "        };\n",
       "\n",
       "    this.imageObj.onunload = function() {\n",
       "        this.ws.close();\n",
       "    }\n",
       "\n",
       "    this.ws.onmessage = this._make_on_message_function(this);\n",
       "\n",
       "    this.ondownload = ondownload;\n",
       "}\n",
       "\n",
       "mpl.figure.prototype._init_header = function() {\n",
       "    var titlebar = $(\n",
       "        '<div class=\"ui-dialog-titlebar ui-widget-header ui-corner-all ' +\n",
       "        'ui-helper-clearfix\"/>');\n",
       "    var titletext = $(\n",
       "        '<div class=\"ui-dialog-title\" style=\"width: 100%; ' +\n",
       "        'text-align: center; padding: 3px;\"/>');\n",
       "    titlebar.append(titletext)\n",
       "    this.root.append(titlebar);\n",
       "    this.header = titletext[0];\n",
       "}\n",
       "\n",
       "\n",
       "\n",
       "mpl.figure.prototype._canvas_extra_style = function(canvas_div) {\n",
       "\n",
       "}\n",
       "\n",
       "\n",
       "mpl.figure.prototype._root_extra_style = function(canvas_div) {\n",
       "\n",
       "}\n",
       "\n",
       "mpl.figure.prototype._init_canvas = function() {\n",
       "    var fig = this;\n",
       "\n",
       "    var canvas_div = $('<div/>');\n",
       "\n",
       "    canvas_div.attr('style', 'position: relative; clear: both; outline: 0');\n",
       "\n",
       "    function canvas_keyboard_event(event) {\n",
       "        return fig.key_event(event, event['data']);\n",
       "    }\n",
       "\n",
       "    canvas_div.keydown('key_press', canvas_keyboard_event);\n",
       "    canvas_div.keyup('key_release', canvas_keyboard_event);\n",
       "    this.canvas_div = canvas_div\n",
       "    this._canvas_extra_style(canvas_div)\n",
       "    this.root.append(canvas_div);\n",
       "\n",
       "    var canvas = $('<canvas/>');\n",
       "    canvas.addClass('mpl-canvas');\n",
       "    canvas.attr('style', \"left: 0; top: 0; z-index: 0; outline: 0\")\n",
       "\n",
       "    this.canvas = canvas[0];\n",
       "    this.context = canvas[0].getContext(\"2d\");\n",
       "\n",
       "    var backingStore = this.context.backingStorePixelRatio ||\n",
       "\tthis.context.webkitBackingStorePixelRatio ||\n",
       "\tthis.context.mozBackingStorePixelRatio ||\n",
       "\tthis.context.msBackingStorePixelRatio ||\n",
       "\tthis.context.oBackingStorePixelRatio ||\n",
       "\tthis.context.backingStorePixelRatio || 1;\n",
       "\n",
       "    mpl.ratio = (window.devicePixelRatio || 1) / backingStore;\n",
       "\n",
       "    var rubberband = $('<canvas/>');\n",
       "    rubberband.attr('style', \"position: absolute; left: 0; top: 0; z-index: 1;\")\n",
       "\n",
       "    var pass_mouse_events = true;\n",
       "\n",
       "    canvas_div.resizable({\n",
       "        start: function(event, ui) {\n",
       "            pass_mouse_events = false;\n",
       "        },\n",
       "        resize: function(event, ui) {\n",
       "            fig.request_resize(ui.size.width, ui.size.height);\n",
       "        },\n",
       "        stop: function(event, ui) {\n",
       "            pass_mouse_events = true;\n",
       "            fig.request_resize(ui.size.width, ui.size.height);\n",
       "        },\n",
       "    });\n",
       "\n",
       "    function mouse_event_fn(event) {\n",
       "        if (pass_mouse_events)\n",
       "            return fig.mouse_event(event, event['data']);\n",
       "    }\n",
       "\n",
       "    rubberband.mousedown('button_press', mouse_event_fn);\n",
       "    rubberband.mouseup('button_release', mouse_event_fn);\n",
       "    // Throttle sequential mouse events to 1 every 20ms.\n",
       "    rubberband.mousemove('motion_notify', mouse_event_fn);\n",
       "\n",
       "    rubberband.mouseenter('figure_enter', mouse_event_fn);\n",
       "    rubberband.mouseleave('figure_leave', mouse_event_fn);\n",
       "\n",
       "    canvas_div.on(\"wheel\", function (event) {\n",
       "        event = event.originalEvent;\n",
       "        event['data'] = 'scroll'\n",
       "        if (event.deltaY < 0) {\n",
       "            event.step = 1;\n",
       "        } else {\n",
       "            event.step = -1;\n",
       "        }\n",
       "        mouse_event_fn(event);\n",
       "    });\n",
       "\n",
       "    canvas_div.append(canvas);\n",
       "    canvas_div.append(rubberband);\n",
       "\n",
       "    this.rubberband = rubberband;\n",
       "    this.rubberband_canvas = rubberband[0];\n",
       "    this.rubberband_context = rubberband[0].getContext(\"2d\");\n",
       "    this.rubberband_context.strokeStyle = \"#000000\";\n",
       "\n",
       "    this._resize_canvas = function(width, height) {\n",
       "        // Keep the size of the canvas, canvas container, and rubber band\n",
       "        // canvas in synch.\n",
       "        canvas_div.css('width', width)\n",
       "        canvas_div.css('height', height)\n",
       "\n",
       "        canvas.attr('width', width * mpl.ratio);\n",
       "        canvas.attr('height', height * mpl.ratio);\n",
       "        canvas.attr('style', 'width: ' + width + 'px; height: ' + height + 'px;');\n",
       "\n",
       "        rubberband.attr('width', width);\n",
       "        rubberband.attr('height', height);\n",
       "    }\n",
       "\n",
       "    // Set the figure to an initial 600x600px, this will subsequently be updated\n",
       "    // upon first draw.\n",
       "    this._resize_canvas(600, 600);\n",
       "\n",
       "    // Disable right mouse context menu.\n",
       "    $(this.rubberband_canvas).bind(\"contextmenu\",function(e){\n",
       "        return false;\n",
       "    });\n",
       "\n",
       "    function set_focus () {\n",
       "        canvas.focus();\n",
       "        canvas_div.focus();\n",
       "    }\n",
       "\n",
       "    window.setTimeout(set_focus, 100);\n",
       "}\n",
       "\n",
       "mpl.figure.prototype._init_toolbar = function() {\n",
       "    var fig = this;\n",
       "\n",
       "    var nav_element = $('<div/>')\n",
       "    nav_element.attr('style', 'width: 100%');\n",
       "    this.root.append(nav_element);\n",
       "\n",
       "    // Define a callback function for later on.\n",
       "    function toolbar_event(event) {\n",
       "        return fig.toolbar_button_onclick(event['data']);\n",
       "    }\n",
       "    function toolbar_mouse_event(event) {\n",
       "        return fig.toolbar_button_onmouseover(event['data']);\n",
       "    }\n",
       "\n",
       "    for(var toolbar_ind in mpl.toolbar_items) {\n",
       "        var name = mpl.toolbar_items[toolbar_ind][0];\n",
       "        var tooltip = mpl.toolbar_items[toolbar_ind][1];\n",
       "        var image = mpl.toolbar_items[toolbar_ind][2];\n",
       "        var method_name = mpl.toolbar_items[toolbar_ind][3];\n",
       "\n",
       "        if (!name) {\n",
       "            // put a spacer in here.\n",
       "            continue;\n",
       "        }\n",
       "        var button = $('<button/>');\n",
       "        button.addClass('ui-button ui-widget ui-state-default ui-corner-all ' +\n",
       "                        'ui-button-icon-only');\n",
       "        button.attr('role', 'button');\n",
       "        button.attr('aria-disabled', 'false');\n",
       "        button.click(method_name, toolbar_event);\n",
       "        button.mouseover(tooltip, toolbar_mouse_event);\n",
       "\n",
       "        var icon_img = $('<span/>');\n",
       "        icon_img.addClass('ui-button-icon-primary ui-icon');\n",
       "        icon_img.addClass(image);\n",
       "        icon_img.addClass('ui-corner-all');\n",
       "\n",
       "        var tooltip_span = $('<span/>');\n",
       "        tooltip_span.addClass('ui-button-text');\n",
       "        tooltip_span.html(tooltip);\n",
       "\n",
       "        button.append(icon_img);\n",
       "        button.append(tooltip_span);\n",
       "\n",
       "        nav_element.append(button);\n",
       "    }\n",
       "\n",
       "    var fmt_picker_span = $('<span/>');\n",
       "\n",
       "    var fmt_picker = $('<select/>');\n",
       "    fmt_picker.addClass('mpl-toolbar-option ui-widget ui-widget-content');\n",
       "    fmt_picker_span.append(fmt_picker);\n",
       "    nav_element.append(fmt_picker_span);\n",
       "    this.format_dropdown = fmt_picker[0];\n",
       "\n",
       "    for (var ind in mpl.extensions) {\n",
       "        var fmt = mpl.extensions[ind];\n",
       "        var option = $(\n",
       "            '<option/>', {selected: fmt === mpl.default_extension}).html(fmt);\n",
       "        fmt_picker.append(option)\n",
       "    }\n",
       "\n",
       "    // Add hover states to the ui-buttons\n",
       "    $( \".ui-button\" ).hover(\n",
       "        function() { $(this).addClass(\"ui-state-hover\");},\n",
       "        function() { $(this).removeClass(\"ui-state-hover\");}\n",
       "    );\n",
       "\n",
       "    var status_bar = $('<span class=\"mpl-message\"/>');\n",
       "    nav_element.append(status_bar);\n",
       "    this.message = status_bar[0];\n",
       "}\n",
       "\n",
       "mpl.figure.prototype.request_resize = function(x_pixels, y_pixels) {\n",
       "    // Request matplotlib to resize the figure. Matplotlib will then trigger a resize in the client,\n",
       "    // which will in turn request a refresh of the image.\n",
       "    this.send_message('resize', {'width': x_pixels, 'height': y_pixels});\n",
       "}\n",
       "\n",
       "mpl.figure.prototype.send_message = function(type, properties) {\n",
       "    properties['type'] = type;\n",
       "    properties['figure_id'] = this.id;\n",
       "    this.ws.send(JSON.stringify(properties));\n",
       "}\n",
       "\n",
       "mpl.figure.prototype.send_draw_message = function() {\n",
       "    if (!this.waiting) {\n",
       "        this.waiting = true;\n",
       "        this.ws.send(JSON.stringify({type: \"draw\", figure_id: this.id}));\n",
       "    }\n",
       "}\n",
       "\n",
       "\n",
       "mpl.figure.prototype.handle_save = function(fig, msg) {\n",
       "    var format_dropdown = fig.format_dropdown;\n",
       "    var format = format_dropdown.options[format_dropdown.selectedIndex].value;\n",
       "    fig.ondownload(fig, format);\n",
       "}\n",
       "\n",
       "\n",
       "mpl.figure.prototype.handle_resize = function(fig, msg) {\n",
       "    var size = msg['size'];\n",
       "    if (size[0] != fig.canvas.width || size[1] != fig.canvas.height) {\n",
       "        fig._resize_canvas(size[0], size[1]);\n",
       "        fig.send_message(\"refresh\", {});\n",
       "    };\n",
       "}\n",
       "\n",
       "mpl.figure.prototype.handle_rubberband = function(fig, msg) {\n",
       "    var x0 = msg['x0'] / mpl.ratio;\n",
       "    var y0 = (fig.canvas.height - msg['y0']) / mpl.ratio;\n",
       "    var x1 = msg['x1'] / mpl.ratio;\n",
       "    var y1 = (fig.canvas.height - msg['y1']) / mpl.ratio;\n",
       "    x0 = Math.floor(x0) + 0.5;\n",
       "    y0 = Math.floor(y0) + 0.5;\n",
       "    x1 = Math.floor(x1) + 0.5;\n",
       "    y1 = Math.floor(y1) + 0.5;\n",
       "    var min_x = Math.min(x0, x1);\n",
       "    var min_y = Math.min(y0, y1);\n",
       "    var width = Math.abs(x1 - x0);\n",
       "    var height = Math.abs(y1 - y0);\n",
       "\n",
       "    fig.rubberband_context.clearRect(\n",
       "        0, 0, fig.canvas.width, fig.canvas.height);\n",
       "\n",
       "    fig.rubberband_context.strokeRect(min_x, min_y, width, height);\n",
       "}\n",
       "\n",
       "mpl.figure.prototype.handle_figure_label = function(fig, msg) {\n",
       "    // Updates the figure title.\n",
       "    fig.header.textContent = msg['label'];\n",
       "}\n",
       "\n",
       "mpl.figure.prototype.handle_cursor = function(fig, msg) {\n",
       "    var cursor = msg['cursor'];\n",
       "    switch(cursor)\n",
       "    {\n",
       "    case 0:\n",
       "        cursor = 'pointer';\n",
       "        break;\n",
       "    case 1:\n",
       "        cursor = 'default';\n",
       "        break;\n",
       "    case 2:\n",
       "        cursor = 'crosshair';\n",
       "        break;\n",
       "    case 3:\n",
       "        cursor = 'move';\n",
       "        break;\n",
       "    }\n",
       "    fig.rubberband_canvas.style.cursor = cursor;\n",
       "}\n",
       "\n",
       "mpl.figure.prototype.handle_message = function(fig, msg) {\n",
       "    fig.message.textContent = msg['message'];\n",
       "}\n",
       "\n",
       "mpl.figure.prototype.handle_draw = function(fig, msg) {\n",
       "    // Request the server to send over a new figure.\n",
       "    fig.send_draw_message();\n",
       "}\n",
       "\n",
       "mpl.figure.prototype.handle_image_mode = function(fig, msg) {\n",
       "    fig.image_mode = msg['mode'];\n",
       "}\n",
       "\n",
       "mpl.figure.prototype.updated_canvas_event = function() {\n",
       "    // Called whenever the canvas gets updated.\n",
       "    this.send_message(\"ack\", {});\n",
       "}\n",
       "\n",
       "// A function to construct a web socket function for onmessage handling.\n",
       "// Called in the figure constructor.\n",
       "mpl.figure.prototype._make_on_message_function = function(fig) {\n",
       "    return function socket_on_message(evt) {\n",
       "        if (evt.data instanceof Blob) {\n",
       "            /* FIXME: We get \"Resource interpreted as Image but\n",
       "             * transferred with MIME type text/plain:\" errors on\n",
       "             * Chrome.  But how to set the MIME type?  It doesn't seem\n",
       "             * to be part of the websocket stream */\n",
       "            evt.data.type = \"image/png\";\n",
       "\n",
       "            /* Free the memory for the previous frames */\n",
       "            if (fig.imageObj.src) {\n",
       "                (window.URL || window.webkitURL).revokeObjectURL(\n",
       "                    fig.imageObj.src);\n",
       "            }\n",
       "\n",
       "            fig.imageObj.src = (window.URL || window.webkitURL).createObjectURL(\n",
       "                evt.data);\n",
       "            fig.updated_canvas_event();\n",
       "            fig.waiting = false;\n",
       "            return;\n",
       "        }\n",
       "        else if (typeof evt.data === 'string' && evt.data.slice(0, 21) == \"data:image/png;base64\") {\n",
       "            fig.imageObj.src = evt.data;\n",
       "            fig.updated_canvas_event();\n",
       "            fig.waiting = false;\n",
       "            return;\n",
       "        }\n",
       "\n",
       "        var msg = JSON.parse(evt.data);\n",
       "        var msg_type = msg['type'];\n",
       "\n",
       "        // Call the  \"handle_{type}\" callback, which takes\n",
       "        // the figure and JSON message as its only arguments.\n",
       "        try {\n",
       "            var callback = fig[\"handle_\" + msg_type];\n",
       "        } catch (e) {\n",
       "            console.log(\"No handler for the '\" + msg_type + \"' message type: \", msg);\n",
       "            return;\n",
       "        }\n",
       "\n",
       "        if (callback) {\n",
       "            try {\n",
       "                // console.log(\"Handling '\" + msg_type + \"' message: \", msg);\n",
       "                callback(fig, msg);\n",
       "            } catch (e) {\n",
       "                console.log(\"Exception inside the 'handler_\" + msg_type + \"' callback:\", e, e.stack, msg);\n",
       "            }\n",
       "        }\n",
       "    };\n",
       "}\n",
       "\n",
       "// from http://stackoverflow.com/questions/1114465/getting-mouse-location-in-canvas\n",
       "mpl.findpos = function(e) {\n",
       "    //this section is from http://www.quirksmode.org/js/events_properties.html\n",
       "    var targ;\n",
       "    if (!e)\n",
       "        e = window.event;\n",
       "    if (e.target)\n",
       "        targ = e.target;\n",
       "    else if (e.srcElement)\n",
       "        targ = e.srcElement;\n",
       "    if (targ.nodeType == 3) // defeat Safari bug\n",
       "        targ = targ.parentNode;\n",
       "\n",
       "    // jQuery normalizes the pageX and pageY\n",
       "    // pageX,Y are the mouse positions relative to the document\n",
       "    // offset() returns the position of the element relative to the document\n",
       "    var x = e.pageX - $(targ).offset().left;\n",
       "    var y = e.pageY - $(targ).offset().top;\n",
       "\n",
       "    return {\"x\": x, \"y\": y};\n",
       "};\n",
       "\n",
       "/*\n",
       " * return a copy of an object with only non-object keys\n",
       " * we need this to avoid circular references\n",
       " * http://stackoverflow.com/a/24161582/3208463\n",
       " */\n",
       "function simpleKeys (original) {\n",
       "  return Object.keys(original).reduce(function (obj, key) {\n",
       "    if (typeof original[key] !== 'object')\n",
       "        obj[key] = original[key]\n",
       "    return obj;\n",
       "  }, {});\n",
       "}\n",
       "\n",
       "mpl.figure.prototype.mouse_event = function(event, name) {\n",
       "    var canvas_pos = mpl.findpos(event)\n",
       "\n",
       "    if (name === 'button_press')\n",
       "    {\n",
       "        this.canvas.focus();\n",
       "        this.canvas_div.focus();\n",
       "    }\n",
       "\n",
       "    var x = canvas_pos.x * mpl.ratio;\n",
       "    var y = canvas_pos.y * mpl.ratio;\n",
       "\n",
       "    this.send_message(name, {x: x, y: y, button: event.button,\n",
       "                             step: event.step,\n",
       "                             guiEvent: simpleKeys(event)});\n",
       "\n",
       "    /* This prevents the web browser from automatically changing to\n",
       "     * the text insertion cursor when the button is pressed.  We want\n",
       "     * to control all of the cursor setting manually through the\n",
       "     * 'cursor' event from matplotlib */\n",
       "    event.preventDefault();\n",
       "    return false;\n",
       "}\n",
       "\n",
       "mpl.figure.prototype._key_event_extra = function(event, name) {\n",
       "    // Handle any extra behaviour associated with a key event\n",
       "}\n",
       "\n",
       "mpl.figure.prototype.key_event = function(event, name) {\n",
       "\n",
       "    // Prevent repeat events\n",
       "    if (name == 'key_press')\n",
       "    {\n",
       "        if (event.which === this._key)\n",
       "            return;\n",
       "        else\n",
       "            this._key = event.which;\n",
       "    }\n",
       "    if (name == 'key_release')\n",
       "        this._key = null;\n",
       "\n",
       "    var value = '';\n",
       "    if (event.ctrlKey && event.which != 17)\n",
       "        value += \"ctrl+\";\n",
       "    if (event.altKey && event.which != 18)\n",
       "        value += \"alt+\";\n",
       "    if (event.shiftKey && event.which != 16)\n",
       "        value += \"shift+\";\n",
       "\n",
       "    value += 'k';\n",
       "    value += event.which.toString();\n",
       "\n",
       "    this._key_event_extra(event, name);\n",
       "\n",
       "    this.send_message(name, {key: value,\n",
       "                             guiEvent: simpleKeys(event)});\n",
       "    return false;\n",
       "}\n",
       "\n",
       "mpl.figure.prototype.toolbar_button_onclick = function(name) {\n",
       "    if (name == 'download') {\n",
       "        this.handle_save(this, null);\n",
       "    } else {\n",
       "        this.send_message(\"toolbar_button\", {name: name});\n",
       "    }\n",
       "};\n",
       "\n",
       "mpl.figure.prototype.toolbar_button_onmouseover = function(tooltip) {\n",
       "    this.message.textContent = tooltip;\n",
       "};\n",
       "mpl.toolbar_items = [[\"Home\", \"Reset original view\", \"fa fa-home icon-home\", \"home\"], [\"Back\", \"Back to  previous view\", \"fa fa-arrow-left icon-arrow-left\", \"back\"], [\"Forward\", \"Forward to next view\", \"fa fa-arrow-right icon-arrow-right\", \"forward\"], [\"\", \"\", \"\", \"\"], [\"Pan\", \"Pan axes with left mouse, zoom with right\", \"fa fa-arrows icon-move\", \"pan\"], [\"Zoom\", \"Zoom to rectangle\", \"fa fa-square-o icon-check-empty\", \"zoom\"], [\"\", \"\", \"\", \"\"], [\"Download\", \"Download plot\", \"fa fa-floppy-o icon-save\", \"download\"]];\n",
       "\n",
       "mpl.extensions = [\"eps\", \"jpeg\", \"pdf\", \"png\", \"ps\", \"raw\", \"svg\", \"tif\"];\n",
       "\n",
       "mpl.default_extension = \"png\";var comm_websocket_adapter = function(comm) {\n",
       "    // Create a \"websocket\"-like object which calls the given IPython comm\n",
       "    // object with the appropriate methods. Currently this is a non binary\n",
       "    // socket, so there is still some room for performance tuning.\n",
       "    var ws = {};\n",
       "\n",
       "    ws.close = function() {\n",
       "        comm.close()\n",
       "    };\n",
       "    ws.send = function(m) {\n",
       "        //console.log('sending', m);\n",
       "        comm.send(m);\n",
       "    };\n",
       "    // Register the callback with on_msg.\n",
       "    comm.on_msg(function(msg) {\n",
       "        //console.log('receiving', msg['content']['data'], msg);\n",
       "        // Pass the mpl event to the overriden (by mpl) onmessage function.\n",
       "        ws.onmessage(msg['content']['data'])\n",
       "    });\n",
       "    return ws;\n",
       "}\n",
       "\n",
       "mpl.mpl_figure_comm = function(comm, msg) {\n",
       "    // This is the function which gets called when the mpl process\n",
       "    // starts-up an IPython Comm through the \"matplotlib\" channel.\n",
       "\n",
       "    var id = msg.content.data.id;\n",
       "    // Get hold of the div created by the display call when the Comm\n",
       "    // socket was opened in Python.\n",
       "    var element = $(\"#\" + id);\n",
       "    var ws_proxy = comm_websocket_adapter(comm)\n",
       "\n",
       "    function ondownload(figure, format) {\n",
       "        window.open(figure.imageObj.src);\n",
       "    }\n",
       "\n",
       "    var fig = new mpl.figure(id, ws_proxy,\n",
       "                           ondownload,\n",
       "                           element.get(0));\n",
       "\n",
       "    // Call onopen now - mpl needs it, as it is assuming we've passed it a real\n",
       "    // web socket which is closed, not our websocket->open comm proxy.\n",
       "    ws_proxy.onopen();\n",
       "\n",
       "    fig.parent_element = element.get(0);\n",
       "    fig.cell_info = mpl.find_output_cell(\"<div id='\" + id + \"'></div>\");\n",
       "    if (!fig.cell_info) {\n",
       "        console.error(\"Failed to find cell for figure\", id, fig);\n",
       "        return;\n",
       "    }\n",
       "\n",
       "    var output_index = fig.cell_info[2]\n",
       "    var cell = fig.cell_info[0];\n",
       "\n",
       "};\n",
       "\n",
       "mpl.figure.prototype.handle_close = function(fig, msg) {\n",
       "    var width = fig.canvas.width/mpl.ratio\n",
       "    fig.root.unbind('remove')\n",
       "\n",
       "    // Update the output cell to use the data from the current canvas.\n",
       "    fig.push_to_output();\n",
       "    var dataURL = fig.canvas.toDataURL();\n",
       "    // Re-enable the keyboard manager in IPython - without this line, in FF,\n",
       "    // the notebook keyboard shortcuts fail.\n",
       "    IPython.keyboard_manager.enable()\n",
       "    $(fig.parent_element).html('<img src=\"' + dataURL + '\" width=\"' + width + '\">');\n",
       "    fig.close_ws(fig, msg);\n",
       "}\n",
       "\n",
       "mpl.figure.prototype.close_ws = function(fig, msg){\n",
       "    fig.send_message('closing', msg);\n",
       "    // fig.ws.close()\n",
       "}\n",
       "\n",
       "mpl.figure.prototype.push_to_output = function(remove_interactive) {\n",
       "    // Turn the data on the canvas into data in the output cell.\n",
       "    var width = this.canvas.width/mpl.ratio\n",
       "    var dataURL = this.canvas.toDataURL();\n",
       "    this.cell_info[1]['text/html'] = '<img src=\"' + dataURL + '\" width=\"' + width + '\">';\n",
       "}\n",
       "\n",
       "mpl.figure.prototype.updated_canvas_event = function() {\n",
       "    // Tell IPython that the notebook contents must change.\n",
       "    IPython.notebook.set_dirty(true);\n",
       "    this.send_message(\"ack\", {});\n",
       "    var fig = this;\n",
       "    // Wait a second, then push the new image to the DOM so\n",
       "    // that it is saved nicely (might be nice to debounce this).\n",
       "    setTimeout(function () { fig.push_to_output() }, 1000);\n",
       "}\n",
       "\n",
       "mpl.figure.prototype._init_toolbar = function() {\n",
       "    var fig = this;\n",
       "\n",
       "    var nav_element = $('<div/>')\n",
       "    nav_element.attr('style', 'width: 100%');\n",
       "    this.root.append(nav_element);\n",
       "\n",
       "    // Define a callback function for later on.\n",
       "    function toolbar_event(event) {\n",
       "        return fig.toolbar_button_onclick(event['data']);\n",
       "    }\n",
       "    function toolbar_mouse_event(event) {\n",
       "        return fig.toolbar_button_onmouseover(event['data']);\n",
       "    }\n",
       "\n",
       "    for(var toolbar_ind in mpl.toolbar_items){\n",
       "        var name = mpl.toolbar_items[toolbar_ind][0];\n",
       "        var tooltip = mpl.toolbar_items[toolbar_ind][1];\n",
       "        var image = mpl.toolbar_items[toolbar_ind][2];\n",
       "        var method_name = mpl.toolbar_items[toolbar_ind][3];\n",
       "\n",
       "        if (!name) { continue; };\n",
       "\n",
       "        var button = $('<button class=\"btn btn-default\" href=\"#\" title=\"' + name + '\"><i class=\"fa ' + image + ' fa-lg\"></i></button>');\n",
       "        button.click(method_name, toolbar_event);\n",
       "        button.mouseover(tooltip, toolbar_mouse_event);\n",
       "        nav_element.append(button);\n",
       "    }\n",
       "\n",
       "    // Add the status bar.\n",
       "    var status_bar = $('<span class=\"mpl-message\" style=\"text-align:right; float: right;\"/>');\n",
       "    nav_element.append(status_bar);\n",
       "    this.message = status_bar[0];\n",
       "\n",
       "    // Add the close button to the window.\n",
       "    var buttongrp = $('<div class=\"btn-group inline pull-right\"></div>');\n",
       "    var button = $('<button class=\"btn btn-mini btn-primary\" href=\"#\" title=\"Stop Interaction\"><i class=\"fa fa-power-off icon-remove icon-large\"></i></button>');\n",
       "    button.click(function (evt) { fig.handle_close(fig, {}); } );\n",
       "    button.mouseover('Stop Interaction', toolbar_mouse_event);\n",
       "    buttongrp.append(button);\n",
       "    var titlebar = this.root.find($('.ui-dialog-titlebar'));\n",
       "    titlebar.prepend(buttongrp);\n",
       "}\n",
       "\n",
       "mpl.figure.prototype._root_extra_style = function(el){\n",
       "    var fig = this\n",
       "    el.on(\"remove\", function(){\n",
       "\tfig.close_ws(fig, {});\n",
       "    });\n",
       "}\n",
       "\n",
       "mpl.figure.prototype._canvas_extra_style = function(el){\n",
       "    // this is important to make the div 'focusable\n",
       "    el.attr('tabindex', 0)\n",
       "    // reach out to IPython and tell the keyboard manager to turn it's self\n",
       "    // off when our div gets focus\n",
       "\n",
       "    // location in version 3\n",
       "    if (IPython.notebook.keyboard_manager) {\n",
       "        IPython.notebook.keyboard_manager.register_events(el);\n",
       "    }\n",
       "    else {\n",
       "        // location in version 2\n",
       "        IPython.keyboard_manager.register_events(el);\n",
       "    }\n",
       "\n",
       "}\n",
       "\n",
       "mpl.figure.prototype._key_event_extra = function(event, name) {\n",
       "    var manager = IPython.notebook.keyboard_manager;\n",
       "    if (!manager)\n",
       "        manager = IPython.keyboard_manager;\n",
       "\n",
       "    // Check for shift+enter\n",
       "    if (event.shiftKey && event.which == 13) {\n",
       "        this.canvas_div.blur();\n",
       "        // select the cell after this one\n",
       "        var index = IPython.notebook.find_cell_index(this.cell_info[0]);\n",
       "        IPython.notebook.select(index + 1);\n",
       "    }\n",
       "}\n",
       "\n",
       "mpl.figure.prototype.handle_save = function(fig, msg) {\n",
       "    fig.ondownload(fig, null);\n",
       "}\n",
       "\n",
       "\n",
       "mpl.find_output_cell = function(html_output) {\n",
       "    // Return the cell and output element which can be found *uniquely* in the notebook.\n",
       "    // Note - this is a bit hacky, but it is done because the \"notebook_saving.Notebook\"\n",
       "    // IPython event is triggered only after the cells have been serialised, which for\n",
       "    // our purposes (turning an active figure into a static one), is too late.\n",
       "    var cells = IPython.notebook.get_cells();\n",
       "    var ncells = cells.length;\n",
       "    for (var i=0; i<ncells; i++) {\n",
       "        var cell = cells[i];\n",
       "        if (cell.cell_type === 'code'){\n",
       "            for (var j=0; j<cell.output_area.outputs.length; j++) {\n",
       "                var data = cell.output_area.outputs[j];\n",
       "                if (data.data) {\n",
       "                    // IPython >= 3 moved mimebundle to data attribute of output\n",
       "                    data = data.data;\n",
       "                }\n",
       "                if (data['text/html'] == html_output) {\n",
       "                    return [cell, data, j];\n",
       "                }\n",
       "            }\n",
       "        }\n",
       "    }\n",
       "}\n",
       "\n",
       "// Register the function which deals with the matplotlib target/channel.\n",
       "// The kernel may be null if the page has been refreshed.\n",
       "if (IPython.notebook.kernel != null) {\n",
       "    IPython.notebook.kernel.comm_manager.register_target('matplotlib', mpl.mpl_figure_comm);\n",
       "}\n"
      ],
      "text/plain": [
       "<IPython.core.display.Javascript object>"
      ]
     },
     "metadata": {},
     "output_type": "display_data"
    },
    {
     "data": {
      "text/html": [
       "<img src=\"data:image/png;base64,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\" width=\"640\">"
      ],
      "text/plain": [
       "<IPython.core.display.HTML object>"
      ]
     },
     "metadata": {},
     "output_type": "display_data"
    },
    {
     "data": {
      "text/plain": [
       "<matplotlib.text.Text at 0x11cdfe9e8>"
      ]
     },
     "execution_count": 5,
     "metadata": {},
     "output_type": "execute_result"
    }
   ],
   "source": [
    "#Warning: Do not plot if N>1000 !\n",
    "fig = plt.figure()\n",
    "ax = fig.add_subplot(111, projection='3d')\n",
    "ax.scatter(X[0:N,0],X[0:N,1],Y[0:N])\n",
    "ax.set_xlabel('X1')\n",
    "ax.set_ylabel('X2')\n",
    "ax.set_zlabel('Y')\n"
   ]
  },
  {
   "cell_type": "code",
   "execution_count": 7,
   "metadata": {},
   "outputs": [
    {
     "data": {
      "text/plain": [
       "array([ 0.31179588,  0.69634349])"
      ]
     },
     "execution_count": 7,
     "metadata": {},
     "output_type": "execute_result"
    }
   ],
   "source": [
    "#Check theta values\n",
    "theta"
   ]
  },
  {
   "cell_type": "markdown",
   "metadata": {},
   "source": [
    "# 2) Ordinary Least Squares\n",
    "\n",
    "Let us first solve the linear regression using standard approaches:\n",
    "\n",
    "* Using Python sklearn and the sklearn.linear_model function\n",
    "* Using the least mean square equation with numpy"
   ]
  },
  {
   "cell_type": "markdown",
   "metadata": {},
   "source": [
    "## 2.1) Centralised approach"
   ]
  },
  {
   "cell_type": "markdown",
   "metadata": {},
   "source": [
    "### 2.1.1) Parameter identification using sklearn\n",
    "\n",
    "Let us compute the model coefficients with the [sklearn.linear_model](http://scikit-learn.org/stable/modules/generated/sklearn.linear_model.LinearRegression.html) function"
   ]
  },
  {
   "cell_type": "code",
   "execution_count": 8,
   "metadata": {},
   "outputs": [
    {
     "name": "stdout",
     "output_type": "stream",
     "text": [
      "Regression coefficient found with sklearn: [[ 0.31179588  0.69634349]]\n",
      "Time to fit linear model with sklearn:  0.0069 seconds\n"
     ]
    }
   ],
   "source": [
    "from sklearn import linear_model\n",
    "\n",
    "start = time.time()\n",
    "\n",
    "model = linear_model.LinearRegression(fit_intercept=False)\n",
    "model.fit(X,Y)\n",
    "\n",
    "end = time.time()\n",
    "\n",
    "print(\"Regression coefficient found with sklearn:\",model.coef_)\n",
    "print(\"Time to fit linear model with sklearn: \",round(end - start,4),\"seconds\")\n"
   ]
  },
  {
   "cell_type": "code",
   "execution_count": 9,
   "metadata": {
    "solution": "hidden"
   },
   "outputs": [
    {
     "data": {
      "text/plain": [
       "array([ 0.31179588,  0.69634349])"
      ]
     },
     "execution_count": 9,
     "metadata": {},
     "output_type": "execute_result"
    }
   ],
   "source": [
    "theta"
   ]
  },
  {
   "cell_type": "markdown",
   "metadata": {},
   "source": [
    "### 2.1.2) Parameter identification using numpy\n",
    "\n",
    "Let us compute the model coefficients using the OLS solution, with numpy [`dot`](https://docs.scipy.org/doc/numpy/reference/generated/numpy.dot.html), [`transpose`](https://docs.scipy.org/doc/numpy/reference/generated/numpy.transpose.html), and [`linalg.inv`](https://docs.scipy.org/doc/numpy/reference/generated/numpy.linalg.inv.html) functions.   "
   ]
  },
  {
   "cell_type": "markdown",
   "metadata": {},
   "source": [
    "**Exercise:**\n",
    "\n",
    "* Compute $X^TX$ using the numpy `dot` function, and store result in a variable XtX\n",
    "* Compute $X^TY$ using the numpy `dot` function, and store result in a variable XtY\n",
    "* Compute the inverse of $X^TX$ using the numpy `linalg.inv` function, and store result in a variable XtX_inverse\n",
    "* Compute coefficient $\\hat{\\theta}=(X^T X)^{-1} (X^T Y)$ using the numpy `dot` function and store the result in a variable theta_hat\n",
    "* Check that theta_hat is the same as the result found with `sklearn.linear_model`"
   ]
  },
  {
   "cell_type": "code",
   "execution_count": 10,
   "metadata": {},
   "outputs": [
    {
     "name": "stdout",
     "output_type": "stream",
     "text": [
      "Size of X^T X : (2, 2)\n",
      "Size of X^T Y : (2, 1)\n",
      "Size of (X^T X)^-1 : (2, 2)\n",
      "Size of \\hat{theta} : (2, 1)\n",
      "Regression coefficient found with numpy native implementation: [[ 0.31179588]\n",
      " [ 0.69634349]]\n",
      "Time to fit linear model with numpy:  0.0015 seconds\n"
     ]
    }
   ],
   "source": [
    "start = time.time()\n",
    "\n",
    "XtX=np.dot(np.transpose(X),X)\n",
    "XtY=np.dot(np.transpose(X),Y)\n",
    "\n",
    "XtX_inverse=np.linalg.inv(XtX)\n",
    "\n",
    "theta_hat=np.dot(XtX_inverse,XtY)\n",
    "\n",
    "end = time.time()\n",
    "\n",
    "print(\"Size of X^T X :\",XtX.shape)\n",
    "print(\"Size of X^T Y :\",XtY.shape)\n",
    "print(\"Size of (X^T X)^-1 :\",XtX_inverse.shape)\n",
    "print(\"Size of \\hat{theta} :\",theta_hat.shape)\n",
    "\n",
    "print(\"Regression coefficient found with numpy native implementation:\",theta_hat)\n",
    "print(\"Time to fit linear model with numpy: \",round(end - start,4),\"seconds\")\n"
   ]
  },
  {
   "cell_type": "markdown",
   "metadata": {},
   "source": [
    "## 2.2) Map/Reduce approach for OLS\n",
    "\n",
    "Summary of the approach:\n",
    "\n",
    "* $X^T X$ and $X^T Y$ are computed in a distributed way.\n",
    "* $X^T X$ and $X^T Y$ have size $n \\times n$ and $n$, with $n$ small. $(X^T X)^{-1} (X^T Y)$ can be computed locally (no need to distribute the computation of the matrix inverse).\n",
    "\n",
    "#### Distribution of the computation of $X^T X$ and $X^T Y$\n",
    "\n",
    "* Let $Z=[X|Y]$ be the $X$ matrix augmented with $Y$ as the last column.\n",
    "* Let $Z$ be partitioned into $B$ row blocks $Z_k$ of size $N_B \\times (n+1)$\n",
    "\n",
    "$$Z = \\left[\\begin{array}\n",
    "{r}\n",
    "Z_1  \\\\\n",
    "Z_2  \\\\\n",
    "...\\\\\n",
    "Z_B\n",
    "\\end{array}\\right]\n",
    "$$\n"
   ]
  },
  {
   "cell_type": "markdown",
   "metadata": {},
   "source": [
    "**The distributed implementation will consist in computing $X^TX$ and $X^TY$ in parallel using the block $Z_k$**.\n",
    "\n",
    "* **Stage 1**: Partitioning. Partition $Z$ in $B$ blocks $Z_k$, $1 \\le k \\le B$. This can be done when calling the `parallelize` function to create the Spark Resilient Distributed Dataset (RDDs). \n",
    "* **Stage 2**: Computation of partial $X^TX$ with mapping. For each row of the partition $Z_k$, return xtx$= x_k^T x_k$ (size $n \\times n$).\n",
    "* **Stage 3**: Reduce. Sum all xtx.\n",
    "* **Stage 4**: Computation of partial $X^TY$ with mapping. For each row of the partition $Z_k$, return xty$= x_k^T y_k$ (size $n \\times 1$).\n",
    "* **Stage 5**: Reduce. Sum all xty.\n",
    "* **Stage 6**: Collect. Collect the reduced XtX and XtY, and compute $\\hat{\\theta}^T = (X^T X)^{-1} (X^T Y)$.\n",
    "\n"
   ]
  },
  {
   "cell_type": "markdown",
   "metadata": {},
   "source": [
    "### Start Spark session"
   ]
  },
  {
   "cell_type": "code",
   "execution_count": 11,
   "metadata": {},
   "outputs": [],
   "source": [
    "os.environ['PYSPARK_SUBMIT_ARGS'] =\"--conf spark.driver.memory=2g  pyspark-shell\"\n",
    "\n",
    "from pyspark.sql import SparkSession\n",
    "\n",
    "#Start Spark session with local master and 2 cores\n",
    "spark = SparkSession \\\n",
    "    .builder \\\n",
    "    .master(\"local[2]\") \\\n",
    "    .appName(\"LinearRegression\") \\\n",
    "    .getOrCreate()\n",
    "\n",
    "#When dealing with RDDs, we work the sparkContext object. See https://spark.apache.org/docs/latest/api/python/pyspark.html#pyspark.SparkContext\n",
    "sc=spark.sparkContext"
   ]
  },
  {
   "cell_type": "markdown",
   "metadata": {},
   "source": [
    "### Create RDD with B partitions"
   ]
  },
  {
   "cell_type": "code",
   "execution_count": 16,
   "metadata": {
    "collapsed": true
   },
   "outputs": [],
   "source": [
    "#Let us use 2 partitions\n",
    "B=2\n",
    "Z_RDD=sc.parallelize(Z,B).cache()"
   ]
  },
  {
   "cell_type": "code",
   "execution_count": 17,
   "metadata": {},
   "outputs": [
    {
     "data": {
      "text/plain": [
       "100"
      ]
     },
     "execution_count": 17,
     "metadata": {},
     "output_type": "execute_result"
    }
   ],
   "source": [
    "Z_RDD.count()"
   ]
  },
  {
   "cell_type": "markdown",
   "metadata": {},
   "source": [
    "**Exercise**\n",
    "\n",
    "* Open the Spark UI (yourIP:4040), check the DAG visualisation and event timeline\n",
    "* Change the number to B=5 partitions et reparallelize Z. What change do you expect in the event timeline?"
   ]
  },
  {
   "cell_type": "markdown",
   "metadata": {},
   "source": [
    "### 2.2.1) Approach 1: map function\n",
    "\n",
    "The standard approach for Map/Reduce consists in applying a map function to each row of an RDD using the `map` operator, and reduce the results using the `reduce` operator. Below is an example of the Map/Reduce implementation for computing XtX."
   ]
  },
  {
   "cell_type": "code",
   "execution_count": 19,
   "metadata": {
    "collapsed": true
   },
   "outputs": [],
   "source": [
    "def xtx_row(z):\n",
    "    #x is all columns except the last one (y)\n",
    "    x=z[:-1]\n",
    "    xtx=np.outer(x,x)\n",
    "    return xtx\n",
    "\n",
    "XtX=Z_RDD.map(xtx_row).reduce(lambda x,y:(x+y))\n"
   ]
  },
  {
   "cell_type": "markdown",
   "metadata": {},
   "source": [
    "**Exercise:**\n",
    "    \n",
    "* What is the shape (number of rows/columns) of the resulting RDD?\n",
    "* Check the DAG, event timeline, and number of records/partitions in the Spark UI"
   ]
  },
  {
   "cell_type": "code",
   "execution_count": 20,
   "metadata": {},
   "outputs": [
    {
     "data": {
      "text/plain": [
       "(2, 2)"
      ]
     },
     "execution_count": 20,
     "metadata": {},
     "output_type": "execute_result"
    }
   ],
   "source": [
    "XtX.shape"
   ]
  },
  {
   "cell_type": "markdown",
   "metadata": {},
   "source": [
    "**Exercise:**\n",
    "\n",
    "* Apply the same approach as xtx_row for computing XtY. Call that function xty_row\n",
    "* Compute the coefficients $\\hat{\\theta}=(X^T X)^{-1} (X^T Y)$ using the numpy `dot` and `linalg.inv` functions and store the result in a variable theta_hat\n",
    "* Check that theta_hat is the same as the result found with `sklearn.linear_model` (no map/reduce needed here) "
   ]
  },
  {
   "cell_type": "code",
   "execution_count": 21,
   "metadata": {},
   "outputs": [
    {
     "name": "stdout",
     "output_type": "stream",
     "text": [
      "Size of X^T X : (2, 2)\n",
      "Size of X^T Y : (2,)\n",
      "Size of (X^T X)^-1 : (2, 2)\n",
      "Size of \\hat{theta} : (2,)\n",
      "Regression coefficient found with Spark map function: [ 0.31179588  0.69634349]\n",
      "Time to fit linear model with Spark map function, combined computation of xtx and xty:  0.05 seconds\n"
     ]
    }
   ],
   "source": [
    "def xty_row(z):\n",
    "    x=z[:-1]\n",
    "    #y is the last column\n",
    "    y=z[-1]\n",
    "    xty=x*y\n",
    "    return xty\n",
    "\n",
    "start = time.time()\n",
    "\n",
    "XtY=Z_RDD.map(xty_row).reduce(lambda x,y:(x+y))\n",
    "\n",
    "XtX_inverse=np.linalg.inv(XtX)\n",
    "\n",
    "theta_hat=np.dot(XtX_inverse,XtY)\n",
    "\n",
    "end = time.time()\n",
    "\n",
    "print(\"Size of X^T X :\",XtX.shape)\n",
    "print(\"Size of X^T Y :\",XtY.shape)\n",
    "print(\"Size of (X^T X)^-1 :\",XtX_inverse.shape)\n",
    "print(\"Size of \\hat{theta} :\",theta_hat.shape)\n",
    "\n",
    "print(\"Regression coefficient found with Spark map function:\",theta_hat)\n",
    "print(\"Time to fit linear model with Spark map function, combined computation of xtx and xty: \",round(end - start,2),\"seconds\")\n"
   ]
  },
  {
   "cell_type": "markdown",
   "metadata": {},
   "source": [
    "### 2.2.2) Approach 2 : map function with combined computation of xtx and xty\n",
    "\n",
    "Instead of using to separate map/reduce for computing XtX and XtY, both can be computed in a single map/reduce (since x and y are in z)."
   ]
  },
  {
   "cell_type": "markdown",
   "metadata": {},
   "source": [
    "**Exercise:**\n",
    "\n",
    "* Modify the xtx_row function in a xtx_xty_row function so that xtx and xty are computed in a single map. The output should be a tuple (xtx,xty)\n",
    "* Modify the map/reduce pipeline so the xtx_xty_row is applied, and adapt the reduce part so both elements (xtx,xty) are summed"
   ]
  },
  {
   "cell_type": "code",
   "execution_count": 22,
   "metadata": {
    "collapsed": true
   },
   "outputs": [],
   "source": [
    "def xtx_xty_row(z):\n",
    "    x=np.array(z[:-1])\n",
    "    y=z[-1]\n",
    "    xtx=np.outer(x,x)\n",
    "    xty=np.dot(x,y)\n",
    "    return (xtx,xty)"
   ]
  },
  {
   "cell_type": "code",
   "execution_count": 28,
   "metadata": {},
   "outputs": [
    {
     "data": {
      "text/plain": [
       "(array([[ 34.34463715,  24.47585898],\n",
       "        [ 24.47585898,  31.86436589]]), array([ 27.75212147,  29.82001575]))"
      ]
     },
     "execution_count": 28,
     "metadata": {},
     "output_type": "execute_result"
    }
   ],
   "source": [
    "Z_RDD.map(xtx_xty_row).reduce(lambda xtx_xty0,xtx_xty1:(xtx_xty0[0]+xtx_xty1[0],xtx_xty0[1]+xtx_xty1[1]))[0:5]"
   ]
  },
  {
   "cell_type": "code",
   "execution_count": null,
   "metadata": {
    "collapsed": true
   },
   "outputs": [],
   "source": []
  },
  {
   "cell_type": "code",
   "execution_count": null,
   "metadata": {
    "collapsed": true
   },
   "outputs": [],
   "source": []
  },
  {
   "cell_type": "code",
   "execution_count": 23,
   "metadata": {},
   "outputs": [
    {
     "name": "stdout",
     "output_type": "stream",
     "text": [
      "Size of X^T X : (2, 2)\n",
      "Size of X^T Y : (2,)\n",
      "Size of (X^T X)^-1 : (2, 2)\n",
      "Size of \\hat{theta} : (2,)\n",
      "Regression coefficient found with Spark map function, combined computation of xtx and xty: [ 0.31179588  0.69634349]\n",
      "Time to fit linear model with Spark map function, combined computation of xtx and xty:  0.12 seconds\n"
     ]
    }
   ],
   "source": [
    "start = time.time()\n",
    "\n",
    "(XtX,XtY)=Z_RDD.cache().map(xtx_xty_row)\\\n",
    ".reduce(lambda xtx_xty0,xtx_xty1:(xtx_xty0[0]+xtx_xty1[0],xtx_xty0[1]+xtx_xty1[1]))\n",
    "\n",
    "XtX_inverse=np.linalg.inv(XtX)\n",
    "\n",
    "theta_hat=np.dot(XtX_inverse,XtY)\n",
    "\n",
    "end = time.time()\n",
    "\n",
    "print(\"Size of X^T X :\",XtX.shape)\n",
    "print(\"Size of X^T Y :\",XtY.shape)\n",
    "print(\"Size of (X^T X)^-1 :\",XtX_inverse.shape)\n",
    "print(\"Size of \\hat{theta} :\",theta_hat.shape)\n",
    "\n",
    "print(\"Regression coefficient found with Spark map function, combined computation of xtx and xty:\",theta_hat)\n",
    "print(\"Time to fit linear model with Spark map function, combined computation of xtx and xty: \",round(end - start,2),\"seconds\")\n"
   ]
  },
  {
   "cell_type": "markdown",
   "metadata": {
    "collapsed": true
   },
   "source": [
    "# 3) Gradient Descent\n",
    "\n"
   ]
  },
  {
   "cell_type": "markdown",
   "metadata": {},
   "source": [
    "## 3.1) Centralised approach\n",
    "\n",
    "``` \n",
    "GD(X,Y,T,η)\n",
    "N<-nrow(X)\n",
    "theta_0 <- random initialization\n",
    "for t = 1 to T do\n",
    "    sum_gradient=0\n",
    "    for i = 1 to N\n",
    "        sum_gradient=sum_gradient − ηL'(x_i,y_i)\n",
    "    end_for\n",
    "    theta_t ← theta_(t−1)+sum_gradient/N \n",
    "end_for\n",
    "return theta_t \n",
    "``` \n",
    "L' is the derivative of L. For the squared loss, we have $L'(y_i, \\hat{y}_i)=(x_i \\theta^T-y_i)x_i$.\n",
    "\n",
    "Below is a function that implements this algorithm."
   ]
  },
  {
   "cell_type": "code",
   "execution_count": 29,
   "metadata": {
    "collapsed": true
   },
   "outputs": [],
   "source": [
    "def GD(Z,T,eta,random_seed=0):\n",
    "    (N,n)=Z.shape\n",
    "    n=n-1\n",
    "\n",
    "    np.random.seed(random_seed)\n",
    "    theta_hat=np.random.rand(n)\n",
    "\n",
    "    for t in range(T):\n",
    "        sum_gradient=0\n",
    "        for i in range(N):\n",
    "            sum_gradient=sum_gradient+getGradient(Z[i,:],eta,theta_hat)\n",
    "        \n",
    "        theta_hat=theta_hat+sum_gradient/N\n",
    "    \n",
    "    return theta_hat"
   ]
  },
  {
   "cell_type": "markdown",
   "metadata": {},
   "source": [
    "**Exercise:**\n",
    "\n",
    "Implement a function getGradient, that takes as inputs z, eta and theta_hat, and returns the gradient at z using the derivative $L'(y_i, \\hat{y}_i)=(x_i \\theta^T-y_i)x_i$ "
   ]
  },
  {
   "cell_type": "code",
   "execution_count": 30,
   "metadata": {
    "collapsed": true
   },
   "outputs": [],
   "source": [
    "def getGradient(z,eta,theta_hat):\n",
    "    x=z[:-1]\n",
    "    y=z[-1]\n",
    "    \n",
    "    gradient=-eta*(np.dot(x,theta_hat)-y)*x\n",
    "    \n",
    "    return gradient"
   ]
  },
  {
   "cell_type": "markdown",
   "metadata": {},
   "source": [
    "Run with T=50, and eta=1"
   ]
  },
  {
   "cell_type": "code",
   "execution_count": 26,
   "metadata": {
    "collapsed": true
   },
   "outputs": [],
   "source": [
    "theta_hat=GD(Z,50,1)"
   ]
  },
  {
   "cell_type": "code",
   "execution_count": 27,
   "metadata": {},
   "outputs": [
    {
     "data": {
      "text/plain": [
       "array([ 0.31294729,  0.69513227])"
      ]
     },
     "execution_count": 27,
     "metadata": {},
     "output_type": "execute_result"
    }
   ],
   "source": [
    "theta_hat"
   ]
  },
  {
   "cell_type": "markdown",
   "metadata": {},
   "source": [
    "## 3.2) Map/Reduce approach\n",
    "\n",
    "Notice that getGradient can be applied row-wise to the Z array, and that all gradients can be summed using a reduce action."
   ]
  },
  {
   "cell_type": "markdown",
   "metadata": {},
   "source": [
    "**Exercise:**\n",
    "\n",
    "Write a function GD_MR equivalent to GD, that implements the gradient descent in a map/reduce way. Tip: Start from Z_RDD, map getGradient, reduce by summing the results."
   ]
  },
  {
   "cell_type": "code",
   "execution_count": 28,
   "metadata": {
    "collapsed": true
   },
   "outputs": [],
   "source": [
    "def GD_MR(Z,T,eta,random_seed=0):\n",
    "    (N,n)=Z.shape\n",
    "    n=n-1\n",
    "\n",
    "    np.random.seed(random_seed)\n",
    "    theta_hat=np.random.rand(n)\n",
    "\n",
    "    for t in range(T):\n",
    "        sum_gradient=Z_RDD.map(lambda z: getGradient(z,eta,theta_hat)).reduce(lambda gradient1,gradient2:(gradient1+gradient2))\n",
    "\n",
    "        theta_hat=theta_hat+sum_gradient/N\n",
    "    \n",
    "    return theta_hat\n"
   ]
  },
  {
   "cell_type": "code",
   "execution_count": 29,
   "metadata": {
    "collapsed": true
   },
   "outputs": [],
   "source": [
    "theta_hat=GD_MR(Z,50,1)"
   ]
  },
  {
   "cell_type": "code",
   "execution_count": 30,
   "metadata": {},
   "outputs": [
    {
     "data": {
      "text/plain": [
       "array([ 0.31294729,  0.69513227])"
      ]
     },
     "execution_count": 30,
     "metadata": {},
     "output_type": "execute_result"
    }
   ],
   "source": [
    "theta_hat"
   ]
  },
  {
   "cell_type": "markdown",
   "metadata": {},
   "source": [
    "Check in the Spark UI the resulting sequences of Spark jobs."
   ]
  },
  {
   "cell_type": "markdown",
   "metadata": {},
   "source": [
    "# 4) Linear regression with Spark ML\n",
    "\n",
    "The documentation for linear regression in Spark ML can be found at https://spark.apache.org/docs/latest/ml-classification-regression.html#linear-regression. \n",
    "\n",
    "It implements the OLS and gradient descent algorithms, which can be chosen by means of the `solver` parameter:\n",
    "* solver='normal' : Ordinary least squares\n",
    "* solver='l-bgfs': Gradient descent approach, using [the limited memory BGFS](https://en.wikipedia.org/wiki/Limited-memory_BFGS) optimisation algorihm (a more efficient version of the vanilla gradient descent we implement in section 3)\n",
    "* solver='auto': Default parameter. It lets Spark choose beteen normal and l-bgfs, depending on the number of input variables (normal if chosen if number of features<=4096). \n",
    "\n",
    "In order to use the LinearRegression interface, let us first format input data in a dataframe with `label` and `features` columns:\n"
   ]
  },
  {
   "cell_type": "code",
   "execution_count": 31,
   "metadata": {},
   "outputs": [
    {
     "name": "stdout",
     "output_type": "stream",
     "text": [
      "+------------------+--------------------+\n",
      "|             label|            features|\n",
      "+------------------+--------------------+\n",
      "|0.6691352490507825|[0.54881350392732...|\n",
      "|0.5673649951209327|[0.60276337607164...|\n",
      "|0.5818579819191105|[0.42365479933890...|\n",
      "|0.7574182130810158|[0.43758721126269...|\n",
      "|0.5674730853311307|[0.96366276050102...|\n",
      "+------------------+--------------------+\n",
      "only showing top 5 rows\n",
      "\n"
     ]
    }
   ],
   "source": [
    "from pyspark.ml.linalg import Vectors\n",
    "\n",
    "Z_RDD_tmp = map(lambda z: (float(z[-1]), Vectors.dense(z[0:-1])), Z)\n",
    "Z_DF = spark.createDataFrame(Z_RDD_tmp,schema=[\"label\", \"features\"])\n",
    "\n",
    "Z_DF.show(5)"
   ]
  },
  {
   "cell_type": "code",
   "execution_count": 32,
   "metadata": {},
   "outputs": [
    {
     "data": {
      "text/plain": [
       "100"
      ]
     },
     "execution_count": 32,
     "metadata": {},
     "output_type": "execute_result"
    }
   ],
   "source": [
    "Z_DF.count()"
   ]
  },
  {
   "cell_type": "markdown",
   "metadata": {},
   "source": [
    "We can now fit the model. "
   ]
  },
  {
   "cell_type": "markdown",
   "metadata": {},
   "source": [
    "**Exercise:**\n",
    "\n",
    "* Fit the model with the normal and l-bgfs algorithms. \n",
    "* Check the Spark UI and compare the different stages\n"
   ]
  },
  {
   "cell_type": "code",
   "execution_count": 37,
   "metadata": {},
   "outputs": [
    {
     "name": "stdout",
     "output_type": "stream",
     "text": [
      "Coefficients: [0.311795882069,0.696343489005]\n",
      "Intercept: -1.3057799286286809e-10\n",
      "numIterations: 5\n",
      "objectiveHistory: [0.4949999999999998, 0.0015133886737815209, 1.0363354415579748e-05, 5.931637812062361e-11, 3.547904925174226e-20]\n",
      "RMSE: 0.000000\n"
     ]
    }
   ],
   "source": [
    "from pyspark.ml.regression import LinearRegression\n",
    "\n",
    "lr = LinearRegression(maxIter=10,solver=\"l-bfgs\")\n",
    "#lr = LinearRegression(solver=\"normal\")\n",
    "\n",
    "# Fit the model\n",
    "lrModel = lr.fit(Z_DF)\n",
    "\n",
    "# Print the coefficients and intercept for linear regression\n",
    "print(\"Coefficients: %s\" % str(lrModel.coefficients))\n",
    "print(\"Intercept: %s\" % str(lrModel.intercept))\n",
    "\n",
    "# Summarize the model over the training set and print out some metrics\n",
    "trainingSummary = lrModel.summary\n",
    "print(\"numIterations: %d\" % trainingSummary.totalIterations)\n",
    "print(\"objectiveHistory: %s\" % str(trainingSummary.objectiveHistory))\n",
    "print(\"RMSE: %f\" % trainingSummary.rootMeanSquaredError)"
   ]
  },
  {
   "cell_type": "code",
   "execution_count": 38,
   "metadata": {},
   "outputs": [
    {
     "data": {
      "text/plain": [
       "array([ 0.31179588,  0.69634349])"
      ]
     },
     "execution_count": 38,
     "metadata": {},
     "output_type": "execute_result"
    }
   ],
   "source": [
    "theta"
   ]
  },
  {
   "cell_type": "markdown",
   "metadata": {
    "solution": "hidden"
   },
   "source": [
    "## Relevant links\n",
    "\n",
    "* For a more practical application, see https://github.com/spark-mooc/mooc-setup/blob/master/ML_lab3_linear_reg_student.ipynb where regression with Spark ML is used to predict the year of a movie.\n",
    "\n",
    "Research articles on distributed gradient descent:\n",
    "\n",
    "* Zinkevich, M., Weimer, M., Li, L., & Smola, A. J. (2010). Parallelized stochastic gradient descent. In Advances in neural information processing systems (pp. 2595-2603). http://martin.zinkevich.org/publications/nips2010.pdf\n",
    "* Chu, C. T., Kim, S. K., Lin, Y. A., Yu, Y., Bradski, G., Olukotun, K., & Ng, A. Y. (2007). Map-reduce for machine learning on multicore. In Advances in neural information processing systems (pp. 281-288). https://papers.nips.cc/paper/3150-map-reduce-for-machine-learning-on-multicore.pdf\n",
    "\n"
   ]
  },
  {
   "cell_type": "code",
   "execution_count": null,
   "metadata": {
    "collapsed": true,
    "solution": "hidden"
   },
   "outputs": [],
   "source": []
  }
 ],
 "metadata": {
  "kernelspec": {
   "display_name": "Python 3",
   "language": "python",
   "name": "python3"
  },
  "language_info": {
   "codemirror_mode": {
    "name": "ipython",
    "version": 3
   },
   "file_extension": ".py",
   "mimetype": "text/x-python",
   "name": "python",
   "nbconvert_exporter": "python",
   "pygments_lexer": "ipython3",
   "version": "3.8.3"
  }
 },
 "nbformat": 4,
 "nbformat_minor": 2
}
