{
 "cells": [
  {
   "cell_type": "markdown",
   "metadata": {},
   "source": [
    "# [INFO-H515 - Big Data Scalable Analytics](http://uv.ulb.ac.be/course/view.php?id=74317?username=guest)\n",
    "\n",
    "\n",
    "## TP 2 - Linear Regression with Map Reduce\n",
    "\n",
    "#### *Yann-Aël Le Borgne, Jacopo De Stefani and Gianluca Bontempi*\n",
    "\n",
    "####  25/04/2018"
   ]
  },
  {
   "cell_type": "markdown",
   "metadata": {},
   "source": [
    "This class aims at implementing from scratch map-reduce solutions to linear regression problems. Linear regression consists in approximating an output (response) variable $y$ by a linear combination of a set of inputs (dependent variables) $x_i$.\n",
    "\n",
    "![](./img/ExampleLinReg.png)\n",
    "\n",
    "The two main approaches to solve linear regression problems are the Ordinary Least Squares (OLS), and the Gradient Descent (GD). \n",
    "\n",
    "### Class objectives:\n",
    "\n",
    "* Review the solving of a linear regression problem using the standard ML sklearn Python toolbox\n",
    "* Review the ordinary least square (OLS) solution. Implement it from scratch using numpy\n",
    "* Implement the Map/Reduce OLS solution using Spark\n",
    "* Review the Gradient Descent (GD) solution. Implement it from scratch using numpy\n",
    "* Implement the Map/Reduce GD solution using Spark\n",
    "* Solve the problem using Spark ML library - LinearRegression, and its OLS and gradient descent implementations\n",
    "* Interpret Spark optimisation plan and algorithm distribution in the Spark user interface\n",
    "\n"
   ]
  },
  {
   "cell_type": "markdown",
   "metadata": {},
   "source": [
    "# Linear regression - Background theory\n",
    "\n",
    "* Linear regression is a widely used method in predictive analytics.\n",
    "* It consists in approximating an output by a weighted sum of the inputs, in such a way that the mean square error between the predicted and true outputs is minimized.\n",
    "\n",
    "### Notations\n",
    "* Let $(x_i,y_i)$, $1 \\le i \\le N$, be a set of $N$ observations, with $x_i \\in \\mathbb{R}^n$ and $y_i \\in \\mathbb{R}$. $x_i$ are the inputs, and $y_i$ the outputs.\n",
    "* Let $X$ be the matrix of inputs with rows $x_i$, of size $N \\times n$ ($N$ observations, (rows) and $n$ features (columns)). \n",
    "* Let $Y \\in \\mathbb{R}^N$ be the vector of outputs $y_i$.\n",
    "* Let $\\theta \\in \\mathbb{R}^n$ be the parameters of a linear model $\\hat{y_i}=\\theta x_i^T$.\n",
    "* Let $L(y_i, \\hat{y}_i)=\\frac{1}{2}(y_i-\\hat{y}_i)^2$ be the mean squared loss function.\n",
    "\n"
   ]
  },
  {
   "cell_type": "markdown",
   "metadata": {},
   "source": [
    "\n",
    "### Solutions to the regression problems\n",
    "\n",
    "#### Ordinary least squares\n",
    "\n",
    "[It can be shown](https://theclevermachine.wordpress.com/2012/09/01/derivation-of-ols-normal-equations/) that the set of parameters $\\hat{\\theta}$ which minimize the loss function $L$ over the whole set of observations $(X,Y)$ is given by\n",
    "\n",
    "$$\n",
    "\\hat{\\theta}^T = (X^T X)^{-1} (X^T Y)\n",
    "$$\n",
    "\n",
    "This is the **Ordinary Least Square** solution, which is the closed form solution.\n",
    "\n",
    "#### Gradient descent \n",
    "\n",
    "The closed form solution (OLS) requires a matrix inversion, which is not possible if $X^T X$ is singular (which happens if $n>N$ or if a feature is a linear combination of others). An alternative to the OLS method is the  Gradient Descent (GD) method. The linear regression weights are first drawn at random. They are then iteratively updated by summing and averaging the gradients for all $x_i$ in $X$.    \n",
    "\n",
    "``` \n",
    "GD(X,Y,T,η)\n",
    "N<-nrow(X)\n",
    "theta_0 <- random initialization\n",
    "for t = 1 to T do\n",
    "    sum_gradient=0\n",
    "    for i = 1 to N\n",
    "        sum_gradient=sum_gradient − ηL'(x_i,y_i)\n",
    "    end_for\n",
    "    theta_t ← theta_(t−1)+sum_gradient/N\n",
    "end_for\n",
    "return theta_t\n",
    "``` \n",
    "L' is the derivative of L. For the squared loss, we have $L'(y_i, \\hat{y}_i)=(x_i \\theta^T-y_i)x_i$.\n",
    "\n",
    "Note that the GD approach requires two hyperparameters: The number of iteration $T$, and the learning rate $η$, which controls how 'fast' the linear weights are updated. Tuning $T$ and $η$ to efficiently solve the problem is in practice often difficult. "
   ]
  },
  {
   "cell_type": "markdown",
   "metadata": {},
   "source": [
    "### Map/Reduce\n",
    "\n",
    "If X and Y do not fit in memory, Map/Reduce can be used to solve the linear regression problem in a distributed way. Two cases can be distinguished:\n",
    "\n",
    "* ** $N$ large and $n$ 'small' ** : $X^TX$ and $X^TY$ are of size $n \\times n$ and $n \\times 1$, respectively, and can be assumed to be 'small' enough to fit in the memory of a single machine. Only the matrix products $X^TX$ and $X^TY$ are computed with Map/Reduce in a distributed way. The matrix inversion $(X^TX)^{-1}$ and resulting product $\\hat{\\theta}^T = (X^T X)^{-1} (X^T Y)$ are then computed on a single machine.\n",
    "\n",
    "* ** $n$ 'large' ** : The matrix product $X^TX$ has size $n^2$ which can become too large to fit on a single machine. The risk that $X^TX$ is singular and that the inverse cannot be computed is also increased. The Map/Reduce GD method must be used.\n",
    "\n"
   ]
  },
  {
   "cell_type": "markdown",
   "metadata": {},
   "source": [
    "# General imports"
   ]
  },
  {
   "cell_type": "code",
   "execution_count": 3,
   "metadata": {
    "collapsed": true
   },
   "outputs": [],
   "source": [
    "import time\n",
    "import os \n",
    "import numpy as np\n",
    "\n",
    "%matplotlib notebook  \n",
    "import matplotlib as mpl\n",
    "import matplotlib.pyplot as plt\n",
    "from mpl_toolkits.mplot3d import Axes3D\n"
   ]
  },
  {
   "cell_type": "markdown",
   "metadata": {},
   "source": [
    "We will be using mostly numpy and Spark RDD libraries. For reference, you can look up the details of the relevant Spark methods in [Spark's Python API](https://spark.apache.org/docs/latest/api/python/pyspark.html#pyspark.RDD) and the relevant [NumPy](https://docs.scipy.org/doc/numpy/reference/index.html) methods in the NumPy Reference."
   ]
  },
  {
   "cell_type": "markdown",
   "metadata": {},
   "source": [
    "# 1) Dataset generation\n",
    "\n",
    "Let us first generate an artificial dataset of $N$ observations where the output $y$ is a linear combination of $n$ inputs plus gaussian noise."
   ]
  },
  {
   "cell_type": "code",
   "execution_count": 4,
   "metadata": {
    "collapsed": true
   },
   "outputs": [],
   "source": [
    "def genData(N,n,random_seed):\n",
    "    \n",
    "    start = time.time()\n",
    "\n",
    "    np.random.seed(0)   \n",
    "\n",
    "    #Inputs and the weights of the linear combination are drawn at random\n",
    "    X=np.random.rand(N,n)\n",
    "    theta=np.random.rand(n)\n",
    "    #noise=np.random.rand(N)\n",
    "\n",
    "    Y=np.dot(X,theta)#+noise\n",
    "    Y=Y[:,np.newaxis]\n",
    "    Z=np.concatenate((X,Y),axis=1)\n",
    "\n",
    "    print(\"Number of observations :\",N)\n",
    "    print(\"Number of features :\",n)\n",
    "\n",
    "    print(\"Dimension of X :\",X.shape)\n",
    "    print(\"Dimension of theta :\",theta.shape)\n",
    "    print(\"Dimension of Y :\",Y.shape)\n",
    "\n",
    "    end = time.time()\n",
    "    print(\"Time to create artificial data: \",round(end - start,2),\"seconds\")\n",
    "    \n",
    "    return (X,Y,Z,theta)"
   ]
  },
  {
   "cell_type": "code",
   "execution_count": 5,
   "metadata": {
    "scrolled": true
   },
   "outputs": [
    {
     "name": "stdout",
     "output_type": "stream",
     "text": [
      "Number of observations : 100\n",
      "Number of features : 2\n",
      "Dimension of X : (100, 2)\n",
      "Dimension of theta : (2,)\n",
      "Dimension of Y : (100, 1)\n",
      "Time to create artificial data:  0.15 seconds\n"
     ]
    }
   ],
   "source": [
    "#Let us generate the dataset\n",
    "N=100\n",
    "n=2\n",
    "(X,Y,Z,theta)=genData(N,n,0)"
   ]
  },
  {
   "cell_type": "code",
   "execution_count": 6,
   "metadata": {},
   "outputs": [
    {
     "data": {
      "application/javascript": [
       "/* Put everything inside the global mpl namespace */\n",
       "window.mpl = {};\n",
       "\n",
       "\n",
       "mpl.get_websocket_type = function() {\n",
       "    if (typeof(WebSocket) !== 'undefined') {\n",
       "        return WebSocket;\n",
       "    } else if (typeof(MozWebSocket) !== 'undefined') {\n",
       "        return MozWebSocket;\n",
       "    } else {\n",
       "        alert('Your browser does not have WebSocket support.' +\n",
       "              'Please try Chrome, Safari or Firefox ≥ 6. ' +\n",
       "              'Firefox 4 and 5 are also supported but you ' +\n",
       "              'have to enable WebSockets in about:config.');\n",
       "    };\n",
       "}\n",
       "\n",
       "mpl.figure = function(figure_id, websocket, ondownload, parent_element) {\n",
       "    this.id = figure_id;\n",
       "\n",
       "    this.ws = websocket;\n",
       "\n",
       "    this.supports_binary = (this.ws.binaryType != undefined);\n",
       "\n",
       "    if (!this.supports_binary) {\n",
       "        var warnings = document.getElementById(\"mpl-warnings\");\n",
       "        if (warnings) {\n",
       "            warnings.style.display = 'block';\n",
       "            warnings.textContent = (\n",
       "                \"This browser does not support binary websocket messages. \" +\n",
       "                    \"Performance may be slow.\");\n",
       "        }\n",
       "    }\n",
       "\n",
       "    this.imageObj = new Image();\n",
       "\n",
       "    this.context = undefined;\n",
       "    this.message = undefined;\n",
       "    this.canvas = undefined;\n",
       "    this.rubberband_canvas = undefined;\n",
       "    this.rubberband_context = undefined;\n",
       "    this.format_dropdown = undefined;\n",
       "\n",
       "    this.image_mode = 'full';\n",
       "\n",
       "    this.root = $('<div/>');\n",
       "    this._root_extra_style(this.root)\n",
       "    this.root.attr('style', 'display: inline-block');\n",
       "\n",
       "    $(parent_element).append(this.root);\n",
       "\n",
       "    this._init_header(this);\n",
       "    this._init_canvas(this);\n",
       "    this._init_toolbar(this);\n",
       "\n",
       "    var fig = this;\n",
       "\n",
       "    this.waiting = false;\n",
       "\n",
       "    this.ws.onopen =  function () {\n",
       "            fig.send_message(\"supports_binary\", {value: fig.supports_binary});\n",
       "            fig.send_message(\"send_image_mode\", {});\n",
       "            if (mpl.ratio != 1) {\n",
       "                fig.send_message(\"set_dpi_ratio\", {'dpi_ratio': mpl.ratio});\n",
       "            }\n",
       "            fig.send_message(\"refresh\", {});\n",
       "        }\n",
       "\n",
       "    this.imageObj.onload = function() {\n",
       "            if (fig.image_mode == 'full') {\n",
       "                // Full images could contain transparency (where diff images\n",
       "                // almost always do), so we need to clear the canvas so that\n",
       "                // there is no ghosting.\n",
       "                fig.context.clearRect(0, 0, fig.canvas.width, fig.canvas.height);\n",
       "            }\n",
       "            fig.context.drawImage(fig.imageObj, 0, 0);\n",
       "        };\n",
       "\n",
       "    this.imageObj.onunload = function() {\n",
       "        this.ws.close();\n",
       "    }\n",
       "\n",
       "    this.ws.onmessage = this._make_on_message_function(this);\n",
       "\n",
       "    this.ondownload = ondownload;\n",
       "}\n",
       "\n",
       "mpl.figure.prototype._init_header = function() {\n",
       "    var titlebar = $(\n",
       "        '<div class=\"ui-dialog-titlebar ui-widget-header ui-corner-all ' +\n",
       "        'ui-helper-clearfix\"/>');\n",
       "    var titletext = $(\n",
       "        '<div class=\"ui-dialog-title\" style=\"width: 100%; ' +\n",
       "        'text-align: center; padding: 3px;\"/>');\n",
       "    titlebar.append(titletext)\n",
       "    this.root.append(titlebar);\n",
       "    this.header = titletext[0];\n",
       "}\n",
       "\n",
       "\n",
       "\n",
       "mpl.figure.prototype._canvas_extra_style = function(canvas_div) {\n",
       "\n",
       "}\n",
       "\n",
       "\n",
       "mpl.figure.prototype._root_extra_style = function(canvas_div) {\n",
       "\n",
       "}\n",
       "\n",
       "mpl.figure.prototype._init_canvas = function() {\n",
       "    var fig = this;\n",
       "\n",
       "    var canvas_div = $('<div/>');\n",
       "\n",
       "    canvas_div.attr('style', 'position: relative; clear: both; outline: 0');\n",
       "\n",
       "    function canvas_keyboard_event(event) {\n",
       "        return fig.key_event(event, event['data']);\n",
       "    }\n",
       "\n",
       "    canvas_div.keydown('key_press', canvas_keyboard_event);\n",
       "    canvas_div.keyup('key_release', canvas_keyboard_event);\n",
       "    this.canvas_div = canvas_div\n",
       "    this._canvas_extra_style(canvas_div)\n",
       "    this.root.append(canvas_div);\n",
       "\n",
       "    var canvas = $('<canvas/>');\n",
       "    canvas.addClass('mpl-canvas');\n",
       "    canvas.attr('style', \"left: 0; top: 0; z-index: 0; outline: 0\")\n",
       "\n",
       "    this.canvas = canvas[0];\n",
       "    this.context = canvas[0].getContext(\"2d\");\n",
       "\n",
       "    var backingStore = this.context.backingStorePixelRatio ||\n",
       "\tthis.context.webkitBackingStorePixelRatio ||\n",
       "\tthis.context.mozBackingStorePixelRatio ||\n",
       "\tthis.context.msBackingStorePixelRatio ||\n",
       "\tthis.context.oBackingStorePixelRatio ||\n",
       "\tthis.context.backingStorePixelRatio || 1;\n",
       "\n",
       "    mpl.ratio = (window.devicePixelRatio || 1) / backingStore;\n",
       "\n",
       "    var rubberband = $('<canvas/>');\n",
       "    rubberband.attr('style', \"position: absolute; left: 0; top: 0; z-index: 1;\")\n",
       "\n",
       "    var pass_mouse_events = true;\n",
       "\n",
       "    canvas_div.resizable({\n",
       "        start: function(event, ui) {\n",
       "            pass_mouse_events = false;\n",
       "        },\n",
       "        resize: function(event, ui) {\n",
       "            fig.request_resize(ui.size.width, ui.size.height);\n",
       "        },\n",
       "        stop: function(event, ui) {\n",
       "            pass_mouse_events = true;\n",
       "            fig.request_resize(ui.size.width, ui.size.height);\n",
       "        },\n",
       "    });\n",
       "\n",
       "    function mouse_event_fn(event) {\n",
       "        if (pass_mouse_events)\n",
       "            return fig.mouse_event(event, event['data']);\n",
       "    }\n",
       "\n",
       "    rubberband.mousedown('button_press', mouse_event_fn);\n",
       "    rubberband.mouseup('button_release', mouse_event_fn);\n",
       "    // Throttle sequential mouse events to 1 every 20ms.\n",
       "    rubberband.mousemove('motion_notify', mouse_event_fn);\n",
       "\n",
       "    rubberband.mouseenter('figure_enter', mouse_event_fn);\n",
       "    rubberband.mouseleave('figure_leave', mouse_event_fn);\n",
       "\n",
       "    canvas_div.on(\"wheel\", function (event) {\n",
       "        event = event.originalEvent;\n",
       "        event['data'] = 'scroll'\n",
       "        if (event.deltaY < 0) {\n",
       "            event.step = 1;\n",
       "        } else {\n",
       "            event.step = -1;\n",
       "        }\n",
       "        mouse_event_fn(event);\n",
       "    });\n",
       "\n",
       "    canvas_div.append(canvas);\n",
       "    canvas_div.append(rubberband);\n",
       "\n",
       "    this.rubberband = rubberband;\n",
       "    this.rubberband_canvas = rubberband[0];\n",
       "    this.rubberband_context = rubberband[0].getContext(\"2d\");\n",
       "    this.rubberband_context.strokeStyle = \"#000000\";\n",
       "\n",
       "    this._resize_canvas = function(width, height) {\n",
       "        // Keep the size of the canvas, canvas container, and rubber band\n",
       "        // canvas in synch.\n",
       "        canvas_div.css('width', width)\n",
       "        canvas_div.css('height', height)\n",
       "\n",
       "        canvas.attr('width', width * mpl.ratio);\n",
       "        canvas.attr('height', height * mpl.ratio);\n",
       "        canvas.attr('style', 'width: ' + width + 'px; height: ' + height + 'px;');\n",
       "\n",
       "        rubberband.attr('width', width);\n",
       "        rubberband.attr('height', height);\n",
       "    }\n",
       "\n",
       "    // Set the figure to an initial 600x600px, this will subsequently be updated\n",
       "    // upon first draw.\n",
       "    this._resize_canvas(600, 600);\n",
       "\n",
       "    // Disable right mouse context menu.\n",
       "    $(this.rubberband_canvas).bind(\"contextmenu\",function(e){\n",
       "        return false;\n",
       "    });\n",
       "\n",
       "    function set_focus () {\n",
       "        canvas.focus();\n",
       "        canvas_div.focus();\n",
       "    }\n",
       "\n",
       "    window.setTimeout(set_focus, 100);\n",
       "}\n",
       "\n",
       "mpl.figure.prototype._init_toolbar = function() {\n",
       "    var fig = this;\n",
       "\n",
       "    var nav_element = $('<div/>')\n",
       "    nav_element.attr('style', 'width: 100%');\n",
       "    this.root.append(nav_element);\n",
       "\n",
       "    // Define a callback function for later on.\n",
       "    function toolbar_event(event) {\n",
       "        return fig.toolbar_button_onclick(event['data']);\n",
       "    }\n",
       "    function toolbar_mouse_event(event) {\n",
       "        return fig.toolbar_button_onmouseover(event['data']);\n",
       "    }\n",
       "\n",
       "    for(var toolbar_ind in mpl.toolbar_items) {\n",
       "        var name = mpl.toolbar_items[toolbar_ind][0];\n",
       "        var tooltip = mpl.toolbar_items[toolbar_ind][1];\n",
       "        var image = mpl.toolbar_items[toolbar_ind][2];\n",
       "        var method_name = mpl.toolbar_items[toolbar_ind][3];\n",
       "\n",
       "        if (!name) {\n",
       "            // put a spacer in here.\n",
       "            continue;\n",
       "        }\n",
       "        var button = $('<button/>');\n",
       "        button.addClass('ui-button ui-widget ui-state-default ui-corner-all ' +\n",
       "                        'ui-button-icon-only');\n",
       "        button.attr('role', 'button');\n",
       "        button.attr('aria-disabled', 'false');\n",
       "        button.click(method_name, toolbar_event);\n",
       "        button.mouseover(tooltip, toolbar_mouse_event);\n",
       "\n",
       "        var icon_img = $('<span/>');\n",
       "        icon_img.addClass('ui-button-icon-primary ui-icon');\n",
       "        icon_img.addClass(image);\n",
       "        icon_img.addClass('ui-corner-all');\n",
       "\n",
       "        var tooltip_span = $('<span/>');\n",
       "        tooltip_span.addClass('ui-button-text');\n",
       "        tooltip_span.html(tooltip);\n",
       "\n",
       "        button.append(icon_img);\n",
       "        button.append(tooltip_span);\n",
       "\n",
       "        nav_element.append(button);\n",
       "    }\n",
       "\n",
       "    var fmt_picker_span = $('<span/>');\n",
       "\n",
       "    var fmt_picker = $('<select/>');\n",
       "    fmt_picker.addClass('mpl-toolbar-option ui-widget ui-widget-content');\n",
       "    fmt_picker_span.append(fmt_picker);\n",
       "    nav_element.append(fmt_picker_span);\n",
       "    this.format_dropdown = fmt_picker[0];\n",
       "\n",
       "    for (var ind in mpl.extensions) {\n",
       "        var fmt = mpl.extensions[ind];\n",
       "        var option = $(\n",
       "            '<option/>', {selected: fmt === mpl.default_extension}).html(fmt);\n",
       "        fmt_picker.append(option)\n",
       "    }\n",
       "\n",
       "    // Add hover states to the ui-buttons\n",
       "    $( \".ui-button\" ).hover(\n",
       "        function() { $(this).addClass(\"ui-state-hover\");},\n",
       "        function() { $(this).removeClass(\"ui-state-hover\");}\n",
       "    );\n",
       "\n",
       "    var status_bar = $('<span class=\"mpl-message\"/>');\n",
       "    nav_element.append(status_bar);\n",
       "    this.message = status_bar[0];\n",
       "}\n",
       "\n",
       "mpl.figure.prototype.request_resize = function(x_pixels, y_pixels) {\n",
       "    // Request matplotlib to resize the figure. Matplotlib will then trigger a resize in the client,\n",
       "    // which will in turn request a refresh of the image.\n",
       "    this.send_message('resize', {'width': x_pixels, 'height': y_pixels});\n",
       "}\n",
       "\n",
       "mpl.figure.prototype.send_message = function(type, properties) {\n",
       "    properties['type'] = type;\n",
       "    properties['figure_id'] = this.id;\n",
       "    this.ws.send(JSON.stringify(properties));\n",
       "}\n",
       "\n",
       "mpl.figure.prototype.send_draw_message = function() {\n",
       "    if (!this.waiting) {\n",
       "        this.waiting = true;\n",
       "        this.ws.send(JSON.stringify({type: \"draw\", figure_id: this.id}));\n",
       "    }\n",
       "}\n",
       "\n",
       "\n",
       "mpl.figure.prototype.handle_save = function(fig, msg) {\n",
       "    var format_dropdown = fig.format_dropdown;\n",
       "    var format = format_dropdown.options[format_dropdown.selectedIndex].value;\n",
       "    fig.ondownload(fig, format);\n",
       "}\n",
       "\n",
       "\n",
       "mpl.figure.prototype.handle_resize = function(fig, msg) {\n",
       "    var size = msg['size'];\n",
       "    if (size[0] != fig.canvas.width || size[1] != fig.canvas.height) {\n",
       "        fig._resize_canvas(size[0], size[1]);\n",
       "        fig.send_message(\"refresh\", {});\n",
       "    };\n",
       "}\n",
       "\n",
       "mpl.figure.prototype.handle_rubberband = function(fig, msg) {\n",
       "    var x0 = msg['x0'] / mpl.ratio;\n",
       "    var y0 = (fig.canvas.height - msg['y0']) / mpl.ratio;\n",
       "    var x1 = msg['x1'] / mpl.ratio;\n",
       "    var y1 = (fig.canvas.height - msg['y1']) / mpl.ratio;\n",
       "    x0 = Math.floor(x0) + 0.5;\n",
       "    y0 = Math.floor(y0) + 0.5;\n",
       "    x1 = Math.floor(x1) + 0.5;\n",
       "    y1 = Math.floor(y1) + 0.5;\n",
       "    var min_x = Math.min(x0, x1);\n",
       "    var min_y = Math.min(y0, y1);\n",
       "    var width = Math.abs(x1 - x0);\n",
       "    var height = Math.abs(y1 - y0);\n",
       "\n",
       "    fig.rubberband_context.clearRect(\n",
       "        0, 0, fig.canvas.width, fig.canvas.height);\n",
       "\n",
       "    fig.rubberband_context.strokeRect(min_x, min_y, width, height);\n",
       "}\n",
       "\n",
       "mpl.figure.prototype.handle_figure_label = function(fig, msg) {\n",
       "    // Updates the figure title.\n",
       "    fig.header.textContent = msg['label'];\n",
       "}\n",
       "\n",
       "mpl.figure.prototype.handle_cursor = function(fig, msg) {\n",
       "    var cursor = msg['cursor'];\n",
       "    switch(cursor)\n",
       "    {\n",
       "    case 0:\n",
       "        cursor = 'pointer';\n",
       "        break;\n",
       "    case 1:\n",
       "        cursor = 'default';\n",
       "        break;\n",
       "    case 2:\n",
       "        cursor = 'crosshair';\n",
       "        break;\n",
       "    case 3:\n",
       "        cursor = 'move';\n",
       "        break;\n",
       "    }\n",
       "    fig.rubberband_canvas.style.cursor = cursor;\n",
       "}\n",
       "\n",
       "mpl.figure.prototype.handle_message = function(fig, msg) {\n",
       "    fig.message.textContent = msg['message'];\n",
       "}\n",
       "\n",
       "mpl.figure.prototype.handle_draw = function(fig, msg) {\n",
       "    // Request the server to send over a new figure.\n",
       "    fig.send_draw_message();\n",
       "}\n",
       "\n",
       "mpl.figure.prototype.handle_image_mode = function(fig, msg) {\n",
       "    fig.image_mode = msg['mode'];\n",
       "}\n",
       "\n",
       "mpl.figure.prototype.updated_canvas_event = function() {\n",
       "    // Called whenever the canvas gets updated.\n",
       "    this.send_message(\"ack\", {});\n",
       "}\n",
       "\n",
       "// A function to construct a web socket function for onmessage handling.\n",
       "// Called in the figure constructor.\n",
       "mpl.figure.prototype._make_on_message_function = function(fig) {\n",
       "    return function socket_on_message(evt) {\n",
       "        if (evt.data instanceof Blob) {\n",
       "            /* FIXME: We get \"Resource interpreted as Image but\n",
       "             * transferred with MIME type text/plain:\" errors on\n",
       "             * Chrome.  But how to set the MIME type?  It doesn't seem\n",
       "             * to be part of the websocket stream */\n",
       "            evt.data.type = \"image/png\";\n",
       "\n",
       "            /* Free the memory for the previous frames */\n",
       "            if (fig.imageObj.src) {\n",
       "                (window.URL || window.webkitURL).revokeObjectURL(\n",
       "                    fig.imageObj.src);\n",
       "            }\n",
       "\n",
       "            fig.imageObj.src = (window.URL || window.webkitURL).createObjectURL(\n",
       "                evt.data);\n",
       "            fig.updated_canvas_event();\n",
       "            fig.waiting = false;\n",
       "            return;\n",
       "        }\n",
       "        else if (typeof evt.data === 'string' && evt.data.slice(0, 21) == \"data:image/png;base64\") {\n",
       "            fig.imageObj.src = evt.data;\n",
       "            fig.updated_canvas_event();\n",
       "            fig.waiting = false;\n",
       "            return;\n",
       "        }\n",
       "\n",
       "        var msg = JSON.parse(evt.data);\n",
       "        var msg_type = msg['type'];\n",
       "\n",
       "        // Call the  \"handle_{type}\" callback, which takes\n",
       "        // the figure and JSON message as its only arguments.\n",
       "        try {\n",
       "            var callback = fig[\"handle_\" + msg_type];\n",
       "        } catch (e) {\n",
       "            console.log(\"No handler for the '\" + msg_type + \"' message type: \", msg);\n",
       "            return;\n",
       "        }\n",
       "\n",
       "        if (callback) {\n",
       "            try {\n",
       "                // console.log(\"Handling '\" + msg_type + \"' message: \", msg);\n",
       "                callback(fig, msg);\n",
       "            } catch (e) {\n",
       "                console.log(\"Exception inside the 'handler_\" + msg_type + \"' callback:\", e, e.stack, msg);\n",
       "            }\n",
       "        }\n",
       "    };\n",
       "}\n",
       "\n",
       "// from http://stackoverflow.com/questions/1114465/getting-mouse-location-in-canvas\n",
       "mpl.findpos = function(e) {\n",
       "    //this section is from http://www.quirksmode.org/js/events_properties.html\n",
       "    var targ;\n",
       "    if (!e)\n",
       "        e = window.event;\n",
       "    if (e.target)\n",
       "        targ = e.target;\n",
       "    else if (e.srcElement)\n",
       "        targ = e.srcElement;\n",
       "    if (targ.nodeType == 3) // defeat Safari bug\n",
       "        targ = targ.parentNode;\n",
       "\n",
       "    // jQuery normalizes the pageX and pageY\n",
       "    // pageX,Y are the mouse positions relative to the document\n",
       "    // offset() returns the position of the element relative to the document\n",
       "    var x = e.pageX - $(targ).offset().left;\n",
       "    var y = e.pageY - $(targ).offset().top;\n",
       "\n",
       "    return {\"x\": x, \"y\": y};\n",
       "};\n",
       "\n",
       "/*\n",
       " * return a copy of an object with only non-object keys\n",
       " * we need this to avoid circular references\n",
       " * http://stackoverflow.com/a/24161582/3208463\n",
       " */\n",
       "function simpleKeys (original) {\n",
       "  return Object.keys(original).reduce(function (obj, key) {\n",
       "    if (typeof original[key] !== 'object')\n",
       "        obj[key] = original[key]\n",
       "    return obj;\n",
       "  }, {});\n",
       "}\n",
       "\n",
       "mpl.figure.prototype.mouse_event = function(event, name) {\n",
       "    var canvas_pos = mpl.findpos(event)\n",
       "\n",
       "    if (name === 'button_press')\n",
       "    {\n",
       "        this.canvas.focus();\n",
       "        this.canvas_div.focus();\n",
       "    }\n",
       "\n",
       "    var x = canvas_pos.x * mpl.ratio;\n",
       "    var y = canvas_pos.y * mpl.ratio;\n",
       "\n",
       "    this.send_message(name, {x: x, y: y, button: event.button,\n",
       "                             step: event.step,\n",
       "                             guiEvent: simpleKeys(event)});\n",
       "\n",
       "    /* This prevents the web browser from automatically changing to\n",
       "     * the text insertion cursor when the button is pressed.  We want\n",
       "     * to control all of the cursor setting manually through the\n",
       "     * 'cursor' event from matplotlib */\n",
       "    event.preventDefault();\n",
       "    return false;\n",
       "}\n",
       "\n",
       "mpl.figure.prototype._key_event_extra = function(event, name) {\n",
       "    // Handle any extra behaviour associated with a key event\n",
       "}\n",
       "\n",
       "mpl.figure.prototype.key_event = function(event, name) {\n",
       "\n",
       "    // Prevent repeat events\n",
       "    if (name == 'key_press')\n",
       "    {\n",
       "        if (event.which === this._key)\n",
       "            return;\n",
       "        else\n",
       "            this._key = event.which;\n",
       "    }\n",
       "    if (name == 'key_release')\n",
       "        this._key = null;\n",
       "\n",
       "    var value = '';\n",
       "    if (event.ctrlKey && event.which != 17)\n",
       "        value += \"ctrl+\";\n",
       "    if (event.altKey && event.which != 18)\n",
       "        value += \"alt+\";\n",
       "    if (event.shiftKey && event.which != 16)\n",
       "        value += \"shift+\";\n",
       "\n",
       "    value += 'k';\n",
       "    value += event.which.toString();\n",
       "\n",
       "    this._key_event_extra(event, name);\n",
       "\n",
       "    this.send_message(name, {key: value,\n",
       "                             guiEvent: simpleKeys(event)});\n",
       "    return false;\n",
       "}\n",
       "\n",
       "mpl.figure.prototype.toolbar_button_onclick = function(name) {\n",
       "    if (name == 'download') {\n",
       "        this.handle_save(this, null);\n",
       "    } else {\n",
       "        this.send_message(\"toolbar_button\", {name: name});\n",
       "    }\n",
       "};\n",
       "\n",
       "mpl.figure.prototype.toolbar_button_onmouseover = function(tooltip) {\n",
       "    this.message.textContent = tooltip;\n",
       "};\n",
       "mpl.toolbar_items = [[\"Home\", \"Reset original view\", \"fa fa-home icon-home\", \"home\"], [\"Back\", \"Back to  previous view\", \"fa fa-arrow-left icon-arrow-left\", \"back\"], [\"Forward\", \"Forward to next view\", \"fa fa-arrow-right icon-arrow-right\", \"forward\"], [\"\", \"\", \"\", \"\"], [\"Pan\", \"Pan axes with left mouse, zoom with right\", \"fa fa-arrows icon-move\", \"pan\"], [\"Zoom\", \"Zoom to rectangle\", \"fa fa-square-o icon-check-empty\", \"zoom\"], [\"\", \"\", \"\", \"\"], [\"Download\", \"Download plot\", \"fa fa-floppy-o icon-save\", \"download\"]];\n",
       "\n",
       "mpl.extensions = [\"eps\", \"jpeg\", \"pdf\", \"png\", \"ps\", \"raw\", \"svg\", \"tif\"];\n",
       "\n",
       "mpl.default_extension = \"png\";var comm_websocket_adapter = function(comm) {\n",
       "    // Create a \"websocket\"-like object which calls the given IPython comm\n",
       "    // object with the appropriate methods. Currently this is a non binary\n",
       "    // socket, so there is still some room for performance tuning.\n",
       "    var ws = {};\n",
       "\n",
       "    ws.close = function() {\n",
       "        comm.close()\n",
       "    };\n",
       "    ws.send = function(m) {\n",
       "        //console.log('sending', m);\n",
       "        comm.send(m);\n",
       "    };\n",
       "    // Register the callback with on_msg.\n",
       "    comm.on_msg(function(msg) {\n",
       "        //console.log('receiving', msg['content']['data'], msg);\n",
       "        // Pass the mpl event to the overriden (by mpl) onmessage function.\n",
       "        ws.onmessage(msg['content']['data'])\n",
       "    });\n",
       "    return ws;\n",
       "}\n",
       "\n",
       "mpl.mpl_figure_comm = function(comm, msg) {\n",
       "    // This is the function which gets called when the mpl process\n",
       "    // starts-up an IPython Comm through the \"matplotlib\" channel.\n",
       "\n",
       "    var id = msg.content.data.id;\n",
       "    // Get hold of the div created by the display call when the Comm\n",
       "    // socket was opened in Python.\n",
       "    var element = $(\"#\" + id);\n",
       "    var ws_proxy = comm_websocket_adapter(comm)\n",
       "\n",
       "    function ondownload(figure, format) {\n",
       "        window.open(figure.imageObj.src);\n",
       "    }\n",
       "\n",
       "    var fig = new mpl.figure(id, ws_proxy,\n",
       "                           ondownload,\n",
       "                           element.get(0));\n",
       "\n",
       "    // Call onopen now - mpl needs it, as it is assuming we've passed it a real\n",
       "    // web socket which is closed, not our websocket->open comm proxy.\n",
       "    ws_proxy.onopen();\n",
       "\n",
       "    fig.parent_element = element.get(0);\n",
       "    fig.cell_info = mpl.find_output_cell(\"<div id='\" + id + \"'></div>\");\n",
       "    if (!fig.cell_info) {\n",
       "        console.error(\"Failed to find cell for figure\", id, fig);\n",
       "        return;\n",
       "    }\n",
       "\n",
       "    var output_index = fig.cell_info[2]\n",
       "    var cell = fig.cell_info[0];\n",
       "\n",
       "};\n",
       "\n",
       "mpl.figure.prototype.handle_close = function(fig, msg) {\n",
       "    var width = fig.canvas.width/mpl.ratio\n",
       "    fig.root.unbind('remove')\n",
       "\n",
       "    // Update the output cell to use the data from the current canvas.\n",
       "    fig.push_to_output();\n",
       "    var dataURL = fig.canvas.toDataURL();\n",
       "    // Re-enable the keyboard manager in IPython - without this line, in FF,\n",
       "    // the notebook keyboard shortcuts fail.\n",
       "    IPython.keyboard_manager.enable()\n",
       "    $(fig.parent_element).html('<img src=\"' + dataURL + '\" width=\"' + width + '\">');\n",
       "    fig.close_ws(fig, msg);\n",
       "}\n",
       "\n",
       "mpl.figure.prototype.close_ws = function(fig, msg){\n",
       "    fig.send_message('closing', msg);\n",
       "    // fig.ws.close()\n",
       "}\n",
       "\n",
       "mpl.figure.prototype.push_to_output = function(remove_interactive) {\n",
       "    // Turn the data on the canvas into data in the output cell.\n",
       "    var width = this.canvas.width/mpl.ratio\n",
       "    var dataURL = this.canvas.toDataURL();\n",
       "    this.cell_info[1]['text/html'] = '<img src=\"' + dataURL + '\" width=\"' + width + '\">';\n",
       "}\n",
       "\n",
       "mpl.figure.prototype.updated_canvas_event = function() {\n",
       "    // Tell IPython that the notebook contents must change.\n",
       "    IPython.notebook.set_dirty(true);\n",
       "    this.send_message(\"ack\", {});\n",
       "    var fig = this;\n",
       "    // Wait a second, then push the new image to the DOM so\n",
       "    // that it is saved nicely (might be nice to debounce this).\n",
       "    setTimeout(function () { fig.push_to_output() }, 1000);\n",
       "}\n",
       "\n",
       "mpl.figure.prototype._init_toolbar = function() {\n",
       "    var fig = this;\n",
       "\n",
       "    var nav_element = $('<div/>')\n",
       "    nav_element.attr('style', 'width: 100%');\n",
       "    this.root.append(nav_element);\n",
       "\n",
       "    // Define a callback function for later on.\n",
       "    function toolbar_event(event) {\n",
       "        return fig.toolbar_button_onclick(event['data']);\n",
       "    }\n",
       "    function toolbar_mouse_event(event) {\n",
       "        return fig.toolbar_button_onmouseover(event['data']);\n",
       "    }\n",
       "\n",
       "    for(var toolbar_ind in mpl.toolbar_items){\n",
       "        var name = mpl.toolbar_items[toolbar_ind][0];\n",
       "        var tooltip = mpl.toolbar_items[toolbar_ind][1];\n",
       "        var image = mpl.toolbar_items[toolbar_ind][2];\n",
       "        var method_name = mpl.toolbar_items[toolbar_ind][3];\n",
       "\n",
       "        if (!name) { continue; };\n",
       "\n",
       "        var button = $('<button class=\"btn btn-default\" href=\"#\" title=\"' + name + '\"><i class=\"fa ' + image + ' fa-lg\"></i></button>');\n",
       "        button.click(method_name, toolbar_event);\n",
       "        button.mouseover(tooltip, toolbar_mouse_event);\n",
       "        nav_element.append(button);\n",
       "    }\n",
       "\n",
       "    // Add the status bar.\n",
       "    var status_bar = $('<span class=\"mpl-message\" style=\"text-align:right; float: right;\"/>');\n",
       "    nav_element.append(status_bar);\n",
       "    this.message = status_bar[0];\n",
       "\n",
       "    // Add the close button to the window.\n",
       "    var buttongrp = $('<div class=\"btn-group inline pull-right\"></div>');\n",
       "    var button = $('<button class=\"btn btn-mini btn-primary\" href=\"#\" title=\"Stop Interaction\"><i class=\"fa fa-power-off icon-remove icon-large\"></i></button>');\n",
       "    button.click(function (evt) { fig.handle_close(fig, {}); } );\n",
       "    button.mouseover('Stop Interaction', toolbar_mouse_event);\n",
       "    buttongrp.append(button);\n",
       "    var titlebar = this.root.find($('.ui-dialog-titlebar'));\n",
       "    titlebar.prepend(buttongrp);\n",
       "}\n",
       "\n",
       "mpl.figure.prototype._root_extra_style = function(el){\n",
       "    var fig = this\n",
       "    el.on(\"remove\", function(){\n",
       "\tfig.close_ws(fig, {});\n",
       "    });\n",
       "}\n",
       "\n",
       "mpl.figure.prototype._canvas_extra_style = function(el){\n",
       "    // this is important to make the div 'focusable\n",
       "    el.attr('tabindex', 0)\n",
       "    // reach out to IPython and tell the keyboard manager to turn it's self\n",
       "    // off when our div gets focus\n",
       "\n",
       "    // location in version 3\n",
       "    if (IPython.notebook.keyboard_manager) {\n",
       "        IPython.notebook.keyboard_manager.register_events(el);\n",
       "    }\n",
       "    else {\n",
       "        // location in version 2\n",
       "        IPython.keyboard_manager.register_events(el);\n",
       "    }\n",
       "\n",
       "}\n",
       "\n",
       "mpl.figure.prototype._key_event_extra = function(event, name) {\n",
       "    var manager = IPython.notebook.keyboard_manager;\n",
       "    if (!manager)\n",
       "        manager = IPython.keyboard_manager;\n",
       "\n",
       "    // Check for shift+enter\n",
       "    if (event.shiftKey && event.which == 13) {\n",
       "        this.canvas_div.blur();\n",
       "        // select the cell after this one\n",
       "        var index = IPython.notebook.find_cell_index(this.cell_info[0]);\n",
       "        IPython.notebook.select(index + 1);\n",
       "    }\n",
       "}\n",
       "\n",
       "mpl.figure.prototype.handle_save = function(fig, msg) {\n",
       "    fig.ondownload(fig, null);\n",
       "}\n",
       "\n",
       "\n",
       "mpl.find_output_cell = function(html_output) {\n",
       "    // Return the cell and output element which can be found *uniquely* in the notebook.\n",
       "    // Note - this is a bit hacky, but it is done because the \"notebook_saving.Notebook\"\n",
       "    // IPython event is triggered only after the cells have been serialised, which for\n",
       "    // our purposes (turning an active figure into a static one), is too late.\n",
       "    var cells = IPython.notebook.get_cells();\n",
       "    var ncells = cells.length;\n",
       "    for (var i=0; i<ncells; i++) {\n",
       "        var cell = cells[i];\n",
       "        if (cell.cell_type === 'code'){\n",
       "            for (var j=0; j<cell.output_area.outputs.length; j++) {\n",
       "                var data = cell.output_area.outputs[j];\n",
       "                if (data.data) {\n",
       "                    // IPython >= 3 moved mimebundle to data attribute of output\n",
       "                    data = data.data;\n",
       "                }\n",
       "                if (data['text/html'] == html_output) {\n",
       "                    return [cell, data, j];\n",
       "                }\n",
       "            }\n",
       "        }\n",
       "    }\n",
       "}\n",
       "\n",
       "// Register the function which deals with the matplotlib target/channel.\n",
       "// The kernel may be null if the page has been refreshed.\n",
       "if (IPython.notebook.kernel != null) {\n",
       "    IPython.notebook.kernel.comm_manager.register_target('matplotlib', mpl.mpl_figure_comm);\n",
       "}\n"
      ],
      "text/plain": [
       "<IPython.core.display.Javascript object>"
      ]
     },
     "metadata": {},
     "output_type": "display_data"
    },
    {
     "data": {
      "text/html": [
       "<img src=\"data:image/png;base64,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\" width=\"640\">"
      ],
      "text/plain": [
       "<IPython.core.display.HTML object>"
      ]
     },
     "metadata": {},
     "output_type": "display_data"
    },
    {
     "data": {
      "text/plain": [
       "<matplotlib.text.Text at 0x10dc55208>"
      ]
     },
     "execution_count": 6,
     "metadata": {},
     "output_type": "execute_result"
    }
   ],
   "source": [
    "#Warning: Do not plot if N>1000 !\n",
    "fig = plt.figure()\n",
    "ax = fig.add_subplot(111, projection='3d')\n",
    "ax.scatter(X[0:N,0],X[0:N,1],Y[0:N])\n",
    "ax.set_xlabel('X1')\n",
    "ax.set_ylabel('X2')\n",
    "ax.set_zlabel('Y')\n"
   ]
  },
  {
   "cell_type": "code",
   "execution_count": 8,
   "metadata": {},
   "outputs": [
    {
     "data": {
      "text/plain": [
       "array([ 0.31179588,  0.69634349])"
      ]
     },
     "execution_count": 8,
     "metadata": {},
     "output_type": "execute_result"
    }
   ],
   "source": [
    "#Check theta values\n",
    "theta"
   ]
  },
  {
   "cell_type": "markdown",
   "metadata": {},
   "source": [
    "# 2) Ordinary Least Squares\n",
    "\n",
    "Let us first solve the linear regression using standard approaches:\n",
    "\n",
    "* Using Python sklearn and the sklearn.linear_model function\n",
    "* Using the least mean square equation with numpy"
   ]
  },
  {
   "cell_type": "markdown",
   "metadata": {},
   "source": [
    "## 2.1) Centralised approach"
   ]
  },
  {
   "cell_type": "markdown",
   "metadata": {},
   "source": [
    "### 2.1.1) Parameter identification using sklearn\n",
    "\n",
    "Let us compute the model coefficients with the [sklearn.linear_model](http://scikit-learn.org/stable/modules/generated/sklearn.linear_model.LinearRegression.html) function"
   ]
  },
  {
   "cell_type": "code",
   "execution_count": 9,
   "metadata": {},
   "outputs": [
    {
     "name": "stdout",
     "output_type": "stream",
     "text": [
      "Regression coefficient found with sklearn: [[ 0.31179588  0.69634349]]\n",
      "Time to fit linear model with sklearn:  0.0202 seconds\n"
     ]
    }
   ],
   "source": [
    "from sklearn import linear_model\n",
    "\n",
    "start = time.time()\n",
    "\n",
    "model = linear_model.LinearRegression(fit_intercept=False)\n",
    "model.fit(X,Y)\n",
    "\n",
    "end = time.time()\n",
    "\n",
    "print(\"Regression coefficient found with sklearn:\",model.coef_)\n",
    "print(\"Time to fit linear model with sklearn: \",round(end - start,4),\"seconds\")\n"
   ]
  },
  {
   "cell_type": "code",
   "execution_count": 10,
   "metadata": {
    "solution": "hidden"
   },
   "outputs": [
    {
     "data": {
      "text/plain": [
       "array([ 0.31179588,  0.69634349])"
      ]
     },
     "execution_count": 10,
     "metadata": {},
     "output_type": "execute_result"
    }
   ],
   "source": [
    "theta"
   ]
  },
  {
   "cell_type": "markdown",
   "metadata": {},
   "source": [
    "### 2.1.2) Parameter identification using numpy\n",
    "\n",
    "Let us compute the model coefficients using the OLS solution, with numpy [`dot`](https://docs.scipy.org/doc/numpy/reference/generated/numpy.dot.html), [`transpose`](https://docs.scipy.org/doc/numpy/reference/generated/numpy.transpose.html), and [`linalg.inv`](https://docs.scipy.org/doc/numpy/reference/generated/numpy.linalg.inv.html) functions.   "
   ]
  },
  {
   "cell_type": "markdown",
   "metadata": {},
   "source": [
    "**Exercise:**\n",
    "\n",
    "* Compute $X^TX$ using the numpy `dot` function, and store result in a variable XtX\n",
    "* Compute $X^TY$ using the numpy `dot` function, and store result in a variable XtY\n",
    "* Compute the inverse of $X^TX$ using the numpy `linalg.inv` function, and store result in a variable XtX_inverse\n",
    "* Compute coefficient $\\hat{\\theta}=(X^T X)^{-1} (X^T Y)$ using the numpy `dot` function and store the result in a variable theta_hat\n",
    "* Check that theta_hat is the same as the result found with `sklearn.linear_model`"
   ]
  },
  {
   "cell_type": "code",
   "execution_count": null,
   "metadata": {},
   "outputs": [],
   "source": [
    "## Your solution\n",
    "## ..."
   ]
  },
  {
   "cell_type": "markdown",
   "metadata": {},
   "source": [
    "## 2.2) Map/Reduce approach for OLS\n",
    "\n",
    "Summary of the approach:\n",
    "\n",
    "* $X^T X$ and $X^T Y$ are computed in a distributed way.\n",
    "* $X^T X$ and $X^T Y$ have size $n \\times n$ and $n$, with $n$ small. $(X^T X)^{-1} (X^T Y)$ can be computed locally (no need to distribute the computation of the matrix inverse).\n",
    "\n",
    "#### Distribution of the computation of $X^T X$ and $X^T Y$\n",
    "\n",
    "* Let $Z=[X|Y]$ be the $X$ matrix augmented with $Y$ as the last column.\n",
    "* Let $Z$ be partitioned into $B$ row blocks $Z_k$ of size $N_B \\times (n+1)$\n",
    "\n",
    "$$Z = \\left[\\begin{array}\n",
    "{r}\n",
    "Z_1  \\\\\n",
    "Z_2  \\\\\n",
    "...\\\\\n",
    "Z_B\n",
    "\\end{array}\\right]\n",
    "$$\n"
   ]
  },
  {
   "cell_type": "markdown",
   "metadata": {},
   "source": [
    "**The distributed implementation will consist in computing $X^TX$ and $X^TY$ in parallel using the block $Z_k$**.\n",
    "\n",
    "* **Stage 1**: Partitioning. Partition $Z$ in $B$ blocks $Z_k$, $1 \\le k \\le B$. This can be done when calling the `parallelize` function to create the Spark Resilient Distributed Dataset (RDDs). \n",
    "* **Stage 2**: Computation of partial $X^TX$ with mapping. For each row of the partition $Z_k$, return xtx$= x_k^T x_k$ (size $n \\times n$).\n",
    "* **Stage 3**: Reduce. Sum all xtx.\n",
    "* **Stage 4**: Computation of partial $X^TY$ with mapping. For each row of the partition $Z_k$, return xty$= x_k^T y_k$ (size $n \\times 1$).\n",
    "* **Stage 5**: Reduce. Sum all xty.\n",
    "* **Stage 6**: Collect. Collect the reduced XtX and XtY, and compute $\\hat{\\theta}^T = (X^T X)^{-1} (X^T Y)$.\n",
    "\n"
   ]
  },
  {
   "cell_type": "markdown",
   "metadata": {},
   "source": [
    "### Start Spark session"
   ]
  },
  {
   "cell_type": "code",
   "execution_count": null,
   "metadata": {
    "collapsed": true
   },
   "outputs": [],
   "source": [
    "os.environ['PYSPARK_SUBMIT_ARGS'] =\"--conf spark.driver.memory=2g  pyspark-shell\"\n",
    "\n",
    "from pyspark.sql import SparkSession\n",
    "\n",
    "#Start Spark session with local master and 2 cores\n",
    "spark = SparkSession \\\n",
    "    .builder \\\n",
    "    .master(\"local[2]\") \\\n",
    "    .appName(\"LinearRegression\") \\\n",
    "    .getOrCreate()\n",
    "\n",
    "#When dealing with RDDs, we work the sparkContext object. See https://spark.apache.org/docs/latest/api/python/pyspark.html#pyspark.SparkContext\n",
    "sc=spark.sparkContext"
   ]
  },
  {
   "cell_type": "markdown",
   "metadata": {},
   "source": [
    "### Create RDD with B partitions"
   ]
  },
  {
   "cell_type": "code",
   "execution_count": null,
   "metadata": {
    "collapsed": true
   },
   "outputs": [],
   "source": [
    "#Let us use 2 partitions\n",
    "B=2\n",
    "Z_RDD=sc.parallelize(Z,B).cache()"
   ]
  },
  {
   "cell_type": "code",
   "execution_count": null,
   "metadata": {},
   "outputs": [],
   "source": [
    "Z_RDD.count()"
   ]
  },
  {
   "cell_type": "markdown",
   "metadata": {},
   "source": [
    "**Exercise**\n",
    "\n",
    "* Open the Spark UI (yourIP:4040), check the DAG visualisation and event timeline\n",
    "* Change the number to B=5 partitions et reparallelize Z. What change do you expect in the event timeline?"
   ]
  },
  {
   "cell_type": "markdown",
   "metadata": {},
   "source": [
    "### 2.2.1) Approach 1: map function\n",
    "\n",
    "The standard approach for Map/Reduce consists in applying a map function to each row of an RDD using the `map` operator, and reduce the results using the `reduce` operator. Below is an example of the Map/Reduce implementation for computing XtX."
   ]
  },
  {
   "cell_type": "code",
   "execution_count": null,
   "metadata": {
    "collapsed": true
   },
   "outputs": [],
   "source": [
    "def xtx_row(z):\n",
    "    #x is all columns except the last one (y)\n",
    "    x=z[:-1]\n",
    "    xtx=np.outer(x,x)\n",
    "    return xtx\n",
    "\n",
    "XtX=Z_RDD.map(xtx_row).reduce(lambda x,y:(x+y))\n"
   ]
  },
  {
   "cell_type": "markdown",
   "metadata": {},
   "source": [
    "**Exercise:**\n",
    "    \n",
    "* What is the shape (number of rows/columns) of the resulting RDD?\n",
    "* Check the DAG, event timeline, and number of records/partitions in the Spark UI"
   ]
  },
  {
   "cell_type": "code",
   "execution_count": null,
   "metadata": {},
   "outputs": [],
   "source": [
    "XtX.shape"
   ]
  },
  {
   "cell_type": "markdown",
   "metadata": {},
   "source": [
    "**Exercise:**\n",
    "\n",
    "* Apply the same approach as xtx_row for computing XtY. Call that function xty_row\n",
    "* Compute the coefficients $\\hat{\\theta}=(X^T X)^{-1} (X^T Y)$ using the numpy `dot` and `linalg.inv` functions and store the result in a variable theta_hat\n",
    "* Check that theta_hat is the same as the result found with `sklearn.linear_model` (no map/reduce needed here) "
   ]
  },
  {
   "cell_type": "code",
   "execution_count": null,
   "metadata": {},
   "outputs": [],
   "source": [
    "## Your solution\n",
    "## ..."
   ]
  },
  {
   "cell_type": "markdown",
   "metadata": {},
   "source": [
    "### 2.2.2) Approach 2 : map function with combined computation of xtx and xty\n",
    "\n",
    "Instead of using to separate map/reduce for computing XtX and XtY, both can be computed in a single map/reduce (since x and y are in z)."
   ]
  },
  {
   "cell_type": "markdown",
   "metadata": {},
   "source": [
    "**Exercise:**\n",
    "\n",
    "* Modify the xtx_row function in a xtx_xty_row function so that xtx and xty are computed in a single map. The output should be a tuple (xtx,xty)\n",
    "* Modify the map/reduce pipeline so the xtx_xty_row is applied, and adapt the reduce part so both elements (xtx,xty) are summed"
   ]
  },
  {
   "cell_type": "code",
   "execution_count": null,
   "metadata": {
    "collapsed": true
   },
   "outputs": [],
   "source": [
    "def xtx_xty_row(z):\n",
    "## Your solution\n",
    "## ..."
   ]
  },
  {
   "cell_type": "code",
   "execution_count": null,
   "metadata": {},
   "outputs": [],
   "source": [
    "start = time.time()\n",
    "\n",
    "(XtX,XtY)=Z_RDD.cache().map(xtx_xty_row)\\\n",
    ".reduce(lambda xtx_xty0,xtx_xty1:(xtx_xty0[0]+xtx_xty1[0],xtx_xty0[1]+xtx_xty1[1]))\n",
    "\n",
    "XtX_inverse=np.linalg.inv(XtX)\n",
    "\n",
    "theta_hat=np.dot(XtX_inverse,XtY)\n",
    "\n",
    "end = time.time()\n",
    "\n",
    "print(\"Size of X^T X :\",XtX.shape)\n",
    "print(\"Size of X^T Y :\",XtY.shape)\n",
    "print(\"Size of (X^T X)^-1 :\",XtX_inverse.shape)\n",
    "print(\"Size of \\hat{theta} :\",theta_hat.shape)\n",
    "\n",
    "print(\"Regression coefficient found with Spark map function, combined computation of xtx and xty:\",theta_hat)\n",
    "print(\"Time to fit linear model with Spark map function, combined computation of xtx and xty: \",round(end - start,2),\"seconds\")\n"
   ]
  },
  {
   "cell_type": "markdown",
   "metadata": {
    "collapsed": true
   },
   "source": [
    "# 3) Gradient Descent\n",
    "\n"
   ]
  },
  {
   "cell_type": "markdown",
   "metadata": {},
   "source": [
    "## 3.1) Centralised approach\n",
    "\n",
    "``` \n",
    "GD(X,Y,T,η)\n",
    "N<-nrow(X)\n",
    "theta_0 <- random initialization\n",
    "for t = 1 to T do\n",
    "    sum_gradient=0\n",
    "    for i = 1 to N\n",
    "        sum_gradient=sum_gradient − ηL'(x_i,y_i)\n",
    "    end_for\n",
    "    theta_t ← theta_(t−1)+sum_gradient/N \n",
    "end_for\n",
    "return theta_t \n",
    "``` \n",
    "L' is the derivative of L. For the squared loss, we have $L'(y_i, \\hat{y}_i)=(x_i \\theta^T-y_i)x_i$.\n",
    "\n",
    "Below is a function that implements this algorithm."
   ]
  },
  {
   "cell_type": "code",
   "execution_count": null,
   "metadata": {
    "collapsed": true
   },
   "outputs": [],
   "source": [
    "def GD(Z,T,eta,random_seed=0):\n",
    "    (N,n)=Z.shape\n",
    "    n=n-1\n",
    "\n",
    "    np.random.seed(random_seed)\n",
    "    theta_hat=np.random.rand(n)\n",
    "\n",
    "    for t in range(T):\n",
    "        sum_gradient=0\n",
    "        for i in range(N):\n",
    "            sum_gradient=sum_gradient+getGradient(Z[i,:],eta,theta_hat)\n",
    "        \n",
    "        theta_hat=theta_hat+sum_gradient/N\n",
    "    \n",
    "    return theta_hat"
   ]
  },
  {
   "cell_type": "markdown",
   "metadata": {},
   "source": [
    "**Exercise:**\n",
    "\n",
    "Implement a function getGradient, that takes as inputs z, eta and theta_hat, and returns the gradient at z using the derivative $L'(y_i, \\hat{y}_i)=(x_i \\theta^T-y_i)x_i$ "
   ]
  },
  {
   "cell_type": "code",
   "execution_count": null,
   "metadata": {
    "collapsed": true
   },
   "outputs": [],
   "source": [
    "def getGradient(z,eta,theta_hat):\n",
    "## Your solution\n",
    "## ..."
   ]
  },
  {
   "cell_type": "markdown",
   "metadata": {},
   "source": [
    "Run with T=50, and eta=1"
   ]
  },
  {
   "cell_type": "code",
   "execution_count": null,
   "metadata": {
    "collapsed": true
   },
   "outputs": [],
   "source": [
    "theta_hat=GD(Z,50,1)"
   ]
  },
  {
   "cell_type": "code",
   "execution_count": null,
   "metadata": {},
   "outputs": [],
   "source": [
    "theta_hat"
   ]
  },
  {
   "cell_type": "markdown",
   "metadata": {},
   "source": [
    "## 3.2) Map/Reduce approach\n",
    "\n",
    "Notice that getGradient can be applied row-wise to the Z array, and that all gradients can be summed using a reduce action."
   ]
  },
  {
   "cell_type": "markdown",
   "metadata": {},
   "source": [
    "**Exercise:**\n",
    "\n",
    "Write a function GD_MR equivalent to GD, that implements the gradient descent in a map/reduce way. Tip: Start from Z_RDD, map getGradient, reduce by summing the results."
   ]
  },
  {
   "cell_type": "code",
   "execution_count": null,
   "metadata": {
    "collapsed": true
   },
   "outputs": [],
   "source": [
    "def GD_MR(Z,T,eta,random_seed=0):\n",
    "    (N,n)=Z.shape\n",
    "    n=n-1\n",
    "\n",
    "    np.random.seed(random_seed)\n",
    "    theta_hat=np.random.rand(n)\n",
    "\n",
    "    for t in range(T):\n",
    "## Your solution\n",
    "## ...    \n",
    "    return theta_hat\n"
   ]
  },
  {
   "cell_type": "code",
   "execution_count": null,
   "metadata": {
    "collapsed": true
   },
   "outputs": [],
   "source": [
    "theta_hat=GD_MR(Z,50,1)"
   ]
  },
  {
   "cell_type": "code",
   "execution_count": null,
   "metadata": {},
   "outputs": [],
   "source": [
    "theta_hat"
   ]
  },
  {
   "cell_type": "markdown",
   "metadata": {},
   "source": [
    "Check in the Spark UI the resulting sequences of Spark jobs."
   ]
  },
  {
   "cell_type": "markdown",
   "metadata": {},
   "source": [
    "# 4) Linear regression with Spark ML\n",
    "\n",
    "The documentation for linear regression in Spark ML can be found at https://spark.apache.org/docs/latest/ml-classification-regression.html#linear-regression. \n",
    "\n",
    "It implements the OLS and gradient descent algorithms, which can be chosen by means of the `solver` parameter:\n",
    "* solver='normal' : Ordinary least squares\n",
    "* solver='l-bgfs': Gradient descent approach, using [the limited memory BGFS](https://en.wikipedia.org/wiki/Limited-memory_BFGS) optimisation algorihm (a more efficient version of the vanilla gradient descent we implement in section 3)\n",
    "* solver='auto': Default parameter. It lets Spark choose beteen normal and l-bgfs, depending on the number of input variables (normal if chosen if number of features<=4096). \n",
    "\n",
    "In order to use the LinearRegression interface, let us first format input data in a dataframe with `label` and `features` columns:\n"
   ]
  },
  {
   "cell_type": "code",
   "execution_count": null,
   "metadata": {},
   "outputs": [],
   "source": [
    "from pyspark.ml.linalg import Vectors\n",
    "\n",
    "Z_RDD_tmp = map(lambda z: (float(z[-1]), Vectors.dense(z[0:-1])), Z)\n",
    "Z_DF = spark.createDataFrame(Z_RDD_tmp,schema=[\"label\", \"features\"])\n",
    "\n",
    "Z_DF.show(5)"
   ]
  },
  {
   "cell_type": "code",
   "execution_count": null,
   "metadata": {},
   "outputs": [],
   "source": [
    "Z_DF.count()"
   ]
  },
  {
   "cell_type": "markdown",
   "metadata": {},
   "source": [
    "We can now fit the model. "
   ]
  },
  {
   "cell_type": "markdown",
   "metadata": {},
   "source": [
    "**Exercise:**\n",
    "\n",
    "* Fit the model with the normal and l-bgfs algorithms. \n",
    "* Check the Spark UI and compare the different stages\n"
   ]
  },
  {
   "cell_type": "code",
   "execution_count": null,
   "metadata": {},
   "outputs": [],
   "source": [
    "from pyspark.ml.regression import LinearRegression\n",
    "\n",
    "## Your solution\n",
    "## ...\n",
    "\n",
    "lrModel = #Your solution\n",
    "\n",
    "# Print the coefficients and intercept for linear regression\n",
    "print(\"Coefficients: %s\" % str(lrModel.coefficients))\n",
    "print(\"Intercept: %s\" % str(lrModel.intercept))\n",
    "\n",
    "# Summarize the model over the training set and print out some metrics\n",
    "trainingSummary = lrModel.summary\n",
    "print(\"numIterations: %d\" % trainingSummary.totalIterations)\n",
    "print(\"objectiveHistory: %s\" % str(trainingSummary.objectiveHistory))\n",
    "print(\"RMSE: %f\" % trainingSummary.rootMeanSquaredError)"
   ]
  },
  {
   "cell_type": "code",
   "execution_count": null,
   "metadata": {},
   "outputs": [],
   "source": [
    "theta"
   ]
  },
  {
   "cell_type": "markdown",
   "metadata": {
    "solution": "hidden"
   },
   "source": [
    "## Relevant links\n",
    "\n",
    "* For a more practical application, see https://github.com/spark-mooc/mooc-setup/blob/master/ML_lab3_linear_reg_student.ipynb where regression with Spark ML is used to predict the year of a movie.\n",
    "\n",
    "Research articles on distributed gradient descent:\n",
    "\n",
    "* Zinkevich, M., Weimer, M., Li, L., & Smola, A. J. (2010). Parallelized stochastic gradient descent. In Advances in neural information processing systems (pp. 2595-2603). http://martin.zinkevich.org/publications/nips2010.pdf\n",
    "* Chu, C. T., Kim, S. K., Lin, Y. A., Yu, Y., Bradski, G., Olukotun, K., & Ng, A. Y. (2007). Map-reduce for machine learning on multicore. In Advances in neural information processing systems (pp. 281-288). https://papers.nips.cc/paper/3150-map-reduce-for-machine-learning-on-multicore.pdf\n",
    "\n"
   ]
  },
  {
   "cell_type": "code",
   "execution_count": null,
   "metadata": {
    "collapsed": true,
    "solution": "hidden"
   },
   "outputs": [],
   "source": []
  }
 ],
 "metadata": {
  "kernelspec": {
   "display_name": "Python 3",
   "language": "python",
   "name": "python3"
  },
  "language_info": {
   "codemirror_mode": {
    "name": "ipython",
    "version": 3
   },
   "file_extension": ".py",
   "mimetype": "text/x-python",
   "name": "python",
   "nbconvert_exporter": "python",
   "pygments_lexer": "ipython3",
   "version": "3.8.3"
  }
 },
 "nbformat": 4,
 "nbformat_minor": 2
}
