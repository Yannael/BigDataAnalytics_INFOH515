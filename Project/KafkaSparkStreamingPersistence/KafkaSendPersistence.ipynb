{
 "cells": [
  {
   "cell_type": "markdown",
   "metadata": {},
   "source": [
    "## Sending data to a Kafka server\n",
    "\n",
    "This notebook uses the [Python client for the Apache Kafka distributed stream processing system](http://kafka-python.readthedocs.io/en/master/index.html) to send messages to a Kafka server. \n",
    "\n",
    "* Sensor data is available from https://uv.ulb.ac.be/pluginfile.php/923479/course/section/165902/data.conv.txt.gz\n",
    "* Sensor location is available from https://uv.ulb.ac.be/pluginfile.php/923479/course/section/165902/mote_locs.txt\n",
    "\n",
    "In this example, Kafka is used to send messages containing the temperature data of sensor 1, from the 28/02 to the 06/03.\n",
    "\n",
    "You need to have Kafka and Zookeeper servers running to execut this notebook. If you use the Docker course container, or work on the course cluster, these servers should already be running. Otherwise, you may start them on your machine with\n",
    "\n",
    "```\n",
    "nohup $KAFKA_PATH/bin/zookeeper-server-start.sh $KAFKA_PATH/config/zookeeper.properties  > $HOME/zookeeper.log 2>&1 &\n",
    "nohup $KAFKA_PATH/bin/kafka-server-start.sh $KAFKA_PATH/config/server.properties > $HOME/kafka.log 2>&1 &\n",
    "```\n",
    "\n",
    "where `KAFKA_PATH` points to the folder containing Kafka. See https://kafka.apache.org/quickstart for how to install Kafka on your machine. \n"
   ]
  },
  {
   "cell_type": "markdown",
   "metadata": {},
   "source": [
    "### General import"
   ]
  },
  {
   "cell_type": "code",
   "execution_count": 14,
   "metadata": {
    "collapsed": true
   },
   "outputs": [],
   "source": [
    "from kafka import KafkaProducer\n",
    "import time\n",
    "import numpy as np"
   ]
  },
  {
   "cell_type": "markdown",
   "metadata": {},
   "source": [
    "### Load measurements, sort by Date/Time, add relative number of seconds since beginning"
   ]
  },
  {
   "cell_type": "code",
   "execution_count": 15,
   "metadata": {
    "collapsed": true
   },
   "outputs": [],
   "source": [
    "import pandas as pd\n",
    "\n",
    "#Takes about one minute to load\n",
    "data=pd.read_csv(\"../data.conv.txt\",header=None,sep=\" \")\n",
    "data.columns=[\"Date\",\"Hour\",\"Sensor\",\"Value\",\"Voltage\"]\n",
    "data=data.sort_values(['Date','Hour']).reset_index(drop=True)"
   ]
  },
  {
   "cell_type": "code",
   "execution_count": 16,
   "metadata": {},
   "outputs": [
    {
     "data": {
      "text/html": [
       "<div>\n",
       "<style>\n",
       "    .dataframe thead tr:only-child th {\n",
       "        text-align: right;\n",
       "    }\n",
       "\n",
       "    .dataframe thead th {\n",
       "        text-align: left;\n",
       "    }\n",
       "\n",
       "    .dataframe tbody tr th {\n",
       "        vertical-align: top;\n",
       "    }\n",
       "</style>\n",
       "<table border=\"1\" class=\"dataframe\">\n",
       "  <thead>\n",
       "    <tr style=\"text-align: right;\">\n",
       "      <th></th>\n",
       "      <th>Date</th>\n",
       "      <th>Hour</th>\n",
       "      <th>Sensor</th>\n",
       "      <th>Value</th>\n",
       "      <th>Voltage</th>\n",
       "    </tr>\n",
       "  </thead>\n",
       "  <tbody>\n",
       "    <tr>\n",
       "      <th>0</th>\n",
       "      <td>2017-02-28</td>\n",
       "      <td>00:00:00.264</td>\n",
       "      <td>41-0</td>\n",
       "      <td>17.6364</td>\n",
       "      <td>2.65796</td>\n",
       "    </tr>\n",
       "    <tr>\n",
       "      <th>1</th>\n",
       "      <td>2017-02-28</td>\n",
       "      <td>00:00:00.271</td>\n",
       "      <td>44-0</td>\n",
       "      <td>16.6956</td>\n",
       "      <td>2.66964</td>\n",
       "    </tr>\n",
       "    <tr>\n",
       "      <th>2</th>\n",
       "      <td>2017-02-28</td>\n",
       "      <td>00:00:00.356</td>\n",
       "      <td>41-1</td>\n",
       "      <td>45.7037</td>\n",
       "      <td>2.64796</td>\n",
       "    </tr>\n",
       "    <tr>\n",
       "      <th>3</th>\n",
       "      <td>2017-02-28</td>\n",
       "      <td>00:00:00.501</td>\n",
       "      <td>44-2</td>\n",
       "      <td>2.3000</td>\n",
       "      <td>2.71964</td>\n",
       "    </tr>\n",
       "  </tbody>\n",
       "</table>\n",
       "</div>"
      ],
      "text/plain": [
       "         Date          Hour Sensor    Value  Voltage\n",
       "0  2017-02-28  00:00:00.264   41-0  17.6364  2.65796\n",
       "1  2017-02-28  00:00:00.271   44-0  16.6956  2.66964\n",
       "2  2017-02-28  00:00:00.356   41-1  45.7037  2.64796\n",
       "3  2017-02-28  00:00:00.501   44-2   2.3000  2.71964"
      ]
     },
     "execution_count": 16,
     "metadata": {},
     "output_type": "execute_result"
    }
   ],
   "source": [
    "data[0:4]"
   ]
  },
  {
   "cell_type": "code",
   "execution_count": 17,
   "metadata": {
    "collapsed": true
   },
   "outputs": [],
   "source": [
    "data['datetime']=pd.to_datetime(data.Date+' '+data.Hour)\n",
    "data['relative_datetime']=data['datetime']-data['datetime'][0]\n",
    "data['seconds']=data['relative_datetime'].dt.total_seconds()"
   ]
  },
  {
   "cell_type": "code",
   "execution_count": 18,
   "metadata": {
    "collapsed": true
   },
   "outputs": [],
   "source": [
    "sensorId_type=data.Sensor.str.split(\"-\",expand=True)\n",
    "sensorId_type.columns=['SensorId','Type']\n",
    "data['SensorId']=sensorId_type['SensorId'].astype(int)\n",
    "data['Type']=sensorId_type['Type'].astype(int)\n"
   ]
  },
  {
   "cell_type": "code",
   "execution_count": 19,
   "metadata": {
    "collapsed": true
   },
   "outputs": [],
   "source": [
    "#Drop features not needed for the simulation\n",
    "data=data.drop(['datetime','relative_datetime','Sensor','Date','Hour','Voltage'],axis=1)"
   ]
  },
  {
   "cell_type": "code",
   "execution_count": 20,
   "metadata": {},
   "outputs": [
    {
     "data": {
      "text/html": [
       "<div>\n",
       "<style>\n",
       "    .dataframe thead tr:only-child th {\n",
       "        text-align: right;\n",
       "    }\n",
       "\n",
       "    .dataframe thead th {\n",
       "        text-align: left;\n",
       "    }\n",
       "\n",
       "    .dataframe tbody tr th {\n",
       "        vertical-align: top;\n",
       "    }\n",
       "</style>\n",
       "<table border=\"1\" class=\"dataframe\">\n",
       "  <thead>\n",
       "    <tr style=\"text-align: right;\">\n",
       "      <th></th>\n",
       "      <th>Value</th>\n",
       "      <th>seconds</th>\n",
       "      <th>SensorId</th>\n",
       "      <th>Type</th>\n",
       "    </tr>\n",
       "  </thead>\n",
       "  <tbody>\n",
       "    <tr>\n",
       "      <th>0</th>\n",
       "      <td>17.6364</td>\n",
       "      <td>0.000</td>\n",
       "      <td>41</td>\n",
       "      <td>0</td>\n",
       "    </tr>\n",
       "    <tr>\n",
       "      <th>1</th>\n",
       "      <td>16.6956</td>\n",
       "      <td>0.007</td>\n",
       "      <td>44</td>\n",
       "      <td>0</td>\n",
       "    </tr>\n",
       "    <tr>\n",
       "      <th>2</th>\n",
       "      <td>45.7037</td>\n",
       "      <td>0.092</td>\n",
       "      <td>41</td>\n",
       "      <td>1</td>\n",
       "    </tr>\n",
       "    <tr>\n",
       "      <th>3</th>\n",
       "      <td>2.3000</td>\n",
       "      <td>0.237</td>\n",
       "      <td>44</td>\n",
       "      <td>2</td>\n",
       "    </tr>\n",
       "  </tbody>\n",
       "</table>\n",
       "</div>"
      ],
      "text/plain": [
       "     Value  seconds  SensorId  Type\n",
       "0  17.6364    0.000        41     0\n",
       "1  16.6956    0.007        44     0\n",
       "2  45.7037    0.092        41     1\n",
       "3   2.3000    0.237        44     2"
      ]
     },
     "execution_count": 20,
     "metadata": {},
     "output_type": "execute_result"
    }
   ],
   "source": [
    "data[0:4]"
   ]
  },
  {
   "cell_type": "markdown",
   "metadata": {},
   "source": [
    "### Select temperature data from sensor 1"
   ]
  },
  {
   "cell_type": "code",
   "execution_count": 21,
   "metadata": {
    "collapsed": true
   },
   "outputs": [],
   "source": [
    "temp=data[(data.SensorId==1) & (data.Type==0)]\n",
    "temp=temp.reset_index(drop=True)"
   ]
  },
  {
   "cell_type": "code",
   "execution_count": 22,
   "metadata": {},
   "outputs": [
    {
     "data": {
      "text/html": [
       "<div>\n",
       "<style>\n",
       "    .dataframe thead tr:only-child th {\n",
       "        text-align: right;\n",
       "    }\n",
       "\n",
       "    .dataframe thead th {\n",
       "        text-align: left;\n",
       "    }\n",
       "\n",
       "    .dataframe tbody tr th {\n",
       "        vertical-align: top;\n",
       "    }\n",
       "</style>\n",
       "<table border=\"1\" class=\"dataframe\">\n",
       "  <thead>\n",
       "    <tr style=\"text-align: right;\">\n",
       "      <th></th>\n",
       "      <th>Value</th>\n",
       "      <th>seconds</th>\n",
       "      <th>SensorId</th>\n",
       "      <th>Type</th>\n",
       "    </tr>\n",
       "  </thead>\n",
       "  <tbody>\n",
       "    <tr>\n",
       "      <th>0</th>\n",
       "      <td>19.2436</td>\n",
       "      <td>79.124</td>\n",
       "      <td>1</td>\n",
       "      <td>0</td>\n",
       "    </tr>\n",
       "    <tr>\n",
       "      <th>1</th>\n",
       "      <td>19.2240</td>\n",
       "      <td>169.155</td>\n",
       "      <td>1</td>\n",
       "      <td>0</td>\n",
       "    </tr>\n",
       "    <tr>\n",
       "      <th>2</th>\n",
       "      <td>19.2142</td>\n",
       "      <td>200.931</td>\n",
       "      <td>1</td>\n",
       "      <td>0</td>\n",
       "    </tr>\n",
       "  </tbody>\n",
       "</table>\n",
       "</div>"
      ],
      "text/plain": [
       "     Value  seconds  SensorId  Type\n",
       "0  19.2436   79.124         1     0\n",
       "1  19.2240  169.155         1     0\n",
       "2  19.2142  200.931         1     0"
      ]
     },
     "execution_count": 22,
     "metadata": {},
     "output_type": "execute_result"
    }
   ],
   "source": [
    "temp[:3]"
   ]
  },
  {
   "cell_type": "code",
   "execution_count": 23,
   "metadata": {},
   "outputs": [
    {
     "data": {
      "text/html": [
       "<div>\n",
       "<style>\n",
       "    .dataframe thead tr:only-child th {\n",
       "        text-align: right;\n",
       "    }\n",
       "\n",
       "    .dataframe thead th {\n",
       "        text-align: left;\n",
       "    }\n",
       "\n",
       "    .dataframe tbody tr th {\n",
       "        vertical-align: top;\n",
       "    }\n",
       "</style>\n",
       "<table border=\"1\" class=\"dataframe\">\n",
       "  <thead>\n",
       "    <tr style=\"text-align: right;\">\n",
       "      <th></th>\n",
       "      <th>Value</th>\n",
       "      <th>seconds</th>\n",
       "      <th>SensorId</th>\n",
       "      <th>Type</th>\n",
       "    </tr>\n",
       "  </thead>\n",
       "  <tbody>\n",
       "    <tr>\n",
       "      <th>43044</th>\n",
       "      <td>122.153</td>\n",
       "      <td>2695791.517</td>\n",
       "      <td>1</td>\n",
       "      <td>0</td>\n",
       "    </tr>\n",
       "    <tr>\n",
       "      <th>43045</th>\n",
       "      <td>121.526</td>\n",
       "      <td>2695821.420</td>\n",
       "      <td>1</td>\n",
       "      <td>0</td>\n",
       "    </tr>\n",
       "    <tr>\n",
       "      <th>43046</th>\n",
       "      <td>121.997</td>\n",
       "      <td>2696386.581</td>\n",
       "      <td>1</td>\n",
       "      <td>0</td>\n",
       "    </tr>\n",
       "  </tbody>\n",
       "</table>\n",
       "</div>"
      ],
      "text/plain": [
       "         Value      seconds  SensorId  Type\n",
       "43044  122.153  2695791.517         1     0\n",
       "43045  121.526  2695821.420         1     0\n",
       "43046  121.997  2696386.581         1     0"
      ]
     },
     "execution_count": 23,
     "metadata": {},
     "output_type": "execute_result"
    }
   ],
   "source": [
    "temp[-3:]"
   ]
  },
  {
   "cell_type": "markdown",
   "metadata": {},
   "source": [
    "### Create  Kafka producer"
   ]
  },
  {
   "cell_type": "code",
   "execution_count": 24,
   "metadata": {
    "collapsed": true
   },
   "outputs": [],
   "source": [
    "producer = KafkaProducer(bootstrap_servers='localhost:9092')"
   ]
  },
  {
   "cell_type": "markdown",
   "metadata": {},
   "source": [
    "### Stream data\n",
    "\n",
    "We simulate the streaming of data by sending every five seconds the set of measurements collected during one day. This allows to speed up the simulation (for 8 days - from 28/02/2017 to 7/03/2017: 8*10=80 seconds).\n"
   ]
  },
  {
   "cell_type": "code",
   "execution_count": 25,
   "metadata": {},
   "outputs": [
    {
     "name": "stdout",
     "output_type": "stream",
     "text": [
      "Time to send 3045 measurements (day 0 ) : 1.2826039791107178\n",
      "Time to send 1921 measurements (day 1 ) : 1.5361659526824951\n",
      "Time to send 2008 measurements (day 2 ) : 1.6112830638885498\n",
      "Time to send 1868 measurements (day 3 ) : 1.085927963256836\n",
      "Time to send 1741 measurements (day 4 ) : 0.9700911045074463\n",
      "Time to send 1824 measurements (day 5 ) : 1.0864019393920898\n",
      "Time to send 2049 measurements (day 6 ) : 1.159409761428833\n",
      "Time to send 2136 measurements (day 7 ) : 1.0455598831176758\n"
     ]
    }
   ],
   "source": [
    "interval=10\n",
    "\n",
    "#Start at relative day 0 (2017-02-28)\n",
    "day=0\n",
    "\n",
    "#For synchronization with receiver (for the sake of the simulation), starts at a number of seconds multiple of 'interval'\n",
    "current_time=time.time()\n",
    "time_to_wait=interval-current_time%interval\n",
    "time.sleep(time_to_wait)\n",
    "\n",
    "#Loop for sending messages to Kafka with the topic persistence\n",
    "for day in range(0,8):\n",
    "    \n",
    "    time_start=time.time()\n",
    "    \n",
    "    #Select sensor measurements for the corresponding relative day\n",
    "    data_current_day=temp[(temp.seconds>=day*86400) & (temp.seconds<(day+1)*86400)]\n",
    "    data_current_day=data_current_day.dropna()\n",
    "    #For all measurements in that hour\n",
    "    for i in range(len(data_current_day)):\n",
    "        #Get data\n",
    "        current_data=list(data_current_day.iloc[i])\n",
    "        #Transform list to string\n",
    "        message=str(current_data)\n",
    "        #Send\n",
    "        producer.send('persistence',message.encode())\n",
    "    \n",
    "    time_to_send=time.time()-time_start\n",
    "    print(\"Time to send \"+str(len(data_current_day))+\" measurements (day \"+str(day)+\" ) : \"+str(time_to_send))\n",
    "\n",
    "    day=day+1\n",
    "    \n",
    "    time.sleep(interval-time_to_send)"
   ]
  },
  {
   "cell_type": "code",
   "execution_count": null,
   "metadata": {
    "collapsed": true
   },
   "outputs": [],
   "source": []
  }
 ],
 "metadata": {
  "kernelspec": {
   "display_name": "Python 3",
   "language": "python",
   "name": "python3"
  },
  "language_info": {
   "codemirror_mode": {
    "name": "ipython",
    "version": 3
   },
   "file_extension": ".py",
   "mimetype": "text/x-python",
   "name": "python",
   "nbconvert_exporter": "python",
   "pygments_lexer": "ipython3",
   "version": "3.6.1"
  }
 },
 "nbformat": 4,
 "nbformat_minor": 1
}
